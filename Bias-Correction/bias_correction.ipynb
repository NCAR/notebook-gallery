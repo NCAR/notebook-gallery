{
 "cells": [
  {
   "cell_type": "markdown",
   "metadata": {},
   "source": [
    "## Set up Workspace"
   ]
  },
  {
   "cell_type": "markdown",
   "metadata": {},
   "source": [
    "### Steps\n",
    "\n",
    "1. Read in data\n",
    "2. Regrid to 0.25 deg Lat-Lon grid\n",
    "3. Align time\n",
    "4. Bias Correct\n",
    "5. Awaiting comparison to code in R"
   ]
  },
  {
   "cell_type": "code",
   "execution_count": 1,
   "metadata": {},
   "outputs": [],
   "source": [
    "import xarray as xr\n",
    "import numpy as np\n",
    "import matplotlib.pyplot as plt\n",
    "from matplotlib import colors\n",
    "from scipy import interpolate, stats\n",
    "import xesmf as xe\n",
    "import pandas as pd\n",
    "from calendar import isleap\n",
    "from dateutil import relativedelta as rd\n",
    "from datetime import datetime, timedelta\n",
    "import cftime\n",
    "import yaml\n",
    "import pandas as pd"
   ]
  },
  {
   "cell_type": "code",
   "execution_count": 2,
   "metadata": {},
   "outputs": [],
   "source": [
    "%matplotlib inline\n",
    "\n",
    "class MidpointNormalize(colors.Normalize):\n",
    "    def __init__(self, vmin=None, vmax=None, midpoint=None, clip=False):\n",
    "        self.midpoint = midpoint\n",
    "        colors.Normalize.__init__(self, vmin, vmax, clip)\n",
    "\n",
    "    def __call__(self, value, clip=None):\n",
    "        x, y = [self.vmin, self.midpoint, self.vmax], [0, 0.5, 1]\n",
    "        return np.ma.masked_array(np.interp(value, x, y))"
   ]
  },
  {
   "cell_type": "code",
   "execution_count": 3,
   "metadata": {},
   "outputs": [],
   "source": [
    "var = 'uas'"
   ]
  },
  {
   "cell_type": "markdown",
   "metadata": {},
   "source": [
    "## Look at Data"
   ]
  },
  {
   "cell_type": "code",
   "execution_count": 4,
   "metadata": {},
   "outputs": [],
   "source": [
    "hist_file = '../../Seth Comparison/uas.hist.CanESM2.CRCM5-UQAM.day.NAM-44i.raw.nc'\n",
    "ds_hist = xr.open_dataset(hist_file)"
   ]
  },
  {
   "cell_type": "code",
   "execution_count": 5,
   "metadata": {},
   "outputs": [
    {
     "data": {
      "text/plain": [
       "<xarray.Dataset>\n",
       "Dimensions:    (bnds: 2, lat: 129, lon: 300, time: 20440)\n",
       "Coordinates:\n",
       "  * time       (time) object 1950-01-01 12:00:00 ... 2005-12-31 12:00:00\n",
       "  * lat        (lat) float64 12.25 12.75 13.25 13.75 ... 74.75 75.25 75.75 76.25\n",
       "  * lon        (lon) float64 -171.8 -171.2 -170.8 ... -23.25 -22.75 -22.25\n",
       "Dimensions without coordinates: bnds\n",
       "Data variables:\n",
       "    uas        (time, lat, lon) float32 ...\n",
       "    time_bnds  (time, bnds) object ...\n",
       "Attributes:\n",
       "    Conventions:                    CF-1.4\n",
       "    institution:                    Universite du Quebec a Montreal\n",
       "    contact:                        Winger.Katja@uqam.ca\n",
       "    comment:                        CORDEX North America CRCM5 v333 0.44 deg ...\n",
       "    model:                          CRCM5 (dynamics GEM v_3.3.3, physics RPN ...\n",
       "    model_grid:                     rotated lat-lon 236x241 incl. 10p pilot a...\n",
       "    geophysical_fields:             orography: USGS / land use cover: USGS / ...\n",
       "    physics:                        land: CLASS3.5+, 26L, bottom at 60m / lak...\n",
       "    forcing:                        GHG: CO2,CH4,N2O,CFC11,effective CFC12\n",
       "    creation_date:                  2012-09-06\n",
       "    experiment:                     historical\n",
       "    experiment_id:                  historical\n",
       "    driving_model_ensemble_member:  r1i1p1\n",
       "    driving_experiment_name:        historical\n",
       "    frequency:                      day\n",
       "    institute_id:                   UQAM\n",
       "    rcm_version_id:                 v1\n",
       "    project_id:                     CORDEX\n",
       "    CORDEX_domain:                  NAM-44\n",
       "    product:                        output\n",
       "    references:                     http://www.mrcc.uqam.ca\n",
       "    history:                        Fri Mar 29 14:03:34 2019: ncrcat -O -o /g...\n",
       "    NCO:                            netCDF Operators version 4.7.4 (http://nc...\n",
       "    model_id:                       UQAM-CRCM5\n",
       "    driving_experiment:             CCCma-CanESM2,historical,r1i1p1\n",
       "    driving_model_id:               CCCma-CanESM2\n",
       "    history_of_appended_files:      Wed Sep  5 00:03:57 2018: Appended file t...\n",
       "    tracking_id:                    5718ce6b-2ffb-4efb-9b49-f123e4184106\n",
       "    nco_openmp_thread_number:       1\n",
       "    id:                             doi:10.5065/D6SJ1JCH\n",
       "    title:                          NA-CORDEX Raw NAM-44i CRCM5-UQAM CanESM2 ...\n",
       "    version:                        1.0"
      ]
     },
     "execution_count": 5,
     "metadata": {},
     "output_type": "execute_result"
    }
   ],
   "source": [
    "ds_hist"
   ]
  },
  {
   "cell_type": "code",
   "execution_count": 8,
   "metadata": {},
   "outputs": [
    {
     "data": {
      "image/png": "[encoded data removed]",
      "text/plain": [
       "<Figure size 432x288 with 2 Axes>"
      ]
     },
     "metadata": {
      "needs_background": "light"
     },
     "output_type": "display_data"
    }
   ],
   "source": [
    "plt.contourf(ds_hist.lon, ds_hist.lat, ds_hist[var].isel(time=0), norm=MidpointNormalize(midpoint=0.), cmap='PRGn')\n",
    "cbar = plt.colorbar()\n",
    "cbar.set_label('m / s', size=15)"
   ]
  },
  {
   "cell_type": "code",
   "execution_count": 9,
   "metadata": {},
   "outputs": [],
   "source": [
    "rcp85_file = '../../Seth Comparison/uas.rcp85.CanESM2.CRCM5-UQAM.day.NAM-44i.raw.nc'\n",
    "ds_rcp85 = xr.open_dataset(hist_file)"
   ]
  },
  {
   "cell_type": "code",
   "execution_count": 10,
   "metadata": {},
   "outputs": [
    {
     "data": {
      "text/plain": [
       "<xarray.Dataset>\n",
       "Dimensions:    (bnds: 2, lat: 129, lon: 300, time: 20440)\n",
       "Coordinates:\n",
       "  * time       (time) object 1950-01-01 12:00:00 ... 2005-12-31 12:00:00\n",
       "  * lat        (lat) float64 12.25 12.75 13.25 13.75 ... 74.75 75.25 75.75 76.25\n",
       "  * lon        (lon) float64 -171.8 -171.2 -170.8 ... -23.25 -22.75 -22.25\n",
       "Dimensions without coordinates: bnds\n",
       "Data variables:\n",
       "    uas        (time, lat, lon) float32 ...\n",
       "    time_bnds  (time, bnds) object ...\n",
       "Attributes:\n",
       "    Conventions:                    CF-1.4\n",
       "    institution:                    Universite du Quebec a Montreal\n",
       "    contact:                        Winger.Katja@uqam.ca\n",
       "    comment:                        CORDEX North America CRCM5 v333 0.44 deg ...\n",
       "    model:                          CRCM5 (dynamics GEM v_3.3.3, physics RPN ...\n",
       "    model_grid:                     rotated lat-lon 236x241 incl. 10p pilot a...\n",
       "    geophysical_fields:             orography: USGS / land use cover: USGS / ...\n",
       "    physics:                        land: CLASS3.5+, 26L, bottom at 60m / lak...\n",
       "    forcing:                        GHG: CO2,CH4,N2O,CFC11,effective CFC12\n",
       "    creation_date:                  2012-09-06\n",
       "    experiment:                     historical\n",
       "    experiment_id:                  historical\n",
       "    driving_model_ensemble_member:  r1i1p1\n",
       "    driving_experiment_name:        historical\n",
       "    frequency:                      day\n",
       "    institute_id:                   UQAM\n",
       "    rcm_version_id:                 v1\n",
       "    project_id:                     CORDEX\n",
       "    CORDEX_domain:                  NAM-44\n",
       "    product:                        output\n",
       "    references:                     http://www.mrcc.uqam.ca\n",
       "    history:                        Fri Mar 29 14:03:34 2019: ncrcat -O -o /g...\n",
       "    NCO:                            netCDF Operators version 4.7.4 (http://nc...\n",
       "    model_id:                       UQAM-CRCM5\n",
       "    driving_experiment:             CCCma-CanESM2,historical,r1i1p1\n",
       "    driving_model_id:               CCCma-CanESM2\n",
       "    history_of_appended_files:      Wed Sep  5 00:03:57 2018: Appended file t...\n",
       "    tracking_id:                    5718ce6b-2ffb-4efb-9b49-f123e4184106\n",
       "    nco_openmp_thread_number:       1\n",
       "    id:                             doi:10.5065/D6SJ1JCH\n",
       "    title:                          NA-CORDEX Raw NAM-44i CRCM5-UQAM CanESM2 ...\n",
       "    version:                        1.0"
      ]
     },
     "execution_count": 10,
     "metadata": {},
     "output_type": "execute_result"
    }
   ],
   "source": [
    "ds_rcp85"
   ]
  },
  {
   "cell_type": "code",
   "execution_count": 25,
   "metadata": {},
   "outputs": [
    {
     "data": {
      "image/png": "[encoded data removed]",
      "text/plain": [
       "<Figure size 432x288 with 2 Axes>"
      ]
     },
     "metadata": {
      "needs_background": "light"
     },
     "output_type": "display_data"
    }
   ],
   "source": [
    "plt.contourf(ds_rcp85.lon, ds_rcp85.lat, ds_rcp85[var].isel(time=0), norm=MidpointNormalize(midpoint=0.), cmap='PRGn')\n",
    "cbar = plt.colorbar()\n",
    "cbar.set_label('m / s', size=15)"
   ]
  },
  {
   "cell_type": "code",
   "execution_count": 12,
   "metadata": {},
   "outputs": [],
   "source": [
    "meas_file = '../../Seth Comparison/uas.gridMET.NAM-44i.nc'\n",
    "ds_meas = xr.open_dataset(meas_file)"
   ]
  },
  {
   "cell_type": "code",
   "execution_count": 13,
   "metadata": {},
   "outputs": [
    {
     "data": {
      "text/plain": [
       "<xarray.Dataset>\n",
       "Dimensions:      (bnds: 2, lat: 129, lon: 300, time: 13880)\n",
       "Coordinates:\n",
       "  * time         (time) datetime64[ns] 1979-01-01T19:00:00 ... 2016-12-31T19:00:00\n",
       "  * lat          (lat) float64 12.25 12.75 13.25 13.75 ... 75.25 75.75 76.25\n",
       "  * lon          (lon) float64 -171.8 -171.2 -170.8 ... -23.25 -22.75 -22.25\n",
       "Dimensions without coordinates: bnds\n",
       "Data variables:\n",
       "    uas          (time, lat, lon) float32 ...\n",
       "    lat_bnds     (lat, bnds) float32 ...\n",
       "    lon_bnds     (lon, bnds) float32 ...\n",
       "    crs          int32 ...\n",
       "    data_status  (time) int8 ...\n",
       "    time_bnds    (time, bnds) datetime64[ns] ...\n",
       "Attributes:\n",
       "    author:                    John Abatzoglou - University of Idaho, jabatzo...\n",
       "    creation_date:             10 March 2016\n",
       "    Conventions:               CF-1.6\n",
       "    title:                     gridMET gridded surface meteorological data\n",
       "    institution:               University of Idaho\n",
       "    contact:                   John Abatzoglou, jabatzoglou@uidaho.edu\n",
       "    URL:                       http://www.climatologylab.org/gridmet.html\n",
       "    references:                Abatzoglou, J.T., 2012, Development of gridded...\n",
       "    source:                    gridMET combines data from PRISM and NLDAS-2 a...\n",
       "    acknowledgements:          CF compliance by Seth McGinnis, mcginnis@ucar.edu\n",
       "    uuid:                      82c7e638-7fb7-4a0d-bcef-c2d18a69f8fa\n",
       "    history:                   Fri Aug 30 15:00:15 2019: ncrcat -n 38,4,1 uas...\n",
       "    NCO:                       netCDF Operators version 4.7.4 (http://nco.sf....\n",
       "    tracking_id:               da9158a7-73d3-4e74-aeaf-c0f7d0433508\n",
       "    nco_openmp_thread_number:  1"
      ]
     },
     "execution_count": 13,
     "metadata": {},
     "output_type": "execute_result"
    }
   ],
   "source": [
    "ds_meas"
   ]
  },
  {
   "cell_type": "code",
   "execution_count": 14,
   "metadata": {},
   "outputs": [
    {
     "data": {
      "image/png": "[encoded data removed]",
      "text/plain": [
       "<Figure size 432x288 with 2 Axes>"
      ]
     },
     "metadata": {
      "needs_background": "light"
     },
     "output_type": "display_data"
    }
   ],
   "source": [
    "plt.contourf(ds_meas.lon, ds_meas.lat, ds_meas[var].isel(time=0), norm=MidpointNormalize(midpoint=0.), cmap='PRGn')\n",
    "cbar = plt.colorbar()\n",
    "cbar.set_label('m / s', size=15)"
   ]
  },
  {
   "cell_type": "markdown",
   "metadata": {},
   "source": [
    "## Filter Data\n",
    "Here you would also regrid data if necessary!"
   ]
  },
  {
   "cell_type": "code",
   "execution_count": 32,
   "metadata": {},
   "outputs": [],
   "source": [
    "wesn = [-110, -102, 37, 41] #Limit to Size of Colorado"
   ]
  },
  {
   "cell_type": "code",
   "execution_count": 21,
   "metadata": {},
   "outputs": [],
   "source": [
    "ds_meas_flt = ds_meas.sel(lon = slice(wesn[0], wesn[1]),lat = slice(wesn[2], wesn[3]))\n",
    "ds_hist_flt = ds_hist.sel(lon = slice(wesn[0], wesn[1]),lat = slice(wesn[2], wesn[3]))\n",
    "ds_rcp85_flt = ds_rcp85.sel(lon = slice(wesn[0], wesn[1]),lat = slice(wesn[2], wesn[3]))"
   ]
  },
  {
   "cell_type": "code",
   "execution_count": 22,
   "metadata": {},
   "outputs": [
    {
     "data": {
      "image/png": "[encoded data removed]",
      "text/plain": [
       "<Figure size 432x288 with 2 Axes>"
      ]
     },
     "metadata": {
      "needs_background": "light"
     },
     "output_type": "display_data"
    }
   ],
   "source": [
    "plt.contourf(ds_meas_flt.lon, ds_meas_flt.lat, ds_meas_flt[var].isel(time=0), norm=MidpointNormalize(midpoint=0.), cmap='PRGn')\n",
    "cbar = plt.colorbar()\n",
    "cbar.set_label('m / s', size=15)"
   ]
  },
  {
   "cell_type": "code",
   "execution_count": 26,
   "metadata": {},
   "outputs": [
    {
     "data": {
      "image/png": "[encoded data removed]",
      "text/plain": [
       "<Figure size 432x288 with 2 Axes>"
      ]
     },
     "metadata": {
      "needs_background": "light"
     },
     "output_type": "display_data"
    }
   ],
   "source": [
    "plt.contourf(ds_hist_flt.lon, ds_hist_flt.lat, ds_hist_flt[var].isel(time=0), norm=MidpointNormalize(midpoint=0.), cmap='PRGn')\n",
    "cbar = plt.colorbar()\n",
    "cbar.set_label('m / s', size=15)"
   ]
  },
  {
   "cell_type": "code",
   "execution_count": 27,
   "metadata": {},
   "outputs": [
    {
     "data": {
      "image/png": "[encoded data removed]",
      "text/plain": [
       "<Figure size 432x288 with 2 Axes>"
      ]
     },
     "metadata": {
      "needs_background": "light"
     },
     "output_type": "display_data"
    }
   ],
   "source": [
    "plt.contourf(ds_rcp85_flt.lon, ds_rcp85_flt.lat, ds_rcp85_flt[var].isel(time=0), norm=MidpointNormalize(midpoint=0.), cmap='PRGn')\n",
    "cbar = plt.colorbar()\n",
    "cbar.set_label('m / s', size=15)"
   ]
  },
  {
   "cell_type": "raw",
   "metadata": {},
   "source": [
    "def _get_newgrid(ds, wesn):\n",
    "    grid = 0.25\n",
    "    wesn_g = [int(round(i * 4)) / 4 for i in wesn]\n",
    "\n",
    "    new_lon = np.arange(wesn_g[0],wesn_g[1], grid)\n",
    "    new_lat = np.arange(wesn_g[2], wesn_g[3]+grid, grid)\n",
    "\n",
    "    newgrid = xr.Dataset({'lat': (['lat'], new_lat), 'lon': (['lon'], new_lon)})\n",
    "    return newgrid\n",
    "\n",
    "def _regrid(ds, newgrid, method='bilinear'):\n",
    "    regridder_ds = xe.Regridder(ds, newgrid, method)\n",
    "    ds_rgrd = regridder_ds(ds[var])\n",
    "    return ds_rgrd"
   ]
  },
  {
   "cell_type": "markdown",
   "metadata": {},
   "source": [
    "## Align Time\n",
    "\n",
    "There are many options for dealing with leap years. Here we drop December 31st every leap year (whenever there is a 366th day of the year drop it), but for some variables other methods might be preferable. "
   ]
  },
  {
   "cell_type": "code",
   "execution_count": 28,
   "metadata": {},
   "outputs": [],
   "source": [
    "ds_meas_noleap = ds_meas_flt.sel(time=~((ds_meas_flt.time.dt.dayofyear == 366) ))"
   ]
  },
  {
   "cell_type": "code",
   "execution_count": 29,
   "metadata": {},
   "outputs": [],
   "source": [
    "def _cfnoleap_to_datetime(da):\n",
    "    datetimeindex = da.indexes['time'].to_datetimeindex()\n",
    "    ds = da#.to_dataset()\n",
    "    ds['time_dt']= ('time', datetimeindex)\n",
    "    ds = ds.swap_dims({'time': 'time_dt'})\n",
    "    assert len(da.time) == len(ds.time_dt)\n",
    "    return ds"
   ]
  },
  {
   "cell_type": "code",
   "execution_count": 30,
   "metadata": {},
   "outputs": [
    {
     "name": "stderr",
     "output_type": "stream",
     "text": [
      "/anaconda3/lib/python3.7/site-packages/ipykernel_launcher.py:2: RuntimeWarning: Converting a CFTimeIndex with dates from a non-standard calendar, 'noleap', to a pandas.DatetimeIndex, which uses dates from the standard calendar.  This may lead to subtle errors in operations that depend on the length of time between dates.\n",
      "  \n"
     ]
    }
   ],
   "source": [
    "ds_hist_dt = _cfnoleap_to_datetime(ds_hist_flt)   "
   ]
  },
  {
   "cell_type": "code",
   "execution_count": 31,
   "metadata": {},
   "outputs": [
    {
     "name": "stderr",
     "output_type": "stream",
     "text": [
      "/anaconda3/lib/python3.7/site-packages/ipykernel_launcher.py:2: RuntimeWarning: Converting a CFTimeIndex with dates from a non-standard calendar, 'noleap', to a pandas.DatetimeIndex, which uses dates from the standard calendar.  This may lead to subtle errors in operations that depend on the length of time between dates.\n",
      "  \n"
     ]
    }
   ],
   "source": [
    "ds_rcp85_dt = _cfnoleap_to_datetime(ds_rcp85_flt)  "
   ]
  },
  {
   "cell_type": "code",
   "execution_count": 33,
   "metadata": {},
   "outputs": [],
   "source": [
    "def _regroup_models_bytime(ds_meas, ds_hist_dt, ds_rcp_dt):\n",
    "    t0_meas = ds_meas.time[0]\n",
    "    tn_meas = ds_meas.time[-1]\n",
    "    t0_fut = tn_meas.values + np.timedelta64(1, 'D')\n",
    "    \n",
    "    ds_past = ds_hist_dt.sel(time_dt = slice(t0_meas, tn_meas))\n",
    "    ds_past = ds_past.swap_dims({'time_dt':'time'})\n",
    "    \n",
    "    ds_fut_pt1 = ds_hist_dt.sel(time_dt = slice(t0_fut,None))\n",
    "    ds_fut = xr.concat([ds_fut_pt1[var], ds_rcp_dt[var]], 'time_dt')\n",
    "    ds_fut = ds_fut.swap_dims({'time_dt':'time'})\n",
    "    return ds_past, ds_fut"
   ]
  },
  {
   "cell_type": "code",
   "execution_count": 34,
   "metadata": {},
   "outputs": [],
   "source": [
    "ds_past, ds_fut = _regroup_models_bytime(ds_meas_noleap, ds_hist_dt, ds_rcp85_dt)"
   ]
  },
  {
   "cell_type": "markdown",
   "metadata": {},
   "source": [
    "## Bias Correction\n",
    "\n",
    "Things to be added to this section:   \n",
    "- Bias correction methods other than zscore:\n",
    "    - scale (for wind speed, wave flux in air)\n",
    "    - log (for precipitation)\n",
    "    - range (relative humidity)\n",
    "    - seth mcginnes's kddm (for any bimodal distributions)"
   ]
  },
  {
   "cell_type": "code",
   "execution_count": 67,
   "metadata": {},
   "outputs": [],
   "source": [
    "def _reshape(ds, window_width):\n",
    "    split = lambda g: (g.rename({'time': 'day'})\n",
    "                       .assign_coords(day=g.time.dt.dayofyear.values))\n",
    "    ds2 = ds.groupby('time.year').apply(split)\n",
    "    \n",
    "    early_Jans = ds2.isel(day = slice(None,window_width//2))\n",
    "    late_Decs = ds2.isel(day = slice(-window_width//2,None))\n",
    "    \n",
    "    ds3 = xr.concat([late_Decs,ds2,early_Jans],dim='day')\n",
    "    return ds3\n",
    "\n",
    "def _calc_stats(ds, window_width):\n",
    "    ds_rsh = _reshape(ds, window_width)\n",
    "    \n",
    "    ds_rolled = ds_rsh.rolling(day=window_width, center=True).construct('win_day')\n",
    "    \n",
    "    n = window_width//2+1\n",
    "    ds_mean = ds_rolled.mean(dim=['year','win_day']).isel(day=slice(n,-n))\n",
    "    ds_std = ds_rolled.std(dim=['year','win_day']).isel(day=slice(n,-n))\n",
    "    \n",
    "    ds_avyear = ds_rsh.mean(dim=['year','day'])\n",
    "    ds_zscore = ((ds_avyear - ds_mean) / ds_std)\n",
    "    return ds_mean, ds_std, ds_zscore\n",
    "\n",
    "def _calc_fut_stats(ds_fut, window_width):\n",
    "    ds_rolled = ds_fut.rolling(time=window_width, center=True).construct('win_day')\n",
    "    \n",
    "    ds_mean = ds_rolled.mean(dim=['win_day'])\n",
    "    ds_std = ds_rolled.std(dim=['win_day'])\n",
    "    \n",
    "    ds_avyear = ds_fut.mean(dim=['time'])\n",
    "    ds_zscore = ((ds_avyear - ds_mean) / ds_std)\n",
    "    return ds_mean, ds_std, ds_zscore"
   ]
  },
  {
   "cell_type": "code",
   "execution_count": 106,
   "metadata": {},
   "outputs": [],
   "source": [
    "window_width=31\n",
    "\n",
    "meas_mean, meas_std, meas_zscore = _calc_stats(ds_meas_noleap, window_width)\n",
    "hist_mean, hist_std, hist_zscore = _calc_stats(ds_past, window_width)\n",
    "fut_typ_mean, fut_typ_std, fut_typ_zscore = _calc_stats(ds_fut, window_width)"
   ]
  },
  {
   "cell_type": "code",
   "execution_count": 91,
   "metadata": {},
   "outputs": [],
   "source": [
    "fut_mean, fut_std, fut_zscore = _calc_fut_stats(ds_fut, window_width)"
   ]
  },
  {
   "cell_type": "code",
   "execution_count": 92,
   "metadata": {},
   "outputs": [],
   "source": [
    "def _get_params(meas_mean, meas_std, past_mean, past_std):    \n",
    "    shift = meas_mean - past_mean\n",
    "    scale = meas_std / past_std\n",
    "    return shift, scale\n",
    "\n",
    "shift, scale = _get_params(meas_mean, meas_std, hist_mean, hist_std)"
   ]
  },
  {
   "cell_type": "code",
   "execution_count": 93,
   "metadata": {},
   "outputs": [],
   "source": [
    "fut_mean_bc = fut_mean + shift\n",
    "fut_std_bc = fut_std * scale\n",
    "\n",
    "fut_corrected = (fut_zscore * fut_std_bc) + fut_mean_bc"
   ]
  },
  {
   "cell_type": "code",
   "execution_count": 113,
   "metadata": {},
   "outputs": [],
   "source": [
    "fut_typ_mean_bc = fut_typ_mean + shift\n",
    "fut_typ_std_bc = fut_typ_std * scale"
   ]
  },
  {
   "cell_type": "code",
   "execution_count": 102,
   "metadata": {},
   "outputs": [
    {
     "data": {
      "text/plain": [
       "<xarray.DataArray 'uas' (day: 364, lat: 8, lon: 16)>\n",
       "array([[[0.29484 , 0.262617, ..., 1.586784, 1.53362 ],\n",
       "        [0.27244 , 0.341796, ..., 1.43937 , 1.417508],\n",
       "        ...,\n",
       "        [0.774677, 0.443943, ..., 2.056974, 2.151886],\n",
       "        [0.752915, 0.696045, ..., 2.153647, 2.220504]],\n",
       "\n",
       "       [[0.299096, 0.261314, ..., 1.588901, 1.534766],\n",
       "        [0.276454, 0.341347, ..., 1.432298, 1.410903],\n",
       "        ...,\n",
       "        [0.769977, 0.43686 , ..., 2.03611 , 2.130305],\n",
       "        [0.749213, 0.6883  , ..., 2.133954, 2.20066 ]],\n",
       "\n",
       "       ...,\n",
       "\n",
       "       [[0.284591, 0.258228, ..., 1.628101, 1.577353],\n",
       "        [0.274235, 0.346178, ..., 1.498606, 1.477206],\n",
       "        ...,\n",
       "        [0.789603, 0.458755, ..., 2.143934, 2.237256],\n",
       "        [0.769435, 0.715118, ..., 2.237214, 2.305357]],\n",
       "\n",
       "       [[0.285297, 0.253814, ..., 1.609528, 1.554371],\n",
       "        [0.271246, 0.340516, ..., 1.474163, 1.447954],\n",
       "        ...,\n",
       "        [0.792469, 0.460969, ..., 2.118936, 2.216418],\n",
       "        [0.766953, 0.714598, ..., 2.215286, 2.286954]]], dtype=float32)\n",
       "Coordinates:\n",
       "  * lat      (lat) float64 37.25 37.75 38.25 38.75 39.25 39.75 40.25 40.75\n",
       "  * lon      (lon) float64 -109.8 -109.2 -108.8 -108.2 ... -103.2 -102.8 -102.2\n",
       "  * day      (day) int64 1 2 3 4 5 6 7 8 9 ... 357 358 359 360 361 362 363 364"
      ]
     },
     "execution_count": 102,
     "metadata": {},
     "output_type": "execute_result"
    }
   ],
   "source": [
    "hist_mean[var]"
   ]
  },
  {
   "cell_type": "code",
   "execution_count": 108,
   "metadata": {},
   "outputs": [
    {
     "data": {
      "text/plain": [
       "<xarray.DataArray (time: 20440, lat: 8, lon: 16)>\n",
       "array([[[1.053501, 1.111329, ..., 2.208192, 2.340808],\n",
       "        [0.830818, 0.928433, ..., 2.1713  , 2.266445],\n",
       "        ...,\n",
       "        [1.063869, 0.943727, ..., 2.389834, 2.472305],\n",
       "        [0.79059 , 0.790936, ..., 2.718297, 2.786285]],\n",
       "\n",
       "       [[1.055462, 1.10227 , ..., 2.158875, 2.296626],\n",
       "        [0.82546 , 0.907492, ..., 2.14651 , 2.251899],\n",
       "        ...,\n",
       "        [1.032231, 0.943467, ..., 2.378624, 2.439418],\n",
       "        [0.768915, 0.767335, ..., 2.683819, 2.733351]],\n",
       "\n",
       "       ...,\n",
       "\n",
       "       [[0.94781 , 1.012255, ..., 1.232359, 1.23157 ],\n",
       "        [0.758141, 0.791967, ..., 1.157384, 1.400707],\n",
       "        ...,\n",
       "        [1.085436, 0.870309, ..., 2.007994, 2.266523],\n",
       "        [0.719467, 0.609133, ..., 2.105784, 2.252195]],\n",
       "\n",
       "       [[0.952804, 1.014192, ..., 1.266026, 1.269035],\n",
       "        [0.780719, 0.815242, ..., 1.192873, 1.443461],\n",
       "        ...,\n",
       "        [1.087388, 0.864707, ..., 2.049421, 2.295232],\n",
       "        [0.737172, 0.627711, ..., 2.142454, 2.268488]]], dtype=float32)\n",
       "Coordinates:\n",
       "  * lat      (lat) float64 37.25 37.75 38.25 38.75 39.25 39.75 40.25 40.75\n",
       "  * lon      (lon) float64 -109.8 -109.2 -108.8 -108.2 ... -103.2 -102.8 -102.2\n",
       "  * time     (time) object 1950-01-01 12:00:00 ... 2005-12-31 12:00:00\n",
       "    time_dt  (time) datetime64[ns] 1950-01-01T12:00:00 ... 2005-12-31T12:00:00"
      ]
     },
     "execution_count": 108,
     "metadata": {},
     "output_type": "execute_result"
    }
   ],
   "source": [
    "fut_std"
   ]
  },
  {
   "cell_type": "code",
   "execution_count": 111,
   "metadata": {},
   "outputs": [
    {
     "data": {
      "text/plain": [
       "<xarray.DataArray (lat: 8, lon: 16, day: 364)>\n",
       "array([[[0.308348, 0.312148, ..., 0.329927, 0.319646],\n",
       "        [0.263914, 0.266052, ..., 0.289125, 0.274968],\n",
       "        ...,\n",
       "        [1.583792, 1.586238, ..., 1.644365, 1.622133],\n",
       "        [1.524491, 1.529601, ..., 1.584505, 1.562347]],\n",
       "\n",
       "       [[0.290257, 0.292463, ..., 0.313156, 0.301528],\n",
       "        [0.348181, 0.347924, ..., 0.374401, 0.36054 ],\n",
       "        ...,\n",
       "        [1.423788, 1.420216, ..., 1.494012, 1.468464],\n",
       "        [1.398324, 1.397159, ..., 1.465574, 1.439154]],\n",
       "\n",
       "       ...,\n",
       "\n",
       "       [[0.864992, 0.8568  , ..., 0.896779, 0.89289 ],\n",
       "        [0.513457, 0.504597, ..., 0.54255 , 0.538885],\n",
       "        ...,\n",
       "        [2.041385, 2.027129, ..., 2.099935, 2.082026],\n",
       "        [2.13886 , 2.1215  , ..., 2.196898, 2.17979 ]],\n",
       "\n",
       "       [[0.805314, 0.800716, ..., 0.828225, 0.822744],\n",
       "        [0.761408, 0.755346, ..., 0.786862, 0.782389],\n",
       "        ...,\n",
       "        [2.146528, 2.130881, ..., 2.205305, 2.188615],\n",
       "        [2.203328, 2.185553, ..., 2.261682, 2.247254]]], dtype=float32)\n",
       "Coordinates:\n",
       "  * lat      (lat) float64 37.25 37.75 38.25 38.75 39.25 39.75 40.25 40.75\n",
       "  * lon      (lon) float64 -109.8 -109.2 -108.8 -108.2 ... -103.2 -102.8 -102.2\n",
       "  * day      (day) int64 1 2 3 4 5 6 7 8 9 ... 357 358 359 360 361 362 363 364"
      ]
     },
     "execution_count": 111,
     "metadata": {},
     "output_type": "execute_result"
    }
   ],
   "source": [
    "fut_typ_mean"
   ]
  },
  {
   "cell_type": "code",
   "execution_count": 96,
   "metadata": {},
   "outputs": [],
   "source": [
    "def gaus(mean, std, doy):\n",
    "    a = mean.sel(day=doy)\n",
    "    mu = a.isel(lon = 5, lat = 5)\n",
    "\n",
    "    b =std.sel(day=doy)\n",
    "    sigma = b.isel(lon = 5, lat = 5)\n",
    "\n",
    "    x = np.linspace(mu - 3*sigma, mu + 3*sigma, 100)\n",
    "    y = stats.norm.pdf(x, mu, sigma)\n",
    "    return x, y"
   ]
  },
  {
   "cell_type": "code",
   "execution_count": 114,
   "metadata": {},
   "outputs": [
    {
     "data": {
      "text/plain": [
       "<matplotlib.legend.Legend at 0x1c25ce7cc0>"
      ]
     },
     "execution_count": 114,
     "metadata": {},
     "output_type": "execute_result"
    },
    {
     "data": {
      "image/png": "[encoded data removed]",
      "text/plain": [
       "<Figure size 432x288 with 1 Axes>"
      ]
     },
     "metadata": {
      "needs_background": "light"
     },
     "output_type": "display_data"
    }
   ],
   "source": [
    "doy=20\n",
    "plt.figure()\n",
    "x,y = gaus(hist_mean[var], hist_std[var], doy)\n",
    "plt.plot(x, y, 'orange', label = 'historical model')\n",
    "x,y = gaus(meas_mean[var], meas_std[var], doy)\n",
    "plt.plot(x, y, 'red', label = 'measured')\n",
    "x,y = gaus(fut_typ_mean, fut_typ_std, doy)\n",
    "plt.plot(x, y, 'blue', label = 'raw future model')\n",
    "x,y = gaus(fut_typ_mean_bc[var], fut_typ_std_bc[var], doy)\n",
    "plt.plot(x, y, 'green', label = 'corrected future model')\n",
    "plt.legend()"
   ]
  },
  {
   "cell_type": "code",
   "execution_count": null,
   "metadata": {},
   "outputs": [],
   "source": []
  }
 ],
 "metadata": {
  "kernelspec": {
   "display_name": "Python 3",
   "language": "python",
   "name": "python3"
  },
  "language_info": {
   "codemirror_mode": {
    "name": "ipython",
    "version": 3
   },
   "file_extension": ".py",
   "mimetype": "text/x-python",
   "name": "python",
   "nbconvert_exporter": "python",
   "pygments_lexer": "ipython3",
   "version": "3.7.1"
  }
 },
 "nbformat": 4,
 "nbformat_minor": 2
}
