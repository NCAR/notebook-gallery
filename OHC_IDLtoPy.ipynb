{
 "cells": [
  {
   "cell_type": "markdown",
   "metadata": {},
   "source": [
    "Converting OHC code provided by John Fasullo to Python with xarray compatibility for use with Pangeo\n",
    "by Julia Kent \n",
    "2019"
   ]
  },
  {
   "cell_type": "code",
   "execution_count": 18,
   "metadata": {},
   "outputs": [],
   "source": [
    "#Import Modules\n",
    "import numpy as np"
   ]
  },
  {
   "cell_type": "markdown",
   "metadata": {},
   "source": [
    "Block 1 of IDL code:\n",
    "\n",
    "\n",
    "New variables introduced: t, lev, noadj, fulldepth, m700, m300, m500, m5000, m2000, m100, lev_bnds, verbose, m1500, mthousand, dlim, t1"
   ]
  },
  {
   "cell_type": "raw",
   "metadata": {},
   "source": [
    "function calc_ocean_heat,t,lev,noadj=noadj,fulldepth=fulldepth,m700=m700,m300=m300,m500a=m500a,m5000=m5000,m2000=m2000,m100=m100, $\n",
    "        lev_bnds=lev_bnds,verbose=verbose,m1500=m1500,mthousand=mthousand\n",
    ";give the function a profile of t with modpoints of lev and it\n",
    ";returns the integrated heat content/m2- upper level is assumed to terminate at depth=0 and lower\n",
    ";level is assumed to terminate at depth=max(lev)+(max(lev)-max(lev(*:*-1)\n",
    ";missing value assumed to be 1e36 or less than 265K\n",
    ";by default, integrations only go to 275m...various options exist to change this\n",
    ";set noadjust keyword to ignore conversion from C to K and allow values less than 265\n",
    ";allows for missing values of 1e36\n",
    ";density of sea water is assumed to be 1026 kg/m3\n",
    ";specific heat is assumed to be 3990 J/kg/C \n",
    ";coded so that depths can vary from top to bottom or bottom to top.\n",
    "\n",
    "dlim=275\n",
    "t1=t\n",
    "if keyword_set(m100) then dlim=100\n",
    "if keyword_set(m300) then dlim=300\n",
    "if keyword_set(m500a) then dlim=500\n",
    "if keyword_set(m700) then dlim=700\n",
    "if keyword_set(mthousand) then dlim=1000\n",
    "if keyword_set(m1500) then dlim=1500\n",
    "if keyword_set(m2000) then dlim=2000 \n",
    "if keyword_set(fulldepth) or keyword_set(m5000) then dlim=max([lev,5000]) ;& if keyword_set(lev_bnds) then dlim=max([5000,max(lev_bnds)]) \n",
    "if max(lev) gt 10000. then begin & print,'Depth levels seem excessive. Check units.' & stop & endif"
   ]
  },
  {
   "cell_type": "code",
   "execution_count": 42,
   "metadata": {},
   "outputs": [],
   "source": [
    "#Instead of using keywords as in IDL, or maping a dictionary that maps m100 to 100 meters, m300 to 300 meters, etc,\n",
    "#We can set up an array of allowable depth values\n",
    "#Why are only these depths allowed?\n",
    "#Might be missing some functionality of the 5000 m case, how do lev and lev_bnds come into play?\n",
    "\n",
    "def CheckIfDepthIsLegal(depth):\n",
    "    DepthsInMeters = [100,300,500,700,1000,1500,2000, 5000]\n",
    "    if depth in DepthsInMeters: print('True')\n",
    "    else: print('Depths must be in meters. Allowable depths are', DepthsInMeters);"
   ]
  },
  {
   "cell_type": "code",
   "execution_count": 43,
   "metadata": {},
   "outputs": [
    {
     "name": "stdout",
     "output_type": "stream",
     "text": [
      "True\n",
      "Depths must be in meters. Allowable depths are [100, 300, 500, 700, 1000, 1500, 2000]\n"
     ]
    }
   ],
   "source": [
    "#Test \n",
    "CheckIfDepthIsLegal(100)\n",
    "CheckIfDepthIsLegal(2)"
   ]
  },
  {
   "cell_type": "markdown",
   "metadata": {},
   "source": [
    "Block 2 of IDL Code:\n",
    "\n",
    "New variables introduced: gd, minigood, levdim"
   ]
  },
  {
   "cell_type": "raw",
   "metadata": {},
   "source": [
    "gd=where(t1 lt 1e30) & if max(lev) lt 2 then begin & print,'Are these levels in m or in some normalized units?' & stop & endif\n",
    "if max(t1(gd)) gt -10 and max(t1(gd)) lt 60 and not keyword_set(noadj) then t1(gd)=t1(gd)+273.15 ;assume conversion from C to K is needed\n",
    "mingood=268 & if keyword_set(noadj) then mingood=-5 ;sea water can't be less than -5C; use this to catch some alternative 'missing value' specifications\n",
    "s=size(t1) & levdim=min(where(nel(lev) eq s)) ;identify the depth dimension\n",
    "if (levdim) lt 0 then begin & print,'Cant find the dimension equal to the depth' & stop & endif"
   ]
  },
  {
   "cell_type": "code",
   "execution_count": 45,
   "metadata": {},
   "outputs": [],
   "source": [
    "#This code checks for allowable sea water temperature (268 K or -5 C)\n",
    "#Not seeing how this is used yet, Code should check all temperatures in dataset.\n",
    "def CheckIfTempIsLegal(temp):\n",
    "    if temp >= 268: print('True')\n",
    "    else: print('Temperatures must be in Kelvin. Minimum sea water temperature is 268 K.');"
   ]
  },
  {
   "cell_type": "code",
   "execution_count": 46,
   "metadata": {},
   "outputs": [
    {
     "name": "stdout",
     "output_type": "stream",
     "text": [
      "Temperatures must be in Kelvin. Minimum sea water temperature is 268 K.\n",
      "True\n",
      "True\n"
     ]
    }
   ],
   "source": [
    "#Test \n",
    "CheckIfTempIsLegal(100)\n",
    "CheckIfTempIsLegal(268)\n",
    "CheckIfTempIsLegal(300)"
   ]
  },
  {
   "cell_type": "code",
   "execution_count": null,
   "metadata": {},
   "outputs": [],
   "source": []
  }
 ],
 "metadata": {
  "kernelspec": {
   "display_name": "Python 3",
   "language": "python",
   "name": "python3"
  },
  "language_info": {
   "codemirror_mode": {
    "name": "ipython",
    "version": 3
   },
   "file_extension": ".py",
   "mimetype": "text/x-python",
   "name": "python",
   "nbconvert_exporter": "python",
   "pygments_lexer": "ipython3",
   "version": "3.7.1"
  }
 },
 "nbformat": 4,
 "nbformat_minor": 2
}
