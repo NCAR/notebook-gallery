{
 "cells": [
  {
   "cell_type": "markdown",
   "metadata": {},
   "source": [
    "# City Planner Application\n",
    "\n",
    "The eventual goal is to have a GUI-based application that can produce a variety of plots that the climate impacts community would find useful.   One of these plots is \"Number of Days with Temperature over X Degrees\" for some GPS location and time range.\n",
    "\n",
    "The application should eventually allow choices for:\n",
    "  * Data source (LENS, CMIP6, NA-CORDEX, etc.)\n",
    "  * Climate Application  (Extreme Heat Events, Growing Season, Extreme Precipitation Events, etc.)\n",
    "  * GPS location if applicable\n",
    "  * Time range\n",
    "  * Units (Fahrenheit vs. Celsius, etc.)\n",
    "  * Plot type (Scatter plots vs Box plots, etc.)"
   ]
  },
  {
   "cell_type": "code",
   "execution_count": null,
   "metadata": {},
   "outputs": [],
   "source": [
    "# Display output of plots directly in Notebook\n",
    "%matplotlib inline"
   ]
  },
  {
   "cell_type": "code",
   "execution_count": null,
   "metadata": {},
   "outputs": [],
   "source": [
    "import xarray as xr\n",
    "import numpy as np\n",
    "import intake\n",
    "from tqdm.auto import tqdm\n",
    "import shutil \n",
    "import os\n",
    "from functools import reduce\n",
    "import pprint\n",
    "import json\n",
    "from operator import mul\n",
    "import random\n",
    "import yaml\n",
    "from distributed.utils import format_bytes\n",
    "import dask"
   ]
  },
  {
   "cell_type": "code",
   "execution_count": null,
   "metadata": {},
   "outputs": [],
   "source": [
    "cluster.close()"
   ]
  },
  {
   "cell_type": "code",
   "execution_count": null,
   "metadata": {},
   "outputs": [],
   "source": [
    "# Create cluster\n",
    "from dask_gateway import Gateway\n",
    "from dask.distributed import Client\n",
    "gateway = Gateway()\n",
    "cluster = gateway.new_cluster()\n",
    "cluster.adapt(minimum=2, maximum=100)\n",
    "# Connect to cluster\n",
    "client = Client(cluster)\n",
    "# Display cluster dashboard URL\n",
    "cluster"
   ]
  },
  {
   "cell_type": "code",
   "execution_count": null,
   "metadata": {},
   "outputs": [],
   "source": []
  },
  {
   "cell_type": "markdown",
   "metadata": {},
   "source": [
    "### Starting Point:  Load max daily temperatures from CESM LENS Data"
   ]
  },
  {
   "cell_type": "code",
   "execution_count": null,
   "metadata": {},
   "outputs": [],
   "source": [
    "\n",
    "# Load the data catalog.  Use a field separator character for key generation that does not conflict with strings in the catalog.\n",
    "intakeEsmUrl = 'https://ncar-cesm-lens.s3-us-west-2.amazonaws.com/catalogs/aws-cesm1-le.json'\n",
    "col = intake.open_esm_datastore(intakeEsmUrl)\n",
    "\n",
    "# List a few catalog entries for an idea of the catalog structure.  \n",
    "# Note: in general, each catalog has different columns.\n",
    "col.df.head()"
   ]
  },
  {
   "cell_type": "code",
   "execution_count": null,
   "metadata": {},
   "outputs": [],
   "source": [
    "# Discover what is available for Daily Temperature at Reference Height (TREFHT)\n",
    "subset = col.search(variable='TREFHTMX')\n",
    "subset.unique(columns=['experiment', 'component','frequency'])"
   ]
  },
  {
   "cell_type": "code",
   "execution_count": null,
   "metadata": {},
   "outputs": [],
   "source": [
    "# Let's limit the date range to [1850, 2100] by choosing a subset of experiments, and choose the \"daily\" output stream.\n",
    "subset = col.search(variable='TREFHTMX', experiment=['20C','RCP85'], frequency='daily')\n",
    "subset.df"
   ]
  },
  {
   "cell_type": "markdown",
   "metadata": {},
   "source": [
    "### Create Xarray Objects from this data subset\n",
    "\n",
    "Note that the operation that merges data into Xarray Objects is relatively expensive, so we create a Dask cluster to process it quickly."
   ]
  },
  {
   "cell_type": "code",
   "execution_count": null,
   "metadata": {},
   "outputs": [],
   "source": [
    "# Load catalog entries for subset into a dictionary of xarray datasets\n",
    "dsets = subset.to_dataset_dict(zarr_kwargs={\"consolidated\": True}, storage_options={\"anon\": True})\n",
    "print(\"\\nDataset dictionary keys:\\n\", dsets.keys())"
   ]
  },
  {
   "cell_type": "code",
   "execution_count": null,
   "metadata": {},
   "outputs": [],
   "source": [
    "daily_temps_1850_2005 = dsets['atm.20C.daily']\n",
    "daily_temps_2006_2100 = dsets['atm.RCP85.daily']"
   ]
  },
  {
   "cell_type": "markdown",
   "metadata": {},
   "source": [
    "### Define cities and years of interest. "
   ]
  },
  {
   "cell_type": "code",
   "execution_count": 51,
   "metadata": {},
   "outputs": [],
   "source": [
    "cities = {\"Boulder\": (40.01, 244.8), \"Austin\": (30.27, 262.26), \"Chicago\": (41.88, 272.37)}\n",
    "\n",
    "years_past = np.arange(1920, 2001, 10)\n",
    "years_fut = np.arange(2010, 2101, 10)"
   ]
  },
  {
   "cell_type": "code",
   "execution_count": 55,
   "metadata": {},
   "outputs": [
    {
     "name": "stdout",
     "output_type": "stream",
     "text": [
      "Boulder_TMAX_1920.csv\n",
      "Boulder_TMAX_1930.csv\n",
      "Boulder_TMAX_1940.csv\n",
      "Boulder_TMAX_1950.csv\n",
      "Boulder_TMAX_1960.csv\n",
      "Boulder_TMAX_1970.csv\n",
      "Boulder_TMAX_1980.csv\n",
      "Boulder_TMAX_1990.csv\n",
      "Boulder_TMAX_2000.csv\n",
      "Boulder_TMAX_2010.csv\n",
      "Boulder_TMAX_2020.csv\n",
      "Boulder_TMAX_2030.csv\n",
      "Boulder_TMAX_2040.csv\n",
      "Boulder_TMAX_2050.csv\n",
      "Boulder_TMAX_2060.csv\n",
      "Boulder_TMAX_2070.csv\n",
      "Boulder_TMAX_2080.csv\n",
      "Boulder_TMAX_2090.csv\n",
      "Boulder_TMAX_2100.csv\n",
      "Austin_TMAX_1920.csv\n",
      "Austin_TMAX_1930.csv\n",
      "Austin_TMAX_1940.csv\n",
      "Austin_TMAX_1950.csv\n",
      "Austin_TMAX_1960.csv\n",
      "Austin_TMAX_1970.csv\n",
      "Austin_TMAX_1980.csv\n",
      "Austin_TMAX_1990.csv\n",
      "Austin_TMAX_2000.csv\n",
      "Austin_TMAX_2010.csv\n",
      "Austin_TMAX_2020.csv\n",
      "Austin_TMAX_2030.csv\n",
      "Austin_TMAX_2040.csv\n",
      "Austin_TMAX_2050.csv\n",
      "Austin_TMAX_2060.csv\n",
      "Austin_TMAX_2070.csv\n",
      "Austin_TMAX_2080.csv\n",
      "Austin_TMAX_2090.csv\n",
      "Austin_TMAX_2100.csv\n",
      "Chicago_TMAX_1920.csv\n",
      "Chicago_TMAX_1930.csv\n",
      "Chicago_TMAX_1940.csv\n",
      "Chicago_TMAX_1950.csv\n",
      "Chicago_TMAX_1960.csv\n",
      "Chicago_TMAX_1970.csv\n",
      "Chicago_TMAX_1980.csv\n"
     ]
    },
    {
     "name": "stderr",
     "output_type": "stream",
     "text": [
      "distributed.client - WARNING - Couldn't gather 2 keys, rescheduling {\"('getitem-a11dc235e555c672c7f137927341a623', 16, 0)\": (), \"('getitem-a11dc235e555c672c7f137927341a623', 11, 0)\": ()}\n"
     ]
    },
    {
     "name": "stdout",
     "output_type": "stream",
     "text": [
      "Chicago_TMAX_1990.csv\n",
      "Chicago_TMAX_2000.csv\n",
      "Chicago_TMAX_2010.csv\n",
      "Chicago_TMAX_2020.csv\n",
      "Chicago_TMAX_2030.csv\n",
      "Chicago_TMAX_2040.csv\n",
      "Chicago_TMAX_2050.csv\n",
      "Chicago_TMAX_2060.csv\n",
      "Chicago_TMAX_2070.csv\n",
      "Chicago_TMAX_2080.csv\n",
      "Chicago_TMAX_2090.csv\n",
      "Chicago_TMAX_2100.csv\n"
     ]
    }
   ],
   "source": [
    "# Produce CSV files for specific cities and years.\n",
    "\n",
    "for city in cities.keys():\n",
    "    \n",
    "    (lat, lon) = cities[city]\n",
    "    cell_temps_past = daily_temps_1850_2005.sel(lat=lat, lon=lon, method='nearest')\n",
    "    cell_temps_fut = daily_temps_2006_2100.sel(lat=lat, lon=lon, method='nearest')\n",
    "    \n",
    "    for year in years_past:\n",
    "        temps = cell_temps_past.sel(time=slice(f'{year}-01-01', f'{year}-12-31'))\n",
    "        df = temps.TREFHTMX.to_dataframe()\n",
    "        outfile = f'{city}_TMAX_{year}.csv'\n",
    "        df.to_csv(outfile, index=True)\n",
    "        print(outfile)\n",
    "        \n",
    "    for year in years_fut:\n",
    "        temps = cell_temps_fut.sel(time=slice(f'{year}-01-01', f'{year}-12-31'))\n",
    "        df = temps.TREFHTMX.to_dataframe()\n",
    "        outfile = f'{city}_TMAX_{year}.csv'\n",
    "        df.to_csv(outfile, index=True)\n",
    "        print(outfile)"
   ]
  },
  {
   "cell_type": "code",
   "execution_count": null,
   "metadata": {},
   "outputs": [],
   "source": [
    "cell_temps_past = daily_temps_1850_2005.sel(lat=lat, lon=lon, method='nearest')\n",
    "cell_temps_fut = daily_temps_2006_2100.sel(lat=lat, lon=lon, method='nearest')"
   ]
  },
  {
   "cell_type": "code",
   "execution_count": null,
   "metadata": {},
   "outputs": [],
   "source": [
    "temps_past = cell_temps_past.sel(time=slice('1990-01-01', '1990-12-31'))\n",
    "temps_fut = cell_temps_fut.sel(time=slice('2090-01-01', '2090-12-31'))"
   ]
  },
  {
   "cell_type": "code",
   "execution_count": null,
   "metadata": {},
   "outputs": [],
   "source": [
    "temps_past"
   ]
  },
  {
   "cell_type": "code",
   "execution_count": null,
   "metadata": {},
   "outputs": [],
   "source": [
    "temps_fut"
   ]
  },
  {
   "cell_type": "code",
   "execution_count": null,
   "metadata": {},
   "outputs": [],
   "source": [
    "df_1990 = temps_past.TREFHTMX.to_dataframe()"
   ]
  },
  {
   "cell_type": "code",
   "execution_count": null,
   "metadata": {},
   "outputs": [],
   "source": [
    "df_2090 = temps_fut.TREFHTMX.to_dataframe()"
   ]
  },
  {
   "cell_type": "code",
   "execution_count": null,
   "metadata": {},
   "outputs": [],
   "source": [
    "df_1990.to_csv('Boulder_TMAX_1990.csv',index=True)\n"
   ]
  },
  {
   "cell_type": "code",
   "execution_count": null,
   "metadata": {},
   "outputs": [],
   "source": [
    "df_2090.to_csv('Boulder_TMAX_2090.csv',index=True)"
   ]
  },
  {
   "cell_type": "code",
   "execution_count": null,
   "metadata": {},
   "outputs": [],
   "source": [
    "import matplotlib.pyplot as plt"
   ]
  },
  {
   "cell_type": "code",
   "execution_count": null,
   "metadata": {},
   "outputs": [],
   "source": [
    "times = temps_past.time.data\n",
    "times[:3]"
   ]
  },
  {
   "cell_type": "code",
   "execution_count": null,
   "metadata": {},
   "outputs": [],
   "source": [
    "time_indexes = np.arange(1,times.size + 1)"
   ]
  },
  {
   "cell_type": "code",
   "execution_count": null,
   "metadata": {},
   "outputs": [],
   "source": [
    "temps = temps_past.TREFHTMX.data.transpose()\n",
    "temps"
   ]
  },
  {
   "cell_type": "code",
   "execution_count": null,
   "metadata": {},
   "outputs": [],
   "source": [
    "ax = plt.axes()\n",
    "ax.plot(time_indexes, temps)"
   ]
  },
  {
   "cell_type": "code",
   "execution_count": null,
   "metadata": {},
   "outputs": [],
   "source": [
    "ax = plt.axes()\n",
    "ax.plot(time_indexes, temps)"
   ]
  },
  {
   "cell_type": "code",
   "execution_count": null,
   "metadata": {},
   "outputs": [],
   "source": []
  },
  {
   "cell_type": "code",
   "execution_count": null,
   "metadata": {},
   "outputs": [],
   "source": []
  },
  {
   "cell_type": "code",
   "execution_count": null,
   "metadata": {},
   "outputs": [],
   "source": [
    "cluster.close()"
   ]
  },
  {
   "cell_type": "code",
   "execution_count": null,
   "metadata": {},
   "outputs": [],
   "source": []
  },
  {
   "cell_type": "code",
   "execution_count": null,
   "metadata": {},
   "outputs": [],
   "source": []
  },
  {
   "cell_type": "code",
   "execution_count": null,
   "metadata": {},
   "outputs": [],
   "source": [
    "360 - 87.63"
   ]
  },
  {
   "cell_type": "code",
   "execution_count": null,
   "metadata": {},
   "outputs": [],
   "source": []
  },
  {
   "cell_type": "code",
   "execution_count": null,
   "metadata": {},
   "outputs": [],
   "source": []
  },
  {
   "cell_type": "code",
   "execution_count": null,
   "metadata": {},
   "outputs": [],
   "source": []
  },
  {
   "cell_type": "markdown",
   "metadata": {},
   "source": [
    "### Test NA-CORDEX Catalog Behavior Here"
   ]
  },
  {
   "cell_type": "code",
   "execution_count": null,
   "metadata": {},
   "outputs": [],
   "source": [
    "import intake"
   ]
  },
  {
   "cell_type": "code",
   "execution_count": null,
   "metadata": {},
   "outputs": [],
   "source": [
    "cordex_path = '/glade/u/home/bonnland/GitRepos/PullRequests/intake-esm-datastore-sethmcg/catalogs/glade-na-cordex.json'"
   ]
  },
  {
   "cell_type": "code",
   "execution_count": null,
   "metadata": {},
   "outputs": [],
   "source": [
    "col = intake.open_esm_datastore(cordex_path)"
   ]
  },
  {
   "cell_type": "code",
   "execution_count": null,
   "metadata": {},
   "outputs": [],
   "source": [
    "col"
   ]
  },
  {
   "cell_type": "markdown",
   "metadata": {},
   "source": [
    "## Explore Zarr files"
   ]
  },
  {
   "cell_type": "code",
   "execution_count": null,
   "metadata": {},
   "outputs": [],
   "source": [
    "import xarray as xr\n"
   ]
  },
  {
   "cell_type": "code",
   "execution_count": null,
   "metadata": {},
   "outputs": [],
   "source": [
    "ds = xr.open_zarr(\"/glade/scratch/bonnland/lens-aws/ocn/monthly/cesmLE-CTRL-SFWF.zarr\", consolidated=True)"
   ]
  },
  {
   "cell_type": "code",
   "execution_count": null,
   "metadata": {},
   "outputs": [],
   "source": [
    "ds"
   ]
  },
  {
   "cell_type": "code",
   "execution_count": null,
   "metadata": {},
   "outputs": [],
   "source": []
  }
 ],
 "metadata": {
  "kernelspec": {
   "display_name": "Python 3",
   "language": "python",
   "name": "python3"
  },
  "language_info": {
   "codemirror_mode": {
    "name": "ipython",
    "version": 3
   },
   "file_extension": ".py",
   "mimetype": "text/x-python",
   "name": "python",
   "nbconvert_exporter": "python",
   "pygments_lexer": "ipython3",
   "version": "3.8.2"
  }
 },
 "nbformat": 4,
 "nbformat_minor": 4
}
