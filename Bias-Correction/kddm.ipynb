{
 "cells": [
  {
   "cell_type": "markdown",
   "metadata": {},
   "source": [
    "## Set up Workspace"
   ]
  },
  {
   "cell_type": "markdown",
   "metadata": {},
   "source": [
    "### Steps\n",
    "\n",
    "1. Read in an explore data\n",
    "2. Regrid to 0.25 deg Lat-Lon grid\n",
    "3. Alignepochs.R-esque function to get moving windows\n",
    "4. biascorrection.R-esque function for Z-score correction of _ward wind\n",
    "5. Save file\n",
    "6. Compare to corrected historical and rcp85 model"
   ]
  },
  {
   "cell_type": "code",
   "execution_count": 1,
   "metadata": {},
   "outputs": [
    {
     "name": "stderr",
     "output_type": "stream",
     "text": [
      "/glade/u/home/jkent/miniconda3/envs/pangeo/lib/python3.6/site-packages/tqdm/autonotebook/__init__.py:14: TqdmExperimentalWarning: Using `tqdm.autonotebook.tqdm` in notebook mode. Use `tqdm.tqdm` instead to force console mode (e.g. in jupyter console)\n",
      "  \" (e.g. in jupyter console)\", TqdmExperimentalWarning)\n"
     ]
    }
   ],
   "source": [
    "import xarray as xr\n",
    "import numpy as np\n",
    "import matplotlib.pyplot as plt\n",
    "from matplotlib import colors\n",
    "from scipy import interpolate\n",
    "import xesmf as xe\n",
    "import pandas as pd\n",
    "from calendar import isleap\n",
    "from dateutil import relativedelta as rd\n",
    "from datetime import datetime, timedelta\n",
    "import cftime\n",
    "import intake\n",
    "import yaml\n",
    "import pandas as pd\n",
    "from intake_esm import config\n",
    "from distributed.utils import format_bytes"
   ]
  },
  {
   "cell_type": "code",
   "execution_count": 2,
   "metadata": {},
   "outputs": [
    {
     "name": "stdout",
     "output_type": "stream",
     "text": [
      "/glade/u/home/jkent/miniconda3/envs/pangeo/bin/python\n"
     ]
    }
   ],
   "source": [
    "import sys\n",
    "print(sys.executable)"
   ]
  },
  {
   "cell_type": "code",
   "execution_count": 3,
   "metadata": {},
   "outputs": [],
   "source": [
    "%matplotlib inline\n",
    "\n",
    "class MidpointNormalize(colors.Normalize):\n",
    "    def __init__(self, vmin=None, vmax=None, midpoint=None, clip=False):\n",
    "        self.midpoint = midpoint\n",
    "        colors.Normalize.__init__(self, vmin, vmax, clip)\n",
    "\n",
    "    def __call__(self, value, clip=None):\n",
    "        x, y = [self.vmin, self.midpoint, self.vmax], [0, 0.5, 1]\n",
    "        return np.ma.masked_array(np.interp(value, x, y))"
   ]
  },
  {
   "cell_type": "markdown",
   "metadata": {},
   "source": [
    "## Look at Data"
   ]
  },
  {
   "cell_type": "code",
   "execution_count": 4,
   "metadata": {},
   "outputs": [
    {
     "name": "stdout",
     "output_type": "stream",
     "text": [
      "Getting file listing: CORDEX-Data:GLADE:posix:/glade/collections/cdg/data/cordex/data/\n"
     ]
    },
    {
     "data": {
      "application/vnd.jupyter.widget-view+json": {
       "model_id": "1e18771f5218459c8e4435a98acd94d4",
       "version_major": 2,
       "version_minor": 0
      },
      "text/plain": [
       "HBox(children=(IntProgress(value=0, description='file listing', max=16897, style=ProgressStyle(description_wid…"
      ]
     },
     "metadata": {},
     "output_type": "display_data"
    },
    {
     "name": "stdout",
     "output_type": "stream",
     "text": [
      "\n",
      "<class 'pandas.core.frame.DataFrame'>\n",
      "Int64Index: 16897 entries, 14130 to 11851\n",
      "Data columns (total 13 columns):\n",
      "resource                  16897 non-null object\n",
      "resource_type             16897 non-null object\n",
      "direct_access             16897 non-null bool\n",
      "variable                  16897 non-null object\n",
      "experiment                16897 non-null object\n",
      "global_climate_model      16897 non-null object\n",
      "regional_climate_model    16897 non-null object\n",
      "frequency                 16897 non-null object\n",
      "grid                      16897 non-null object\n",
      "bias_corrected_or_raw     16897 non-null object\n",
      "file_fullpath             16897 non-null object\n",
      "file_basename             16897 non-null object\n",
      "file_dirname              16897 non-null object\n",
      "dtypes: bool(1), object(12)\n",
      "memory usage: 1.7+ MB\n",
      "None\n",
      "Persisting NA-CORDEX at : /glade/u/home/jkent/.intake_esm/collections/cordex/NA-CORDEX.cordex.csv\n"
     ]
    }
   ],
   "source": [
    "config.get('collections.cordex')\n",
    "\n",
    "test = yaml.safe_load('''name: NA-CORDEX\n",
    "collection_type: cordex\n",
    "data_sources:\n",
    "  CORDEX-Data:\n",
    "    locations:\n",
    "      - name: GLADE\n",
    "        loc_type: posix\n",
    "        direct_access: True\n",
    "        urlpath: /glade/collections/cdg/data/cordex/data/''')        \n",
    "\n",
    "col = intake.open_esm_metadatastore(collection_input_definition=test, overwrite_existing=True)"
   ]
  },
  {
   "cell_type": "code",
   "execution_count": 5,
   "metadata": {},
   "outputs": [
    {
     "data": {
      "text/html": [
       "<div>\n",
       "<style scoped>\n",
       "    .dataframe tbody tr th:only-of-type {\n",
       "        vertical-align: middle;\n",
       "    }\n",
       "\n",
       "    .dataframe tbody tr th {\n",
       "        vertical-align: top;\n",
       "    }\n",
       "\n",
       "    .dataframe thead th {\n",
       "        text-align: right;\n",
       "    }\n",
       "</style>\n",
       "<table border=\"1\" class=\"dataframe\">\n",
       "  <thead>\n",
       "    <tr style=\"text-align: right;\">\n",
       "      <th></th>\n",
       "      <th>resource</th>\n",
       "      <th>resource_type</th>\n",
       "      <th>direct_access</th>\n",
       "      <th>variable</th>\n",
       "      <th>experiment</th>\n",
       "      <th>global_climate_model</th>\n",
       "      <th>regional_climate_model</th>\n",
       "      <th>frequency</th>\n",
       "      <th>grid</th>\n",
       "      <th>bias_corrected_or_raw</th>\n",
       "      <th>file_fullpath</th>\n",
       "      <th>file_basename</th>\n",
       "      <th>file_dirname</th>\n",
       "    </tr>\n",
       "  </thead>\n",
       "  <tbody>\n",
       "    <tr>\n",
       "      <th>10661</th>\n",
       "      <td>CORDEX-Data:GLADE:posix:/glade/collections/cdg...</td>\n",
       "      <td>posix</td>\n",
       "      <td>True</td>\n",
       "      <td>uas</td>\n",
       "      <td>hist</td>\n",
       "      <td>CanESM2</td>\n",
       "      <td>CRCM5-UQAM</td>\n",
       "      <td>day</td>\n",
       "      <td>NAM-44i</td>\n",
       "      <td>raw</td>\n",
       "      <td>/glade/collections/cdg/data/cordex/data/raw/NA...</td>\n",
       "      <td>uas.hist.CanESM2.CRCM5-UQAM.day.NAM-44i.raw.nc</td>\n",
       "      <td>/glade/collections/cdg/data/cordex/data/raw/NA...</td>\n",
       "    </tr>\n",
       "    <tr>\n",
       "      <th>10676</th>\n",
       "      <td>CORDEX-Data:GLADE:posix:/glade/collections/cdg...</td>\n",
       "      <td>posix</td>\n",
       "      <td>True</td>\n",
       "      <td>uas</td>\n",
       "      <td>rcp85</td>\n",
       "      <td>CanESM2</td>\n",
       "      <td>CRCM5-UQAM</td>\n",
       "      <td>day</td>\n",
       "      <td>NAM-44i</td>\n",
       "      <td>raw</td>\n",
       "      <td>/glade/collections/cdg/data/cordex/data/raw/NA...</td>\n",
       "      <td>uas.rcp85.CanESM2.CRCM5-UQAM.day.NAM-44i.raw.nc</td>\n",
       "      <td>/glade/collections/cdg/data/cordex/data/raw/NA...</td>\n",
       "    </tr>\n",
       "  </tbody>\n",
       "</table>\n",
       "</div>"
      ],
      "text/plain": [
       "                                                resource resource_type  \\\n",
       "10661  CORDEX-Data:GLADE:posix:/glade/collections/cdg...         posix   \n",
       "10676  CORDEX-Data:GLADE:posix:/glade/collections/cdg...         posix   \n",
       "\n",
       "       direct_access variable experiment global_climate_model  \\\n",
       "10661           True      uas       hist              CanESM2   \n",
       "10676           True      uas      rcp85              CanESM2   \n",
       "\n",
       "      regional_climate_model frequency     grid bias_corrected_or_raw  \\\n",
       "10661             CRCM5-UQAM       day  NAM-44i                   raw   \n",
       "10676             CRCM5-UQAM       day  NAM-44i                   raw   \n",
       "\n",
       "                                           file_fullpath  \\\n",
       "10661  /glade/collections/cdg/data/cordex/data/raw/NA...   \n",
       "10676  /glade/collections/cdg/data/cordex/data/raw/NA...   \n",
       "\n",
       "                                         file_basename  \\\n",
       "10661   uas.hist.CanESM2.CRCM5-UQAM.day.NAM-44i.raw.nc   \n",
       "10676  uas.rcp85.CanESM2.CRCM5-UQAM.day.NAM-44i.raw.nc   \n",
       "\n",
       "                                            file_dirname  \n",
       "10661  /glade/collections/cdg/data/cordex/data/raw/NA...  \n",
       "10676  /glade/collections/cdg/data/cordex/data/raw/NA...  "
      ]
     },
     "execution_count": 5,
     "metadata": {},
     "output_type": "execute_result"
    }
   ],
   "source": [
    "query = col.search(variable='uas', global_climate_model = 'CanESM2', experiment = ['hist', 'rcp85'], regional_climate_model = 'CRCM5-UQAM', frequency = 'day', grid = 'NAM-44i', bias_corrected_or_raw = 'raw')\n",
    "query.query_results.head()"
   ]
  },
  {
   "cell_type": "code",
   "execution_count": 6,
   "metadata": {},
   "outputs": [
    {
     "data": {
      "application/vnd.jupyter.widget-view+json": {
       "model_id": "c2a484f364d14ce9923b9bdb1f5c7db9",
       "version_major": 2,
       "version_minor": 0
      },
      "text/plain": [
       "HBox(children=(IntProgress(value=0, description='dataset', max=1, style=ProgressStyle(description_width='initi…"
      ]
     },
     "metadata": {},
     "output_type": "display_data"
    },
    {
     "name": "stdout",
     "output_type": "stream",
     "text": [
      "\n"
     ]
    }
   ],
   "source": [
    "dset = query.to_xarray(chunks = {'lon':100})"
   ]
  },
  {
   "cell_type": "code",
   "execution_count": 7,
   "metadata": {},
   "outputs": [],
   "source": [
    "modeled = dset['CanESM2.CRCM5-UQAM.day.NAM-44i.raw']"
   ]
  },
  {
   "cell_type": "code",
   "execution_count": 11,
   "metadata": {},
   "outputs": [
    {
     "data": {
      "text/plain": [
       "<xarray.DataArray 'time' (time: 55114)>\n",
       "array([cftime.DatetimeNoLeap(1950, 1, 1, 12, 0, 0, 0, 4, 1),\n",
       "       cftime.DatetimeNoLeap(1950, 1, 2, 12, 0, 0, 0, 5, 2),\n",
       "       cftime.DatetimeNoLeap(1950, 1, 3, 12, 0, 0, 0, 6, 3), ...,\n",
       "       cftime.DatetimeNoLeap(2100, 12, 28, 12, 0, 0, 0, 4, 362),\n",
       "       cftime.DatetimeNoLeap(2100, 12, 29, 12, 0, 0, 0, 5, 363),\n",
       "       cftime.DatetimeNoLeap(2100, 12, 30, 12, 0, 0, 0, 6, 364)], dtype=object)\n",
       "Coordinates:\n",
       "  * time     (time) object 1950-01-01 12:00:00 ... 2100-12-30 12:00:00\n",
       "Attributes:\n",
       "    coordinate_defines:  point\n",
       "    bounds:              time_bnds\n",
       "    delta_t:             0000-00-01 00:00:00\n",
       "    axis:                T\n",
       "    standard_name:       time\n",
       "    long_name:           time"
      ]
     },
     "execution_count": 11,
     "metadata": {},
     "output_type": "execute_result"
    }
   ],
   "source": [
    "modeled.time"
   ]
  },
  {
   "cell_type": "code",
   "execution_count": 12,
   "metadata": {},
   "outputs": [],
   "source": [
    "#Measured Data still not supported by intake-esm\n",
    "\n",
    "path = '../../kddm/data/uas/'\n",
    "measured = xr.open_dataset(path+'uas.METDATA.44i.nc', chunks = {'time':5})\n",
    "#hist = xr.open_dataset(path+'uas.hist.CanESM2.CRCM5-UQAM.day.NAM-44i.raw.nc', chunks = {'time':5})\n",
    "#rcp85 = xr.open_dataset(path+'uas.rcp85.CanESM2.CRCM5-UQAM.day.NAM-44i.raw.nc', chunks = {'time':5})"
   ]
  },
  {
   "cell_type": "code",
   "execution_count": 13,
   "metadata": {},
   "outputs": [
    {
     "data": {
      "text/plain": [
       "<matplotlib.colorbar.Colorbar at 0x2ad7c387c9e8>"
      ]
     },
     "execution_count": 13,
     "metadata": {},
     "output_type": "execute_result"
    },
    {
     "data": {
      "image/png": "[encoded data removed]",
      "text/plain": [
       "<Figure size 432x288 with 2 Axes>"
      ]
     },
     "metadata": {
      "needs_background": "light"
     },
     "output_type": "display_data"
    }
   ],
   "source": [
    "plt.contourf(measured.lon, measured.lat, measured.uas.isel(time=0), norm=MidpointNormalize(midpoint=0.), cmap='PRGn')\n",
    "plt.colorbar()"
   ]
  },
  {
   "cell_type": "code",
   "execution_count": 14,
   "metadata": {},
   "outputs": [
    {
     "data": {
      "text/plain": [
       "<matplotlib.colorbar.Colorbar at 0x2ad7c39c4860>"
      ]
     },
     "execution_count": 14,
     "metadata": {},
     "output_type": "execute_result"
    },
    {
     "data": {
      "image/png": "[encoded data removed]",
      "text/plain": [
       "<Figure size 432x288 with 2 Axes>"
      ]
     },
     "metadata": {
      "needs_background": "light"
     },
     "output_type": "display_data"
    }
   ],
   "source": [
    "plt.contourf(modeled.lon, modeled.lat, modeled.uas.isel(time=0), norm=MidpointNormalize(midpoint=0.), cmap='PRGn')\n",
    "plt.colorbar()"
   ]
  },
  {
   "cell_type": "markdown",
   "metadata": {},
   "source": [
    "## Filter and Regrid Data to Quarter Degree Grid"
   ]
  },
  {
   "cell_type": "code",
   "execution_count": 15,
   "metadata": {},
   "outputs": [],
   "source": [
    "measured_droplats = measured.dropna(dim='lat', how ='all')\n",
    "measured_flt = measured_droplats.dropna(dim='lon', how='all')"
   ]
  },
  {
   "cell_type": "code",
   "execution_count": 16,
   "metadata": {},
   "outputs": [],
   "source": [
    "lon_min = float(np.min(measured_flt.lon))\n",
    "lon_max = float(np.max(measured_flt.lon))\n",
    "lat_min = float(np.min(measured_flt.lat))\n",
    "lat_max = float(np.max(measured_flt.lat))\n",
    "wesn = [lon_min, lon_max, lat_min, lat_max]"
   ]
  },
  {
   "cell_type": "code",
   "execution_count": 17,
   "metadata": {},
   "outputs": [],
   "source": [
    "grid = 0.25\n",
    "wesn_g = [int(round(i * 4)) / 4 for i in wesn]\n",
    "\n",
    "new_lon = np.arange(wesn_g[0],wesn_g[1], grid)\n",
    "new_lat = np.arange(wesn_g[2], wesn_g[3]+grid, grid)\n",
    "\n",
    "ds_newgrid = xr.Dataset({'lat': (['lat'], new_lat), 'lon': (['lon'], new_lon)})"
   ]
  },
  {
   "cell_type": "code",
   "execution_count": 18,
   "metadata": {},
   "outputs": [
    {
     "name": "stdout",
     "output_type": "stream",
     "text": [
      "Overwrite existing file: bilinear_49x116_97x230.nc \n",
      " You can set reuse_weights=True to save computing time.\n"
     ]
    }
   ],
   "source": [
    "regridder_measured = xe.Regridder(measured_flt, ds_newgrid, 'bilinear')\n",
    "measured_rgrd = regridder_measured(measured_flt.uas)"
   ]
  },
  {
   "cell_type": "code",
   "execution_count": 19,
   "metadata": {},
   "outputs": [
    {
     "data": {
      "text/plain": [
       "<matplotlib.colorbar.Colorbar at 0x2ad977f5a1d0>"
      ]
     },
     "execution_count": 19,
     "metadata": {},
     "output_type": "execute_result"
    },
    {
     "data": {
      "image/png": "[encoded data removed]",
      "text/plain": [
       "<Figure size 432x288 with 2 Axes>"
      ]
     },
     "metadata": {
      "needs_background": "light"
     },
     "output_type": "display_data"
    }
   ],
   "source": [
    "plt.contourf(measured_rgrd.lon, measured_rgrd.lat, measured_rgrd.isel(time=300), norm=MidpointNormalize(midpoint=0.), cmap='PRGn')\n",
    "plt.colorbar()"
   ]
  },
  {
   "cell_type": "code",
   "execution_count": 20,
   "metadata": {},
   "outputs": [],
   "source": [
    "def force_pos_lon(ds):\n",
    "    ds_poslon = ds.assign_coords(lon = ds.lon+ 360) if (np.min(ds.lon) < 0) else ds\n",
    "    return ds_poslon\n",
    "\n",
    "def regrid_model_coords(ds, wesn, newgrid):\n",
    "    ds_poslon = force_pos_lon(ds)\n",
    "    ds_flt = ds_poslon.sel(lon = slice(wesn[0], wesn[1]),lat = slice(wesn[2], wesn[3]))\n",
    "    regridder_ds = xe.Regridder(ds_flt, newgrid, 'bilinear')\n",
    "    ds_rgrd = regridder_ds(ds_flt.uas)\n",
    "    return ds_rgrd"
   ]
  },
  {
   "cell_type": "code",
   "execution_count": 21,
   "metadata": {},
   "outputs": [
    {
     "name": "stdout",
     "output_type": "stream",
     "text": [
      "Overwrite existing file: bilinear_49x116_97x230.nc \n",
      " You can set reuse_weights=True to save computing time.\n"
     ]
    }
   ],
   "source": [
    "modeled_rgrd = regrid_model_coords(modeled, wesn, ds_newgrid)"
   ]
  },
  {
   "cell_type": "code",
   "execution_count": 22,
   "metadata": {},
   "outputs": [
    {
     "data": {
      "text/plain": [
       "<matplotlib.colorbar.Colorbar at 0x2ad977eb36d8>"
      ]
     },
     "execution_count": 22,
     "metadata": {},
     "output_type": "execute_result"
    },
    {
     "data": {
      "image/png": "[encoded data removed]",
      "text/plain": [
       "<Figure size 432x288 with 2 Axes>"
      ]
     },
     "metadata": {
      "needs_background": "light"
     },
     "output_type": "display_data"
    }
   ],
   "source": [
    "plt.contourf(modeled_rgrd.lon, modeled_rgrd.lat, modeled_rgrd.isel(time=0), norm=MidpointNormalize(midpoint=0.), cmap='PRGn')\n",
    "plt.colorbar()"
   ]
  },
  {
   "cell_type": "code",
   "execution_count": 23,
   "metadata": {},
   "outputs": [],
   "source": [
    "#Put NaN's where there is always NaN in measured"
   ]
  },
  {
   "cell_type": "markdown",
   "metadata": {},
   "source": [
    "## Align Time"
   ]
  },
  {
   "cell_type": "code",
   "execution_count": 27,
   "metadata": {},
   "outputs": [
    {
     "data": {
      "text/plain": [
       "{}"
      ]
     },
     "execution_count": 27,
     "metadata": {},
     "output_type": "execute_result"
    }
   ],
   "source": [
    "modeled_rgrd.time.encoding\n",
    "#Why is this empty??"
   ]
  },
  {
   "cell_type": "code",
   "execution_count": 28,
   "metadata": {},
   "outputs": [],
   "source": [
    "def check_calendars(da_measured, da_modeled):\n",
    "    cal_measured = da_measured.time.encoding['calendar']\n",
    "    cal_modeled = da_modeled.time.encoding['calendar']\n",
    "    return cal_measured, cal_modeled\n",
    "\n",
    "#cal_measured, cal_modeled = check_calendars(measured_rgrd, modeled_rgrd)  "
   ]
  },
  {
   "cell_type": "code",
   "execution_count": 29,
   "metadata": {},
   "outputs": [
    {
     "data": {
      "text/plain": [
       "<xarray.DataArray 'time' (time: 55114)>\n",
       "array([cftime.DatetimeNoLeap(1950, 1, 1, 12, 0, 0, 0, 4, 1),\n",
       "       cftime.DatetimeNoLeap(1950, 1, 2, 12, 0, 0, 0, 5, 2),\n",
       "       cftime.DatetimeNoLeap(1950, 1, 3, 12, 0, 0, 0, 6, 3), ...,\n",
       "       cftime.DatetimeNoLeap(2100, 12, 28, 12, 0, 0, 0, 4, 362),\n",
       "       cftime.DatetimeNoLeap(2100, 12, 29, 12, 0, 0, 0, 5, 363),\n",
       "       cftime.DatetimeNoLeap(2100, 12, 30, 12, 0, 0, 0, 6, 364)], dtype=object)\n",
       "Coordinates:\n",
       "  * time     (time) object 1950-01-01 12:00:00 ... 2100-12-30 12:00:00\n",
       "Attributes:\n",
       "    coordinate_defines:  point\n",
       "    bounds:              time_bnds\n",
       "    delta_t:             0000-00-01 00:00:00\n",
       "    axis:                T\n",
       "    standard_name:       time\n",
       "    long_name:           time"
      ]
     },
     "execution_count": 29,
     "metadata": {},
     "output_type": "execute_result"
    }
   ],
   "source": [
    "modeled_rgrd.time"
   ]
  },
  {
   "cell_type": "code",
   "execution_count": 30,
   "metadata": {},
   "outputs": [
    {
     "name": "stderr",
     "output_type": "stream",
     "text": [
      "/glade/u/home/jkent/miniconda3/envs/pangeo/lib/python3.6/site-packages/ipykernel_launcher.py:2: RuntimeWarning: Converting a CFTimeIndex with dates from a non-standard calendar, 'noleap', to a pandas.DatetimeIndex, which uses dates from the standard calendar.  This may lead to subtle errors in operations that depend on the length of time between dates.\n",
      "  \n"
     ]
    }
   ],
   "source": [
    "def cfnoleap_to_datetime(da):\n",
    "    datetimeindex = da.indexes['time'].to_datetimeindex()\n",
    "    ds = da.to_dataset()\n",
    "    ds['time_dt']= ('time', datetimeindex)\n",
    "    ds = ds.swap_dims({'time': 'time_dt'})\n",
    "    assert len(da.time) == len(ds.time_dt)\n",
    "    return ds\n",
    "\n",
    "#Add a check here that uses info from checking the calendars?\n",
    "ds_modeled_dt = cfnoleap_to_datetime(modeled_rgrd)"
   ]
  },
  {
   "cell_type": "code",
   "execution_count": 31,
   "metadata": {},
   "outputs": [],
   "source": [
    "def regroup_models_bytime(da_measured, ds_modeled):\n",
    "    t0_measured = da_measured.time[0]\n",
    "    t_last_measured = da_measured.time[-1]\n",
    "    t0_fut = t_last_measured.values + np.timedelta64(1, 'D')\n",
    "    \n",
    "    ds_hist = ds_modeled.sel(time_dt = slice(t0_measured, t_last_measured))\n",
    "    ds_fut = ds_modeled.sel(time_dt = slice(t0_fut,None))\n",
    "    return ds_hist, ds_fut\n",
    "\n",
    "ds_hist, ds_fut = regroup_models_bytime(measured_rgrd, ds_modeled_dt)"
   ]
  },
  {
   "cell_type": "code",
   "execution_count": 32,
   "metadata": {},
   "outputs": [],
   "source": [
    "def cal_interpolate(da_measured, ds_hist):\n",
    "    years = da_measured.time.dt.year\n",
    "    leap_bool = [isleap(y) for y in set(years.values)]\n",
    "\n",
    "    da_measured_noleap = da_measured.interp(time = ds_hist.time_dt)\n",
    "    da_measured_noleap.coords['time'] = ds_hist.time\n",
    "    assert len(da_measured_noleap.time) - len(ds_hist.time_dt) == 0\n",
    "    return da_measured_noleap\n",
    "\n",
    "da_measured_noleap = cal_interpolate(measured_rgrd, ds_hist)"
   ]
  },
  {
   "cell_type": "code",
   "execution_count": 33,
   "metadata": {},
   "outputs": [],
   "source": [
    "da_measured_swappedtime = da_measured_noleap.swap_dims({'time_dt':'time'})\n",
    "ds_modeled_swappedtime = ds_hist.swap_dims({'time_dt':'time'})\n",
    "ds_fut_swappedtime = ds_fut.swap_dims({'time_dt':'time'})"
   ]
  },
  {
   "cell_type": "code",
   "execution_count": 34,
   "metadata": {},
   "outputs": [],
   "source": [
    "#Seth suggests subsampling instead of interpolating\n",
    "#Interp okay for continuous variables\n",
    "#Interp not good for spiky discontinuos variables (precipitation!)\n",
    "#Make an align_calendars function that provides options, interpolation or subsampling randomly placed\n",
    "#Print total amount of precipitation that was dropped in subsampling?"
   ]
  },
  {
   "cell_type": "markdown",
   "metadata": {},
   "source": [
    "## Grouby Average for Every Day Across Years\n",
    "#### (Dec 15 -> full 12 months -> Jan 15)"
   ]
  },
  {
   "cell_type": "code",
   "execution_count": 35,
   "metadata": {
    "scrolled": true
   },
   "outputs": [
    {
     "name": "stderr",
     "output_type": "stream",
     "text": [
      "/glade/u/home/jkent/miniconda3/envs/pangeo/lib/python3.6/site-packages/xarray/core/nanops.py:160: RuntimeWarning: Mean of empty slice\n",
      "  return np.nanmean(a, axis=axis, dtype=dtype)\n"
     ]
    }
   ],
   "source": [
    "measured_avyear = da_measured_swappedtime.groupby('time.dayofyear').mean(dim='time')\n",
    "model_avyear = ds_modeled_swappedtime.groupby('time.dayofyear').mean(dim='time')\n",
    "fut_avyear = ds_fut_swappedtime.groupby('time.dayofyear').mean(dim='time')"
   ]
  },
  {
   "cell_type": "code",
   "execution_count": 36,
   "metadata": {},
   "outputs": [],
   "source": [
    "def hack_circular_rolling(ds_avyear):\n",
    "    last = ds_avyear.isel(dayofyear=slice(-15, None))\n",
    "    last['dayofyear'] = np.arange(-15,0)\n",
    "    \n",
    "    first = ds_avyear.isel(dayofyear=slice(0, 15))\n",
    "    first['dayofyear'] = np.arange(366,381)\n",
    "    \n",
    "    ds_circ = xr.concat([last, ds_avyear, first], 'dayofyear')\n",
    "    return ds_circ;\n",
    "\n",
    "measured_circ = hack_circular_rolling(measured_avyear)\n",
    "past_circ = hack_circular_rolling(model_avyear)\n",
    "fut_circ = hack_circular_rolling(fut_avyear)"
   ]
  },
  {
   "cell_type": "markdown",
   "metadata": {},
   "source": [
    "## Z-Score Bias Correction Method"
   ]
  },
  {
   "cell_type": "code",
   "execution_count": 37,
   "metadata": {},
   "outputs": [],
   "source": [
    "#Moving window\n",
    "mv_window_w = 31"
   ]
  },
  {
   "cell_type": "code",
   "execution_count": 38,
   "metadata": {},
   "outputs": [],
   "source": [
    "def get_stats(ds_avyear, ds_circ): \n",
    "    ds_mean = ds_circ.rolling(dayofyear=mv_window_w, center=True).mean()\n",
    "    ds_mean = ds_mean.sel(dayofyear = slice(1, 365))\n",
    "\n",
    "    ds_std = ds_circ.rolling(dayofyear=mv_window_w, center=True).std()\n",
    "    ds_std = ds_std.sel(dayofyear = slice(1, 365))\n",
    "\n",
    "    ds_zscore = (ds_avyear - ds_mean) / ds_std\n",
    "    return ds_mean, ds_std, ds_zscore;\n",
    "\n",
    "measured_mean, measured_std, measured_zscore = get_stats(measured_avyear, measured_circ)\n",
    "model_mean, model_std, model_zscore = get_stats(model_avyear, past_circ)\n",
    "fut_mean, fut_std, fut_zscore = get_stats(fut_avyear, fut_circ)"
   ]
  },
  {
   "cell_type": "code",
   "execution_count": 39,
   "metadata": {},
   "outputs": [],
   "source": [
    "shift = measured_mean - model_mean\n",
    "scale = measured_std - model_std"
   ]
  },
  {
   "cell_type": "code",
   "execution_count": 40,
   "metadata": {},
   "outputs": [],
   "source": [
    "new_mean_past = model_mean + shift\n",
    "new_std_past = model_std * scale\n",
    "\n",
    "new_mean = fut_mean + shift\n",
    "new_std = fut_std * scale"
   ]
  },
  {
   "cell_type": "code",
   "execution_count": 41,
   "metadata": {},
   "outputs": [],
   "source": [
    "past_corrected = (model_zscore * new_std_past) + new_mean_past\n",
    "fut_corrected = (fut_zscore * new_std) + new_mean"
   ]
  }
 ],
 "metadata": {
  "kernelspec": {
   "display_name": "Python [conda env:pangeo]",
   "language": "python",
   "name": "conda-env-pangeo-py"
  },
  "language_info": {
   "codemirror_mode": {
    "name": "ipython",
    "version": 3
   },
   "file_extension": ".py",
   "mimetype": "text/x-python",
   "name": "python",
   "nbconvert_exporter": "python",
   "pygments_lexer": "ipython3",
   "version": "3.6.7"
  }
 },
 "nbformat": 4,
 "nbformat_minor": 2
}
