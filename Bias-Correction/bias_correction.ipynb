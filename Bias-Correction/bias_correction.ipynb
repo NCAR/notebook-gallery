{
 "cells": [
  {
   "cell_type": "markdown",
   "metadata": {},
   "source": [
    "## Set up Workspace"
   ]
  },
  {
   "cell_type": "markdown",
   "metadata": {},
   "source": [
    "### Steps\n",
    "\n",
    "1. Read in data\n",
    "2. Regrid to 0.25 deg Lat-Lon grid\n",
    "3. Align time\n",
    "4. Bias Correct\n",
    "5. Awaiting comparison to code in R"
   ]
  },
  {
   "cell_type": "code",
   "execution_count": 1,
   "metadata": {},
   "outputs": [],
   "source": [
    "from dask.distributed import Client\n",
    "client = Client()"
   ]
  },
  {
   "cell_type": "code",
   "execution_count": 2,
   "metadata": {},
   "outputs": [
    {
     "name": "stderr",
     "output_type": "stream",
     "text": [
      "/glade/u/home/jkent/miniconda3/envs/pangeo/lib/python3.6/site-packages/tqdm/autonotebook/__init__.py:14: TqdmExperimentalWarning: Using `tqdm.autonotebook.tqdm` in notebook mode. Use `tqdm.tqdm` instead to force console mode (e.g. in jupyter console)\n",
      "  \" (e.g. in jupyter console)\", TqdmExperimentalWarning)\n"
     ]
    }
   ],
   "source": [
    "import xarray as xr\n",
    "import numpy as np\n",
    "import matplotlib.pyplot as plt\n",
    "from matplotlib import colors\n",
    "from scipy import interpolate, stats\n",
    "import xesmf as xe\n",
    "import pandas as pd\n",
    "from calendar import isleap\n",
    "from dateutil import relativedelta as rd\n",
    "from datetime import datetime, timedelta\n",
    "import cftime\n",
    "import intake\n",
    "import yaml\n",
    "import pandas as pd\n",
    "from intake_esm import config\n",
    "from distributed.utils import format_bytes"
   ]
  },
  {
   "cell_type": "code",
   "execution_count": 3,
   "metadata": {},
   "outputs": [
    {
     "name": "stdout",
     "output_type": "stream",
     "text": [
      "/glade/u/home/jkent/miniconda3/envs/pangeo/bin/python\n"
     ]
    }
   ],
   "source": [
    "import sys\n",
    "print(sys.executable)"
   ]
  },
  {
   "cell_type": "code",
   "execution_count": 4,
   "metadata": {},
   "outputs": [],
   "source": [
    "%matplotlib inline\n",
    "\n",
    "class MidpointNormalize(colors.Normalize):\n",
    "    def __init__(self, vmin=None, vmax=None, midpoint=None, clip=False):\n",
    "        self.midpoint = midpoint\n",
    "        colors.Normalize.__init__(self, vmin, vmax, clip)\n",
    "\n",
    "    def __call__(self, value, clip=None):\n",
    "        x, y = [self.vmin, self.midpoint, self.vmax], [0, 0.5, 1]\n",
    "        return np.ma.masked_array(np.interp(value, x, y))"
   ]
  },
  {
   "cell_type": "markdown",
   "metadata": {},
   "source": [
    "## Look at Data"
   ]
  },
  {
   "cell_type": "code",
   "execution_count": 5,
   "metadata": {},
   "outputs": [
    {
     "name": "stdout",
     "output_type": "stream",
     "text": [
      "Getting file listing: CORDEX-Data:GLADE:posix:/glade/collections/cdg/data/cordex/data/\n"
     ]
    },
    {
     "data": {
      "application/vnd.jupyter.widget-view+json": {
       "model_id": "e8bc776a26934ca89dae7713a4d7ce76",
       "version_major": 2,
       "version_minor": 0
      },
      "text/plain": [
       "HBox(children=(IntProgress(value=0, description='file listing', max=17166, style=ProgressStyle(description_wid…"
      ]
     },
     "metadata": {},
     "output_type": "display_data"
    },
    {
     "name": "stdout",
     "output_type": "stream",
     "text": [
      "\n",
      "<class 'pandas.core.frame.DataFrame'>\n",
      "Int64Index: 17166 entries, 14399 to 11851\n",
      "Data columns (total 13 columns):\n",
      "resource                  17166 non-null object\n",
      "resource_type             17166 non-null object\n",
      "direct_access             17166 non-null bool\n",
      "variable                  17166 non-null object\n",
      "experiment                17166 non-null object\n",
      "global_climate_model      17166 non-null object\n",
      "regional_climate_model    17166 non-null object\n",
      "frequency                 17166 non-null object\n",
      "grid                      17166 non-null object\n",
      "bias_corrected_or_raw     17166 non-null object\n",
      "file_fullpath             17166 non-null object\n",
      "file_basename             17166 non-null object\n",
      "file_dirname              17166 non-null object\n",
      "dtypes: bool(1), object(12)\n",
      "memory usage: 1.7+ MB\n",
      "None\n",
      "Persisting NA-CORDEX at : /glade/u/home/jkent/.intake_esm/collections/cordex/NA-CORDEX.cordex.csv\n"
     ]
    }
   ],
   "source": [
    "config.get('collections.cordex')\n",
    "\n",
    "test = yaml.safe_load('''name: NA-CORDEX\n",
    "collection_type: cordex\n",
    "data_sources:\n",
    "  CORDEX-Data:\n",
    "    locations:\n",
    "      - name: GLADE\n",
    "        loc_type: posix\n",
    "        direct_access: True\n",
    "        urlpath: /glade/collections/cdg/data/cordex/data/''')        \n",
    "\n",
    "col = intake.open_esm_metadatastore(collection_input_definition=test, overwrite_existing=True)"
   ]
  },
  {
   "cell_type": "code",
   "execution_count": 6,
   "metadata": {},
   "outputs": [
    {
     "data": {
      "text/html": [
       "<div>\n",
       "<style scoped>\n",
       "    .dataframe tbody tr th:only-of-type {\n",
       "        vertical-align: middle;\n",
       "    }\n",
       "\n",
       "    .dataframe tbody tr th {\n",
       "        vertical-align: top;\n",
       "    }\n",
       "\n",
       "    .dataframe thead th {\n",
       "        text-align: right;\n",
       "    }\n",
       "</style>\n",
       "<table border=\"1\" class=\"dataframe\">\n",
       "  <thead>\n",
       "    <tr style=\"text-align: right;\">\n",
       "      <th></th>\n",
       "      <th>resource</th>\n",
       "      <th>resource_type</th>\n",
       "      <th>direct_access</th>\n",
       "      <th>variable</th>\n",
       "      <th>experiment</th>\n",
       "      <th>global_climate_model</th>\n",
       "      <th>regional_climate_model</th>\n",
       "      <th>frequency</th>\n",
       "      <th>grid</th>\n",
       "      <th>bias_corrected_or_raw</th>\n",
       "      <th>file_fullpath</th>\n",
       "      <th>file_basename</th>\n",
       "      <th>file_dirname</th>\n",
       "    </tr>\n",
       "  </thead>\n",
       "  <tbody>\n",
       "    <tr>\n",
       "      <th>10661</th>\n",
       "      <td>CORDEX-Data:GLADE:posix:/glade/collections/cdg...</td>\n",
       "      <td>posix</td>\n",
       "      <td>True</td>\n",
       "      <td>uas</td>\n",
       "      <td>hist</td>\n",
       "      <td>CanESM2</td>\n",
       "      <td>CRCM5-UQAM</td>\n",
       "      <td>day</td>\n",
       "      <td>NAM-44i</td>\n",
       "      <td>raw</td>\n",
       "      <td>/glade/collections/cdg/data/cordex/data/raw/NA...</td>\n",
       "      <td>uas.hist.CanESM2.CRCM5-UQAM.day.NAM-44i.raw.nc</td>\n",
       "      <td>/glade/collections/cdg/data/cordex/data/raw/NA...</td>\n",
       "    </tr>\n",
       "    <tr>\n",
       "      <th>10676</th>\n",
       "      <td>CORDEX-Data:GLADE:posix:/glade/collections/cdg...</td>\n",
       "      <td>posix</td>\n",
       "      <td>True</td>\n",
       "      <td>uas</td>\n",
       "      <td>rcp85</td>\n",
       "      <td>CanESM2</td>\n",
       "      <td>CRCM5-UQAM</td>\n",
       "      <td>day</td>\n",
       "      <td>NAM-44i</td>\n",
       "      <td>raw</td>\n",
       "      <td>/glade/collections/cdg/data/cordex/data/raw/NA...</td>\n",
       "      <td>uas.rcp85.CanESM2.CRCM5-UQAM.day.NAM-44i.raw.nc</td>\n",
       "      <td>/glade/collections/cdg/data/cordex/data/raw/NA...</td>\n",
       "    </tr>\n",
       "  </tbody>\n",
       "</table>\n",
       "</div>"
      ],
      "text/plain": [
       "                                                resource resource_type  \\\n",
       "10661  CORDEX-Data:GLADE:posix:/glade/collections/cdg...         posix   \n",
       "10676  CORDEX-Data:GLADE:posix:/glade/collections/cdg...         posix   \n",
       "\n",
       "       direct_access variable experiment global_climate_model  \\\n",
       "10661           True      uas       hist              CanESM2   \n",
       "10676           True      uas      rcp85              CanESM2   \n",
       "\n",
       "      regional_climate_model frequency     grid bias_corrected_or_raw  \\\n",
       "10661             CRCM5-UQAM       day  NAM-44i                   raw   \n",
       "10676             CRCM5-UQAM       day  NAM-44i                   raw   \n",
       "\n",
       "                                           file_fullpath  \\\n",
       "10661  /glade/collections/cdg/data/cordex/data/raw/NA...   \n",
       "10676  /glade/collections/cdg/data/cordex/data/raw/NA...   \n",
       "\n",
       "                                         file_basename  \\\n",
       "10661   uas.hist.CanESM2.CRCM5-UQAM.day.NAM-44i.raw.nc   \n",
       "10676  uas.rcp85.CanESM2.CRCM5-UQAM.day.NAM-44i.raw.nc   \n",
       "\n",
       "                                            file_dirname  \n",
       "10661  /glade/collections/cdg/data/cordex/data/raw/NA...  \n",
       "10676  /glade/collections/cdg/data/cordex/data/raw/NA...  "
      ]
     },
     "execution_count": 6,
     "metadata": {},
     "output_type": "execute_result"
    }
   ],
   "source": [
    "query = col.search(variable='uas', global_climate_model = 'CanESM2', experiment = ['hist', 'rcp85'], regional_climate_model = 'CRCM5-UQAM', frequency = 'day', grid = 'NAM-44i', bias_corrected_or_raw = 'raw')\n",
    "query.query_results.head()"
   ]
  },
  {
   "cell_type": "code",
   "execution_count": 7,
   "metadata": {},
   "outputs": [
    {
     "data": {
      "application/vnd.jupyter.widget-view+json": {
       "model_id": "a71f59b0beb04147b08a6b665865e8a5",
       "version_major": 2,
       "version_minor": 0
      },
      "text/plain": [
       "HBox(children=(IntProgress(value=0, description='dataset', max=2, style=ProgressStyle(description_width='initi…"
      ]
     },
     "metadata": {},
     "output_type": "display_data"
    },
    {
     "name": "stdout",
     "output_type": "stream",
     "text": [
      "\n"
     ]
    }
   ],
   "source": [
    "dset = query.to_xarray(chunks = {'time':100})"
   ]
  },
  {
   "cell_type": "code",
   "execution_count": 8,
   "metadata": {},
   "outputs": [
    {
     "data": {
      "text/plain": [
       "dict_keys(['CanESM2.CRCM5-UQAM.day.NAM-44i.raw.hist', 'CanESM2.CRCM5-UQAM.day.NAM-44i.raw.rcp85'])"
      ]
     },
     "execution_count": 8,
     "metadata": {},
     "output_type": "execute_result"
    }
   ],
   "source": [
    "dset.keys()"
   ]
  },
  {
   "cell_type": "code",
   "execution_count": 9,
   "metadata": {},
   "outputs": [],
   "source": [
    "hist = dset['CanESM2.CRCM5-UQAM.day.NAM-44i.raw.hist']\n",
    "rcp85 = dset['CanESM2.CRCM5-UQAM.day.NAM-44i.raw.rcp85']"
   ]
  },
  {
   "cell_type": "code",
   "execution_count": 10,
   "metadata": {},
   "outputs": [
    {
     "data": {
      "text/plain": [
       "<xarray.Dataset>\n",
       "Dimensions:    (bnds: 2, lat: 129, lon: 300, time: 20440)\n",
       "Coordinates:\n",
       "  * time       (time) object 1950-01-01 12:00:00 ... 2005-12-31 12:00:00\n",
       "  * lat        (lat) float64 12.25 12.75 13.25 13.75 ... 74.75 75.25 75.75 76.25\n",
       "  * lon        (lon) float64 -171.8 -171.2 -170.8 ... -23.25 -22.75 -22.25\n",
       "    time_bnds  (time, bnds) object dask.array<shape=(20440, 2), chunksize=(100, 2)>\n",
       "Dimensions without coordinates: bnds\n",
       "Data variables:\n",
       "    uas        (time, lat, lon) float32 dask.array<shape=(20440, 129, 300), chunksize=(100, 129, 300)>\n",
       "Attributes:\n",
       "    Conventions:                    CF-1.4\n",
       "    institution:                    Universite du Quebec a Montreal\n",
       "    contact:                        Winger.Katja@uqam.ca\n",
       "    comment:                        CORDEX North America CRCM5 v333 0.44 deg ...\n",
       "    model:                          CRCM5 (dynamics GEM v_3.3.3, physics RPN ...\n",
       "    model_grid:                     rotated lat-lon 236x241 incl. 10p pilot a...\n",
       "    geophysical_fields:             orography: USGS / land use cover: USGS / ...\n",
       "    physics:                        land: CLASS3.5+, 26L, bottom at 60m / lak...\n",
       "    forcing:                        GHG: CO2,CH4,N2O,CFC11,effective CFC12\n",
       "    creation_date:                  2012-09-06\n",
       "    experiment:                     historical\n",
       "    experiment_id:                  historical\n",
       "    driving_model_ensemble_member:  r1i1p1\n",
       "    driving_experiment_name:        historical\n",
       "    frequency:                      day\n",
       "    institute_id:                   UQAM\n",
       "    rcm_version_id:                 v1\n",
       "    project_id:                     CORDEX\n",
       "    CORDEX_domain:                  NAM-44\n",
       "    product:                        output\n",
       "    references:                     http://www.mrcc.uqam.ca\n",
       "    history:                        2019-08-16 15:01:52.564772 xarray.open_da...\n",
       "    NCO:                            netCDF Operators version 4.7.4 (http://nc...\n",
       "    model_id:                       UQAM-CRCM5\n",
       "    driving_experiment:             CCCma-CanESM2,historical,r1i1p1\n",
       "    driving_model_id:               CCCma-CanESM2\n",
       "    history_of_appended_files:      Wed Sep  5 00:03:57 2018: Appended file t...\n",
       "    tracking_id:                    5718ce6b-2ffb-4efb-9b49-f123e4184106\n",
       "    nco_openmp_thread_number:       1\n",
       "    id:                             doi:10.5065/D6SJ1JCH\n",
       "    title:                          NA-CORDEX Raw NAM-44i CRCM5-UQAM CanESM2 ...\n",
       "    version:                        1.0"
      ]
     },
     "execution_count": 10,
     "metadata": {},
     "output_type": "execute_result"
    }
   ],
   "source": [
    "hist"
   ]
  },
  {
   "cell_type": "code",
   "execution_count": 11,
   "metadata": {},
   "outputs": [
    {
     "data": {
      "image/png": "[encoded data removed]",
      "text/plain": [
       "<Figure size 432x288 with 2 Axes>"
      ]
     },
     "metadata": {
      "needs_background": "light"
     },
     "output_type": "display_data"
    }
   ],
   "source": [
    "var = 'uas'\n",
    "plt.contourf(hist.lon, hist.lat, hist[var].isel(time=0), norm=MidpointNormalize(midpoint=0.), cmap='PRGn')\n",
    "cbar = plt.colorbar()\n",
    "cbar.set_label('m / s', size=15)"
   ]
  },
  {
   "cell_type": "code",
   "execution_count": 12,
   "metadata": {},
   "outputs": [
    {
     "data": {
      "text/plain": [
       "<xarray.Dataset>\n",
       "Dimensions:    (bnds: 2, lat: 129, lon: 300, time: 34674)\n",
       "Coordinates:\n",
       "  * time       (time) object 2006-01-01 12:00:00 ... 2100-12-30 12:00:00\n",
       "  * lat        (lat) float64 12.25 12.75 13.25 13.75 ... 74.75 75.25 75.75 76.25\n",
       "  * lon        (lon) float64 -171.8 -171.2 -170.8 ... -23.25 -22.75 -22.25\n",
       "    time_bnds  (time, bnds) object dask.array<shape=(34674, 2), chunksize=(100, 2)>\n",
       "Dimensions without coordinates: bnds\n",
       "Data variables:\n",
       "    uas        (time, lat, lon) float32 dask.array<shape=(34674, 129, 300), chunksize=(100, 129, 300)>\n",
       "Attributes:\n",
       "    Conventions:                    CF-1.4\n",
       "    institution:                    Universite du Quebec a Montreal\n",
       "    contact:                        Winger.Katja@uqam.ca\n",
       "    comment:                        CORDEX North America CRCM5 v333 0.44 deg ...\n",
       "    model:                          CRCM5 (dynamics GEM v_3.3.3, physics RPN ...\n",
       "    model_grid:                     rotated lat-lon 212x200 incl. 10p pilot a...\n",
       "    geophysical_fields:             orography: USGS / land use cover: USGS / ...\n",
       "    physics:                        land: CLASS3.5+, 26L, bottom at 60m / lak...\n",
       "    forcing:                        GHG: CO2,CH4,N2O,CFC11,effective CFC12\n",
       "    creation_date:                  2016-06-23T04:37:48Z\n",
       "    experiment:                     rcp85\n",
       "    experiment_id:                  rcp85\n",
       "    driving_experiment:             CCCma-CanESM2, rcp85, r1i1p1\n",
       "    driving_model_id:               CCCma-CanESM2\n",
       "    driving_model_ensemble_member:  r1i1p1\n",
       "    driving_experiment_name:        rcp85\n",
       "    frequency:                      day\n",
       "    institute_id:                   UQAM\n",
       "    model_id:                       UQAM-CRCM5\n",
       "    rcm_version_id:                 v1\n",
       "    project_id:                     CORDEX\n",
       "    CORDEX_domain:                  NAM-44\n",
       "    product:                        output\n",
       "    references:                     http://www.mrcc.uqam.ca\n",
       "    history:                        2019-08-16 15:02:09.278580 xarray.open_da...\n",
       "    NCO:                            netCDF Operators version 4.7.4 (http://nc...\n",
       "    history_of_appended_files:      Tue Sep  4 17:01:00 2018: Appended file t...\n",
       "    tracking_id:                    78d7027a-2bac-4bf7-a69f-ae88a5aa4d4b\n",
       "    nco_openmp_thread_number:       1\n",
       "    id:                             doi:10.5065/D6SJ1JCH\n",
       "    title:                          NA-CORDEX Raw NAM-44i CRCM5-UQAM CanESM2 ...\n",
       "    version:                        1.0"
      ]
     },
     "execution_count": 12,
     "metadata": {},
     "output_type": "execute_result"
    }
   ],
   "source": [
    "rcp85"
   ]
  },
  {
   "cell_type": "code",
   "execution_count": 121,
   "metadata": {},
   "outputs": [
    {
     "data": {
      "text/plain": [
       "<xarray.DataArray 'uas' (lat: 129, lon: 300)>\n",
       "dask.array<shape=(129, 300), dtype=float32, chunksize=(129, 300)>\n",
       "Coordinates:\n",
       "    time     object 2050-10-27 12:00:00\n",
       "  * lat      (lat) float64 12.25 12.75 13.25 13.75 ... 74.75 75.25 75.75 76.25\n",
       "  * lon      (lon) float64 -171.8 -171.2 -170.8 -170.2 ... -23.25 -22.75 -22.25\n",
       "Attributes:\n",
       "    units:          m s-1\n",
       "    long_name:      Eastward Near-Surface Wind\n",
       "    standard_name:  eastward_wind\n",
       "    level_desc:     Height\n",
       "    grid_desc:      rotated_pole\n",
       "    cell_methods:   time: mean\n",
       "    remap:          remapped via ESMF_regrid_with_weights: Higher-order Patch"
      ]
     },
     "execution_count": 121,
     "metadata": {},
     "output_type": "execute_result"
    }
   ],
   "source": [
    "rcp85.uas.isel(time=16359)"
   ]
  },
  {
   "cell_type": "code",
   "execution_count": 123,
   "metadata": {},
   "outputs": [
    {
     "data": {
      "text/plain": [
       "<xarray.DataArray 'uas' (time: 1, lat: 129, lon: 300)>\n",
       "dask.array<shape=(1, 129, 300), dtype=float32, chunksize=(1, 129, 300)>\n",
       "Coordinates:\n",
       "  * time     (time) object 2050-10-27 12:00:00\n",
       "  * lat      (lat) float64 12.25 12.75 13.25 13.75 ... 74.75 75.25 75.75 76.25\n",
       "  * lon      (lon) float64 -171.8 -171.2 -170.8 -170.2 ... -23.25 -22.75 -22.25\n",
       "Attributes:\n",
       "    units:          m s-1\n",
       "    long_name:      Eastward Near-Surface Wind\n",
       "    standard_name:  eastward_wind\n",
       "    level_desc:     Height\n",
       "    grid_desc:      rotated_pole\n",
       "    cell_methods:   time: mean\n",
       "    remap:          remapped via ESMF_regrid_with_weights: Higher-order Patch"
      ]
     },
     "execution_count": 123,
     "metadata": {},
     "output_type": "execute_result"
    }
   ],
   "source": [
    "rcp85.uas.sel(time='2050-10-27')"
   ]
  },
  {
   "cell_type": "code",
   "execution_count": 124,
   "metadata": {},
   "outputs": [
    {
     "data": {
      "image/png": "[encoded data removed]",
      "text/plain": [
       "<Figure size 432x288 with 2 Axes>"
      ]
     },
     "metadata": {
      "needs_background": "light"
     },
     "output_type": "display_data"
    }
   ],
   "source": [
    "plt.contourf(rcp85.lon, rcp85.lat, rcp85[var].isel(time=16359), norm=MidpointNormalize(midpoint=0.), cmap='PRGn')\n",
    "cbar = plt.colorbar()\n",
    "cbar.set_label('m / s', size=15)"
   ]
  },
  {
   "cell_type": "code",
   "execution_count": 16,
   "metadata": {},
   "outputs": [],
   "source": [
    "#Measured Data still not supported by intake-esm\n",
    "\n",
    "path = '../../kddm/data/uas/'\n",
    "measured = xr.open_dataset(path+'uas.METDATA.44i.nc', chunks = {'time':100})\n",
    "#hist = xr.open_dataset(path+'uas.hist.CanESM2.CRCM5-UQAM.day.NAM-44i.raw.nc', chunks = {'time':5})\n",
    "#rcp85 = xr.open_dataset(path+'uas.rcp85.CanESM2.CRCM5-UQAM.day.NAM-44i.raw.nc', chunks = {'time':5})"
   ]
  },
  {
   "cell_type": "code",
   "execution_count": 17,
   "metadata": {},
   "outputs": [
    {
     "data": {
      "text/plain": [
       "<xarray.Dataset>\n",
       "Dimensions:  (lat: 129, lon: 300, time: 12784)\n",
       "Coordinates:\n",
       "  * time     (time) datetime64[ns] 1979-01-01T18:00:00 ... 2013-12-31T18:00:00\n",
       "  * lat      (lat) float64 12.25 12.75 13.25 13.75 ... 74.75 75.25 75.75 76.25\n",
       "  * lon      (lon) float64 188.2 188.8 189.2 189.8 ... 336.2 336.8 337.2 337.8\n",
       "Data variables:\n",
       "    uas      (time, lat, lon) float32 dask.array<shape=(12784, 129, 300), chunksize=(100, 129, 300)>\n",
       "Attributes:\n",
       "    author:                    John Abatzoglou - University of Idaho, jabatzo...\n",
       "    creation_date:             18 May 2012\n",
       "    datum:                     WGS 84\n",
       "    title:                     METDATA gridded surface meteorological data\n",
       "    institution:               University of Idaho\n",
       "    contact:                   John Abatzoglou, jabatzoglou@uidaho.edu\n",
       "    URL:                       http://metdata.northwestknowledge.net/\n",
       "    references:                Abatzoglou, J.T., 2012, Development of gridded...\n",
       "    source:                    METDATA combines data from PRISM and NLDAS-2\\n...\n",
       "    acknowledgements:          CF compliance by Seth McGinnis, mcginnis@ucar.edu\n",
       "    Conventions:               CF-1.6\n",
       "    NCO:                       \"4.5.5\"\n",
       "    history:                   Fri Oct 21 11:50:22 2016: ncrcat -n 35,4,1 com...\n",
       "    nco_openmp_thread_number:  1"
      ]
     },
     "execution_count": 17,
     "metadata": {},
     "output_type": "execute_result"
    }
   ],
   "source": [
    "measured"
   ]
  },
  {
   "cell_type": "code",
   "execution_count": 18,
   "metadata": {},
   "outputs": [
    {
     "data": {
      "image/png": "[encoded data removed]",
      "text/plain": [
       "<Figure size 432x288 with 2 Axes>"
      ]
     },
     "metadata": {
      "needs_background": "light"
     },
     "output_type": "display_data"
    }
   ],
   "source": [
    "plt.contourf(measured.lon, measured.lat, measured[var].isel(time=0), norm=MidpointNormalize(midpoint=0.), cmap='PRGn')\n",
    "cbar = plt.colorbar()\n",
    "cbar.set_label('m / s', size=15)"
   ]
  },
  {
   "cell_type": "markdown",
   "metadata": {},
   "source": [
    "## Filter and Regrid Data to Quarter Degree Grid"
   ]
  },
  {
   "cell_type": "code",
   "execution_count": 19,
   "metadata": {},
   "outputs": [],
   "source": [
    "def _flt_nans(ds):\n",
    "    ds_droplats = ds.dropna(dim='lat', how ='all')\n",
    "    ds_flt = ds_droplats.dropna(dim='lon', how='all')\n",
    "    return ds_flt\n",
    "\n",
    "def _get_wesn(ds):\n",
    "    lon_min = float(np.min(ds.lon))\n",
    "    lon_max = float(np.max(ds.lon))\n",
    "    lat_min = float(np.min(ds.lat))\n",
    "    lat_max = float(np.max(ds.lat))\n",
    "    wesn = [lon_min, lon_max, lat_min, lat_max]\n",
    "    return wesn\n",
    "\n",
    "def _get_newgrid(ds, wesn):\n",
    "    grid = 0.25\n",
    "    wesn_g = [int(round(i * 4)) / 4 for i in wesn]\n",
    "\n",
    "    new_lon = np.arange(wesn_g[0],wesn_g[1], grid)\n",
    "    new_lat = np.arange(wesn_g[2], wesn_g[3]+grid, grid)\n",
    "\n",
    "    newgrid = xr.Dataset({'lat': (['lat'], new_lat), 'lon': (['lon'], new_lon)})\n",
    "    return newgrid\n",
    "\n",
    "def _force_pos_lon(ds):\n",
    "    ds_poslon = ds.assign_coords(lon = ds.lon+ 360) if (np.min(ds.lon) < 0) else ds\n",
    "    return ds_poslon\n",
    "\n",
    "def _regrid(ds, newgrid, method='bilinear'):\n",
    "    regridder_ds = xe.Regridder(ds, newgrid, method)\n",
    "    ds_rgrd = regridder_ds(ds[var])\n",
    "    return ds_rgrd"
   ]
  },
  {
   "cell_type": "code",
   "execution_count": 20,
   "metadata": {},
   "outputs": [],
   "source": [
    "def regrid_measured_coords(ds, method='bilinear'):\n",
    "    ds_flt = _flt_nans(ds)\n",
    "    wesn = _get_wesn(ds_flt)\n",
    "    newgrid = _get_newgrid(ds_flt, wesn)\n",
    "    ds_rgrd = _regrid(ds_flt, newgrid, method)\n",
    "    return ds_rgrd, wesn, newgrid\n",
    "\n",
    "def regrid_model_coords(ds, wesn, newgrid):\n",
    "    ds_poslon = _force_pos_lon(ds)    \n",
    "    ds_flt = ds_poslon.sel(lon = slice(wesn[0], wesn[1]),lat = slice(wesn[2], wesn[3]))\n",
    "    ds_rgrd = _regrid(ds_flt, newgrid)\n",
    "    return ds_rgrd"
   ]
  },
  {
   "cell_type": "code",
   "execution_count": 21,
   "metadata": {},
   "outputs": [
    {
     "name": "stdout",
     "output_type": "stream",
     "text": [
      "Overwrite existing file: bilinear_49x116_97x230.nc \n",
      " You can set reuse_weights=True to save computing time.\n",
      "Overwrite existing file: bilinear_49x116_97x230.nc \n",
      " You can set reuse_weights=True to save computing time.\n",
      "Overwrite existing file: bilinear_49x116_97x230.nc \n",
      " You can set reuse_weights=True to save computing time.\n"
     ]
    }
   ],
   "source": [
    "measured_rgrd, wesn, newgrid = regrid_measured_coords(measured)\n",
    "hist_rgrd = regrid_model_coords(hist, wesn, newgrid)\n",
    "rcp85_rgrd = regrid_model_coords(rcp85, wesn, newgrid)"
   ]
  },
  {
   "cell_type": "code",
   "execution_count": 22,
   "metadata": {},
   "outputs": [
    {
     "data": {
      "text/plain": [
       "<xarray.DataArray 'uas' (time: 12784, lat: 97, lon: 230)>\n",
       "array([[[nan,  0., ..., nan,  0.],\n",
       "        [nan, nan, ..., nan, nan],\n",
       "        ...,\n",
       "        [nan, nan, ..., nan, nan],\n",
       "        [nan, nan, ..., nan, nan]],\n",
       "\n",
       "       [[nan,  0., ..., nan,  0.],\n",
       "        [nan, nan, ..., nan, nan],\n",
       "        ...,\n",
       "        [nan, nan, ..., nan, nan],\n",
       "        [nan, nan, ..., nan, nan]],\n",
       "\n",
       "       ...,\n",
       "\n",
       "       [[nan,  0., ..., nan,  0.],\n",
       "        [nan, nan, ..., nan, nan],\n",
       "        ...,\n",
       "        [nan, nan, ..., nan, nan],\n",
       "        [nan, nan, ..., nan, nan]],\n",
       "\n",
       "       [[nan,  0., ..., nan,  0.],\n",
       "        [nan, nan, ..., nan, nan],\n",
       "        ...,\n",
       "        [nan, nan, ..., nan, nan],\n",
       "        [nan, nan, ..., nan, nan]]])\n",
       "Coordinates:\n",
       "  * lon      (lon) float64 235.2 235.5 235.8 236.0 ... 291.8 292.0 292.2 292.5\n",
       "  * lat      (lat) float64 25.25 25.5 25.75 26.0 26.25 ... 48.5 48.75 49.0 49.25\n",
       "  * time     (time) datetime64[ns] 1979-01-01T18:00:00 ... 2013-12-31T18:00:00\n",
       "Attributes:\n",
       "    regrid_method:  bilinear"
      ]
     },
     "execution_count": 22,
     "metadata": {},
     "output_type": "execute_result"
    }
   ],
   "source": [
    "measured_rgrd"
   ]
  },
  {
   "cell_type": "code",
   "execution_count": 23,
   "metadata": {},
   "outputs": [
    {
     "data": {
      "image/png": "[encoded data removed]",
      "text/plain": [
       "<Figure size 432x288 with 2 Axes>"
      ]
     },
     "metadata": {
      "needs_background": "light"
     },
     "output_type": "display_data"
    }
   ],
   "source": [
    "plt.contourf(measured_rgrd.lon, measured_rgrd.lat, measured_rgrd.isel(time=300), norm=MidpointNormalize(midpoint=0.), cmap='PRGn')\n",
    "cbar = plt.colorbar()\n",
    "cbar.set_label('m / s', size=15)"
   ]
  },
  {
   "cell_type": "code",
   "execution_count": 24,
   "metadata": {},
   "outputs": [
    {
     "data": {
      "text/plain": [
       "<xarray.DataArray 'uas' (time: 20440, lat: 97, lon: 230)>\n",
       "array([[[-2.695749,  0.      , ..., -1.328027,  0.      ],\n",
       "        [-2.520496, -2.559895, ..., -1.328161, -1.201493],\n",
       "        ...,\n",
       "        [-2.613294, -2.23724 , ...,  2.031433,  2.031059],\n",
       "        [-1.36579 , -1.373427, ...,  2.222981,  2.415996]],\n",
       "\n",
       "       [[-4.738876,  0.      , ..., -2.791428,  0.      ],\n",
       "        [-4.597237, -4.609545, ..., -2.838502, -2.761654],\n",
       "        ...,\n",
       "        [-1.068268, -0.912631, ...,  3.238431,  3.184399],\n",
       "        [-1.195681, -1.220764, ...,  3.250021,  3.365657]],\n",
       "\n",
       "       ...,\n",
       "\n",
       "       [[-2.386081,  0.      , ...,  8.028358,  0.      ],\n",
       "        [-2.363914, -2.311048, ...,  8.474684,  8.470456],\n",
       "        ...,\n",
       "        [-1.363128, -1.356034, ..., -7.048817, -6.943714],\n",
       "        [-1.346059, -1.540257, ..., -7.479018, -7.915758]],\n",
       "\n",
       "       [[-3.129025,  0.      , ...,  0.630677,  0.      ],\n",
       "        [-2.93675 , -2.793691, ...,  0.873429,  0.865999],\n",
       "        ...,\n",
       "        [ 1.871005,  1.764003, ...,  0.282991,  0.139812],\n",
       "        [ 1.3384  ,  1.391336, ...,  0.118799, -0.089937]]])\n",
       "Coordinates:\n",
       "  * lon      (lon) float64 235.2 235.5 235.8 236.0 ... 291.8 292.0 292.2 292.5\n",
       "  * lat      (lat) float64 25.25 25.5 25.75 26.0 26.25 ... 48.5 48.75 49.0 49.25\n",
       "  * time     (time) object 1950-01-01 12:00:00 ... 2005-12-31 12:00:00\n",
       "Attributes:\n",
       "    regrid_method:  bilinear"
      ]
     },
     "execution_count": 24,
     "metadata": {},
     "output_type": "execute_result"
    }
   ],
   "source": [
    "hist_rgrd"
   ]
  },
  {
   "cell_type": "code",
   "execution_count": 25,
   "metadata": {},
   "outputs": [
    {
     "data": {
      "image/png": "[encoded data removed]",
      "text/plain": [
       "<Figure size 432x288 with 2 Axes>"
      ]
     },
     "metadata": {
      "needs_background": "light"
     },
     "output_type": "display_data"
    }
   ],
   "source": [
    "plt.contourf(hist_rgrd.lon, hist_rgrd.lat, hist_rgrd.isel(time=0), norm=MidpointNormalize(midpoint=0.), cmap='PRGn')\n",
    "cbar = plt.colorbar()\n",
    "cbar.set_label('m / s', size=15)"
   ]
  },
  {
   "cell_type": "code",
   "execution_count": 26,
   "metadata": {},
   "outputs": [
    {
     "data": {
      "text/plain": [
       "<xarray.DataArray 'uas' (time: 34674, lat: 97, lon: 230)>\n",
       "array([[[-4.565626,  0.      , ...,  2.124518,  0.      ],\n",
       "        [-4.341277, -4.131176, ...,  2.459693,  2.436744],\n",
       "        ...,\n",
       "        [ 0.277411,  0.483086, ...,  1.980614,  1.824785],\n",
       "        [ 0.307784,  0.530772, ...,  1.922985,  1.809547]],\n",
       "\n",
       "       [[-5.543156,  0.      , ..., -3.226155,  0.      ],\n",
       "        [-5.372837, -5.190542, ..., -2.984439, -2.76816 ],\n",
       "        ...,\n",
       "        [-2.237809, -2.135275, ...,  7.711422,  7.662871],\n",
       "        [-1.819258, -2.01786 , ...,  7.585784,  7.999334]],\n",
       "\n",
       "       ...,\n",
       "\n",
       "       [[ 0.573676,  0.      , ...,  5.086287,  0.      ],\n",
       "        [ 0.6608  ,  0.405164, ...,  5.519511,  5.218391],\n",
       "        ...,\n",
       "        [-2.221761, -2.035392, ..., -7.337241, -7.218599],\n",
       "        [-1.486024, -1.569708, ..., -7.762578, -8.163323]],\n",
       "\n",
       "       [[ 0.096178,  0.      , ...,  1.829699,  0.      ],\n",
       "        [ 0.171771,  0.276366, ...,  2.24282 ,  2.277234],\n",
       "        ...,\n",
       "        [-1.953026, -1.77832 , ..., -3.137006, -3.179784],\n",
       "        [-1.355607, -1.408519, ..., -3.692148, -4.06405 ]]])\n",
       "Coordinates:\n",
       "  * lon      (lon) float64 235.2 235.5 235.8 236.0 ... 291.8 292.0 292.2 292.5\n",
       "  * lat      (lat) float64 25.25 25.5 25.75 26.0 26.25 ... 48.5 48.75 49.0 49.25\n",
       "  * time     (time) object 2006-01-01 12:00:00 ... 2100-12-30 12:00:00\n",
       "Attributes:\n",
       "    regrid_method:  bilinear"
      ]
     },
     "execution_count": 26,
     "metadata": {},
     "output_type": "execute_result"
    }
   ],
   "source": [
    "rcp85_rgrd"
   ]
  },
  {
   "cell_type": "code",
   "execution_count": 27,
   "metadata": {},
   "outputs": [
    {
     "data": {
      "image/png": "[encoded data removed]",
      "text/plain": [
       "<Figure size 432x288 with 2 Axes>"
      ]
     },
     "metadata": {
      "needs_background": "light"
     },
     "output_type": "display_data"
    }
   ],
   "source": [
    "plt.contourf(rcp85_rgrd.lon, rcp85_rgrd.lat, rcp85_rgrd.isel(time=16211), norm=MidpointNormalize(midpoint=0.), cmap='PRGn')\n",
    "cbar = plt.colorbar()\n",
    "cbar.set_label('m / s', size=15)"
   ]
  },
  {
   "cell_type": "markdown",
   "metadata": {},
   "source": [
    "## Align Time\n",
    "\n",
    "Things to be added to this section:\n",
    "- Utilize calendar checking. Does this break if the calendars are different from Datetime.NoLeap and Gregorian?\n",
    "- Add different methods of forcing a 366 day calendar to match the 365 day calendar - or a 360 day calendar for that matter:\n",
    "     - Interpolation is not good for discontinuous atmospheric variables\n",
    "     - Perhaps only average February 28th and 29th together (as opposed to the whole dataset being affected)\n",
    "     - Try subsampling (always drop February 29th or December 31st vs randomly distributing dropped days so they don't fall in the same place each year\n",
    "- Add an alert so for spiky discontinuous variables letting the user know how much precipitation was dropped, ex"
   ]
  },
  {
   "cell_type": "code",
   "execution_count": 28,
   "metadata": {},
   "outputs": [],
   "source": [
    "def _check_calendars(da_measured, da_hist, da_rcp):\n",
    "    cal_measured = da_measured.time.encoding['calendar']\n",
    "    cal_hist = da_hist.time.encoding['calendar']\n",
    "    cal_fut = da_rcp.time.encoding['calendar']\n",
    "    return cal_measured, cal_hist, cal_fut\n",
    "\n",
    "def _cfnoleap_to_datetime(da):\n",
    "    datetimeindex = da.indexes['time'].to_datetimeindex()\n",
    "    ds = da.to_dataset()\n",
    "    ds['time_dt']= ('time', datetimeindex)\n",
    "    ds = ds.swap_dims({'time': 'time_dt'})\n",
    "    assert len(da.time) == len(ds.time_dt)\n",
    "    return ds\n",
    "\n",
    "def _regroup_models_bytime(da_measured, ds_hist, ds_rcp):\n",
    "    t0_measured = da_measured.time[0]\n",
    "    t_last_measured = da_measured.time[-1]\n",
    "    t0_fut = t_last_measured.values + np.timedelta64(1, 'D')\n",
    "    \n",
    "    ds_past = ds_hist.sel(time_dt = slice(t0_measured, t_last_measured))\n",
    "    \n",
    "    ds_fut_pt1 = ds_hist.sel(time_dt = slice(t0_fut,None))\n",
    "    ds_fut = xr.concat([ds_fut_pt1, ds_rcp], 'time_dt')\n",
    "    return ds_past, ds_fut\n",
    "\n",
    "def _cal_interpolate(da_measured, ds_past):\n",
    "    years = da_measured.time.dt.year\n",
    "    leap_bool = [isleap(y) for y in set(years.values)]\n",
    "\n",
    "    da_measured_noleap = da_measured.interp(time = ds_past.time_dt)\n",
    "    da_measured_noleap.coords['time'] = ds_past.time\n",
    "    assert len(da_measured_noleap.time) - len(ds_past.time_dt) == 0\n",
    "    return da_measured_noleap"
   ]
  },
  {
   "cell_type": "code",
   "execution_count": 29,
   "metadata": {},
   "outputs": [],
   "source": [
    "def align_time(da_measured, da_hist, da_rcp, method='interpolate'):\n",
    "    ds_hist_dt = _cfnoleap_to_datetime(da_hist) \n",
    "    ds_rcp_dt = _cfnoleap_to_datetime(da_rcp)  \n",
    "    \n",
    "    ds_past, ds_fut = _regroup_models_bytime(da_measured, ds_hist_dt, ds_rcp_dt)\n",
    "    \n",
    "    if method == 'interpolate':\n",
    "        ds_measured_noleap = _cal_interpolate(da_measured, ds_past)\n",
    "    else:\n",
    "        raise ValueError('Only Interpolation Method is Supported.')\n",
    "    \n",
    "    ds_measured = ds_measured_noleap.swap_dims({'time_dt':'time'})\n",
    "    ds_past = ds_past.swap_dims({'time_dt':'time'})\n",
    "    ds_fut = ds_fut.swap_dims({'time_dt':'time'})\n",
    "    return ds_measured, ds_past, ds_fut"
   ]
  },
  {
   "cell_type": "code",
   "execution_count": 30,
   "metadata": {},
   "outputs": [
    {
     "name": "stderr",
     "output_type": "stream",
     "text": [
      "/glade/u/home/jkent/miniconda3/envs/pangeo/lib/python3.6/site-packages/ipykernel_launcher.py:8: RuntimeWarning: Converting a CFTimeIndex with dates from a non-standard calendar, 'noleap', to a pandas.DatetimeIndex, which uses dates from the standard calendar.  This may lead to subtle errors in operations that depend on the length of time between dates.\n",
      "  \n"
     ]
    }
   ],
   "source": [
    "ds_measured, ds_past, ds_fut = align_time(measured_rgrd, hist_rgrd, rcp85_rgrd)"
   ]
  },
  {
   "cell_type": "code",
   "execution_count": 31,
   "metadata": {},
   "outputs": [
    {
     "data": {
      "text/plain": [
       "<xarray.DataArray 'uas' (time: 9854, lat: 97, lon: 230)>\n",
       "array([[[nan,  0., ..., nan,  0.],\n",
       "        [nan, nan, ..., nan, nan],\n",
       "        ...,\n",
       "        [nan, nan, ..., nan, nan],\n",
       "        [nan, nan, ..., nan, nan]],\n",
       "\n",
       "       [[nan,  0., ..., nan,  0.],\n",
       "        [nan, nan, ..., nan, nan],\n",
       "        ...,\n",
       "        [nan, nan, ..., nan, nan],\n",
       "        [nan, nan, ..., nan, nan]],\n",
       "\n",
       "       ...,\n",
       "\n",
       "       [[nan,  0., ..., nan,  0.],\n",
       "        [nan, nan, ..., nan, nan],\n",
       "        ...,\n",
       "        [nan, nan, ..., nan, nan],\n",
       "        [nan, nan, ..., nan, nan]],\n",
       "\n",
       "       [[nan,  0., ..., nan,  0.],\n",
       "        [nan, nan, ..., nan, nan],\n",
       "        ...,\n",
       "        [nan, nan, ..., nan, nan],\n",
       "        [nan, nan, ..., nan, nan]]])\n",
       "Coordinates:\n",
       "  * lon      (lon) float64 235.2 235.5 235.8 236.0 ... 291.8 292.0 292.2 292.5\n",
       "  * lat      (lat) float64 25.25 25.5 25.75 26.0 26.25 ... 48.5 48.75 49.0 49.25\n",
       "  * time     (time) object 1979-01-02 12:00:00 ... 2005-12-31 12:00:00\n",
       "    time_dt  (time) datetime64[ns] 1979-01-02T12:00:00 ... 2005-12-31T12:00:00\n",
       "Attributes:\n",
       "    regrid_method:  bilinear"
      ]
     },
     "execution_count": 31,
     "metadata": {},
     "output_type": "execute_result"
    }
   ],
   "source": [
    "ds_measured"
   ]
  },
  {
   "cell_type": "code",
   "execution_count": 32,
   "metadata": {},
   "outputs": [
    {
     "data": {
      "text/plain": [
       "<xarray.Dataset>\n",
       "Dimensions:  (lat: 97, lon: 230, time: 9854)\n",
       "Coordinates:\n",
       "  * lon      (lon) float64 235.2 235.5 235.8 236.0 ... 291.8 292.0 292.2 292.5\n",
       "  * lat      (lat) float64 25.25 25.5 25.75 26.0 26.25 ... 48.5 48.75 49.0 49.25\n",
       "  * time     (time) object 1979-01-02 12:00:00 ... 2005-12-31 12:00:00\n",
       "    time_dt  (time) datetime64[ns] 1979-01-02T12:00:00 ... 2005-12-31T12:00:00\n",
       "Data variables:\n",
       "    uas      (time, lat, lon) float64 -5.603 0.0 -5.309 ... 0.1188 -0.08994"
      ]
     },
     "execution_count": 32,
     "metadata": {},
     "output_type": "execute_result"
    }
   ],
   "source": [
    "ds_past"
   ]
  },
  {
   "cell_type": "code",
   "execution_count": 33,
   "metadata": {},
   "outputs": [
    {
     "data": {
      "text/plain": [
       "<xarray.Dataset>\n",
       "Dimensions:  (lat: 97, lon: 230, time: 34674)\n",
       "Coordinates:\n",
       "  * lon      (lon) float64 235.2 235.5 235.8 236.0 ... 291.8 292.0 292.2 292.5\n",
       "  * lat      (lat) float64 25.25 25.5 25.75 26.0 26.25 ... 48.5 48.75 49.0 49.25\n",
       "  * time     (time) object 2006-01-01 12:00:00 ... 2100-12-30 12:00:00\n",
       "    time_dt  (time) datetime64[ns] 2006-01-01T12:00:00 ... 2100-12-30T12:00:00\n",
       "Data variables:\n",
       "    uas      (time, lat, lon) float64 -4.566 0.0 -4.153 ... -3.257 -3.692 -4.064"
      ]
     },
     "execution_count": 33,
     "metadata": {},
     "output_type": "execute_result"
    }
   ],
   "source": [
    "ds_fut"
   ]
  },
  {
   "cell_type": "markdown",
   "metadata": {},
   "source": [
    "## Bias Correction\n",
    "### Need to Grouby Average for Every Day Across Years\n",
    "#### (Dec 15 -> full 12 months -> Jan 15)\n",
    "\n",
    "Things to be added to this section:   \n",
    "- Bias correction methods other than zscore:\n",
    "    - scale (for wind speed, wave flux in air)\n",
    "    - log (for precipitation)\n",
    "    - range (relative humidity)\n",
    "    - seth mcginnes's kddm (for any bimodal distributions)\n",
    "- Option for time notto be flattened to a one year array for analysis (for temperature with strong climate change trend)\n",
    "- If data cannot be bias-corrected it should be filled with uncorrected data, currently it becomes NaNs"
   ]
  },
  {
   "cell_type": "code",
   "execution_count": 34,
   "metadata": {
    "scrolled": true
   },
   "outputs": [],
   "source": [
    "def _hack_circular_rolling(ds):\n",
    "    ds_avyear = ds.groupby('time.dayofyear').mean(dim='time')\n",
    "    \n",
    "    last = ds_avyear.isel(dayofyear=slice(-15, None))\n",
    "    last['dayofyear'] = np.arange(-15,0)\n",
    "    \n",
    "    first = ds_avyear.isel(dayofyear=slice(0, 15))\n",
    "    first['dayofyear'] = np.arange(366,381)\n",
    "    \n",
    "    ds_circ = xr.concat([last, ds_avyear, first], 'dayofyear')\n",
    "    return ds_avyear, ds_circ;\n",
    "\n",
    "def _calc_circ_stats(ds_avyear, ds_circ, window_width): \n",
    "    ds_mean = ds_circ.rolling(dayofyear=window_width, center=True).mean()\n",
    "    ds_circ_mean = ds_mean.sel(dayofyear = slice(1, 365))\n",
    "\n",
    "    ds_std = ds_circ.rolling(dayofyear=window_width, center=True).std()\n",
    "    ds_circ_std = ds_std.sel(dayofyear = slice(1, 365))\n",
    "\n",
    "    ds_circ_zscore = (ds_avyear - ds_mean) / ds_std\n",
    "    return ds_circ_mean, ds_circ_std, ds_circ_zscore;\n",
    "\n",
    "def _get_circ_stats(ds, window_width):\n",
    "    ds_av, ds_circ = _hack_circular_rolling(ds)\n",
    "    ds_circ_mean, ds_circ_std, ds_circ_zscore = _calc_circ_stats(ds_av, ds_circ, window_width)\n",
    "    return ds_circ_mean, ds_circ_std, ds_circ_zscore"
   ]
  },
  {
   "cell_type": "code",
   "execution_count": 88,
   "metadata": {},
   "outputs": [],
   "source": [
    "def _get_bc_params(measured_circ_mean, measured_circ_std, past_circ_mean, past_circ_std):    \n",
    "    shift = measured_circ_mean - past_circ_mean\n",
    "    scale = measured_circ_std / past_circ_std\n",
    "    return shift, scale\n",
    "\n",
    "def _get_bc_circ_stats(circ_mean, circ_std, shift, scale):\n",
    "    circ_mean_bc = circ_mean + shift\n",
    "    circ_std_bc = circ_std * scale\n",
    "    return circ_mean_bc, circ_std_bc\n",
    "\n",
    "def _expand_bc_stats(ds,circ_mean_bc, circ_std_bc):\n",
    "    means_bc=[]\n",
    "    stds_bc = []\n",
    "    for doy in ds['time.dayofyear']:\n",
    "        means_bc.append(circ_mean_bc.sel(dayofyear=doy))\n",
    "        stds_bc.append(circ_std_bc.sel(dayofyear=doy))\n",
    "\n",
    "    mean_bc = xr.concat(means_bc,dim='time')\n",
    "    std_bc = xr.concat(stds_bc,dim='time')\n",
    "    return mean_bc, std_bc\n",
    "\n",
    "def _get_stats (ds, window_width):\n",
    "    ds_mean = ds.rolling(time=window_width, center=True).mean()\n",
    "    ds_std = ds.rolling(time=window_width, center=True).std()\n",
    "    ds_zscore = (ds - ds_mean) / ds_std\n",
    "    return ds_zscore"
   ]
  },
  {
   "cell_type": "code",
   "execution_count": 89,
   "metadata": {},
   "outputs": [],
   "source": [
    "def _z_score_correction(ds_measured, ds_past, ds_fut, window_width):\n",
    "    measured_circ_mean, measured_circ_std, measured_circ_zscore = _get_circ_stats(ds_measured, window_width)\n",
    "    past_circ_mean, past_circ_std, past_circ_zscore = _get_circ_stats(ds_past, window_width)\n",
    "    fut_circ_mean, fut_circ_std, fut_circ_zscore = _get_circ_stats(ds_fut, window_width)\n",
    "    \n",
    "    shift, scale = _get_bc_params(measured_circ_mean, measured_circ_std, past_circ_mean, past_circ_std)\n",
    "    \n",
    "    past_circ_mean_bc, past_circ_std_bc = _get_bc_circ_stats(past_circ_mean, past_circ_std, shift, scale)\n",
    "    fut_circ_mean_bc, fut_circ_std_bc = _get_bc_circ_stats(fut_circ_mean, fut_circ_std, shift, scale)\n",
    "    \n",
    "    past_mean_bc, past_std_bc = _expand_bc_stats(ds_past,past_circ_mean_bc, past_circ_std_bc)\n",
    "    fut_mean_bc, fut_std_bc = _expand_bc_stats(ds_fut,fut_circ_mean_bc, fut_circ_std_bc)\n",
    "    \n",
    "    past_zscore = _get_stats(ds_past, window_width)\n",
    "    fut_zscore = _get_stats(ds_fut, window_width)\n",
    "    \n",
    "    past_corrected = (past_zscore * past_std_bc) + past_mean_bc\n",
    "    fut_corrected = (fut_zscore * fut_std_bc) + fut_mean_bc\n",
    "    return past_corrected, fut_corrected"
   ]
  },
  {
   "cell_type": "raw",
   "metadata": {},
   "source": [
    "window_width=31\n",
    "measured_circ_mean, measured_circ_std, measured_circ_zscore = _get_circ_stats(ds_measured, window_width)\n",
    "past_circ_mean, past_circ_std, past_circ_zscore = _get_circ_stats(ds_past, window_width)\n",
    "fut_circ_mean, fut_circ_std, fut_circ_zscore = _get_circ_stats(ds_fut, window_width)\n",
    "shift, scale = _get_bc_params(measured_circ_mean, measured_circ_std, past_circ_mean, past_circ_std)\n",
    "past_circ_mean_bc, past_circ_std_bc = _get_bc_circ_stats(past_circ_mean, past_circ_std, shift, scale)\n",
    "fut_circ_mean_bc, fut_circ_std_bc = _get_bc_circ_stats(fut_circ_mean, fut_circ_std, shift, scale)"
   ]
  },
  {
   "cell_type": "code",
   "execution_count": 92,
   "metadata": {},
   "outputs": [],
   "source": [
    "def gaus(circ_mean, circ_std, doy):\n",
    "    a = circ_mean.sel(dayofyear=doy)\n",
    "    mu = a.isel(lon = 55, lat = 45)\n",
    "\n",
    "    b = circ_std.sel(dayofyear=152)\n",
    "    sigma = b.isel(lon = 55, lat = 45)\n",
    "\n",
    "    x = np.linspace(mu - 3*sigma, mu + 3*sigma, 100)\n",
    "    y = stats.norm.pdf(x, mu, sigma)\n",
    "    return x, y"
   ]
  },
  {
   "cell_type": "code",
   "execution_count": 107,
   "metadata": {},
   "outputs": [
    {
     "data": {
      "text/plain": [
       "<matplotlib.legend.Legend at 0x2b1922a97fd0>"
      ]
     },
     "execution_count": 107,
     "metadata": {},
     "output_type": "execute_result"
    },
    {
     "data": {
      "image/png": "[encoded data removed]",
      "text/plain": [
       "<Figure size 432x288 with 1 Axes>"
      ]
     },
     "metadata": {
      "needs_background": "light"
     },
     "output_type": "display_data"
    }
   ],
   "source": [
    "doy=20\n",
    "plt.figure()\n",
    "x,y = gaus(past_circ_mean[var], past_circ_std[var], doy)\n",
    "plt.plot(x, y, 'orange', label = 'historical model')\n",
    "x,y = gaus(measured_circ_mean, measured_circ_std, doy)\n",
    "plt.plot(x, y, 'red', label = 'measured')\n",
    "x,y = gaus(fut_circ_mean[var], fut_circ_std[var], doy)\n",
    "plt.plot(x, y, 'blue', label = 'raw future model')\n",
    "x,y = gaus(fut_circ_mean_bc[var], fut_circ_std_bc[var], doy)\n",
    "plt.plot(x, y, 'green', label = 'corrected future model')\n",
    "plt.legend()"
   ]
  },
  {
   "cell_type": "code",
   "execution_count": 108,
   "metadata": {},
   "outputs": [],
   "source": [
    "def bias_correct(ds_measured, ds_past, ds_fut, method='z_score', window_width=31):\n",
    "    if method == 'z_score':\n",
    "        past_corrected, fut_corrected = _z_score_correction(ds_measured, ds_past, ds_fut, window_width)\n",
    "    else:\n",
    "        raise ValueError('Only Z-Score Bias Correction is Supported')\n",
    "    return past_corrected, fut_corrected"
   ]
  },
  {
   "cell_type": "code",
   "execution_count": 109,
   "metadata": {},
   "outputs": [
    {
     "name": "stderr",
     "output_type": "stream",
     "text": [
      "/glade/u/home/jkent/miniconda3/envs/pangeo/lib/python3.6/site-packages/xarray/core/nanops.py:160: RuntimeWarning: Mean of empty slice\n",
      "  return np.nanmean(a, axis=axis, dtype=dtype)\n"
     ]
    }
   ],
   "source": [
    "past_corrected, fut_corrected = bias_correct(ds_measured, ds_past, ds_fut)"
   ]
  },
  {
   "cell_type": "code",
   "execution_count": 110,
   "metadata": {},
   "outputs": [
    {
     "data": {
      "text/plain": [
       "<xarray.Dataset>\n",
       "Dimensions:    (lat: 97, lon: 230, time: 9854)\n",
       "Coordinates:\n",
       "  * lon        (lon) float64 235.2 235.5 235.8 236.0 ... 291.8 292.0 292.2 292.5\n",
       "  * lat        (lat) float64 25.25 25.5 25.75 26.0 ... 48.5 48.75 49.0 49.25\n",
       "  * time       (time) object 1979-01-02 12:00:00 ... 2005-12-31 12:00:00\n",
       "    time_dt    (time) datetime64[ns] 1979-01-02T12:00:00 ... 2005-12-31T12:00:00\n",
       "    dayofyear  (time) int64 2 3 4 5 6 7 8 9 ... 358 359 360 361 362 363 364 365\n",
       "Data variables:\n",
       "    uas        (time, lat, lon) float64 nan nan nan nan nan ... nan nan nan nan"
      ]
     },
     "execution_count": 110,
     "metadata": {},
     "output_type": "execute_result"
    }
   ],
   "source": [
    "past_corrected"
   ]
  },
  {
   "cell_type": "code",
   "execution_count": 111,
   "metadata": {},
   "outputs": [
    {
     "data": {
      "image/png": "[encoded data removed]",
      "text/plain": [
       "<Figure size 432x288 with 2 Axes>"
      ]
     },
     "metadata": {
      "needs_background": "light"
     },
     "output_type": "display_data"
    }
   ],
   "source": [
    "plt.contourf(past_corrected[var].lon, past_corrected[var].lat, past_corrected[var].isel(time=299), norm=MidpointNormalize(midpoint=0.), cmap='PRGn')\n",
    "cbar = plt.colorbar()\n",
    "cbar.set_label('m / s', size=15)"
   ]
  },
  {
   "cell_type": "code",
   "execution_count": 115,
   "metadata": {},
   "outputs": [
    {
     "data": {
      "text/plain": [
       "<xarray.Dataset>\n",
       "Dimensions:    (lat: 97, lon: 230)\n",
       "Coordinates:\n",
       "  * lon        (lon) float64 235.2 235.5 235.8 236.0 ... 291.8 292.0 292.2 292.5\n",
       "  * lat        (lat) float64 25.25 25.5 25.75 26.0 ... 48.5 48.75 49.0 49.25\n",
       "    time       object 2050-10-27 12:00:00\n",
       "    time_dt    datetime64[ns] 2050-10-27T12:00:00\n",
       "    dayofyear  int64 300\n",
       "Data variables:\n",
       "    uas        (lat, lon) float64 nan nan nan nan nan ... nan nan nan nan nan"
      ]
     },
     "execution_count": 115,
     "metadata": {},
     "output_type": "execute_result"
    }
   ],
   "source": [
    "fut_corrected.isel(time = 16359)"
   ]
  },
  {
   "cell_type": "code",
   "execution_count": 128,
   "metadata": {},
   "outputs": [
    {
     "data": {
      "text/plain": [
       "<matplotlib.collections.PathCollection at 0x2b18fafc5cf8>"
      ]
     },
     "execution_count": 128,
     "metadata": {},
     "output_type": "execute_result"
    },
    {
     "data": {
      "image/png": "[encoded data removed]",
      "text/plain": [
       "<Figure size 432x288 with 2 Axes>"
      ]
     },
     "metadata": {
      "needs_background": "light"
     },
     "output_type": "display_data"
    }
   ],
   "source": [
    "plt.contourf(fut_corrected[var].lon, fut_corrected[var].lat, fut_corrected[var].isel(time=16359), norm=MidpointNormalize(midpoint=0.), cmap='PRGn')\n",
    "cbar = plt.colorbar()\n",
    "cbar.set_label('m / s', size=15)\n",
    "plt.scatter(249,36.5,c='r')"
   ]
  },
  {
   "cell_type": "code",
   "execution_count": 119,
   "metadata": {},
   "outputs": [],
   "source": [
    "diff = ds_fut[var].isel(time=16359) - fut_corrected[var].isel(time=16359)"
   ]
  },
  {
   "cell_type": "code",
   "execution_count": 133,
   "metadata": {},
   "outputs": [
    {
     "data": {
      "text/plain": [
       "<matplotlib.collections.PathCollection at 0x2b1c31aee940>"
      ]
     },
     "execution_count": 133,
     "metadata": {},
     "output_type": "execute_result"
    },
    {
     "data": {
      "image/png": "[encoded data removed]",
      "text/plain": [
       "<Figure size 432x288 with 2 Axes>"
      ]
     },
     "metadata": {
      "needs_background": "light"
     },
     "output_type": "display_data"
    }
   ],
   "source": [
    "plt.contourf(diff)\n",
    "cbar = plt.colorbar()\n",
    "cbar.set_label('m / s', size=15)\n",
    "plt.scatter(55,45,c='r')"
   ]
  },
  {
   "cell_type": "code",
   "execution_count": null,
   "metadata": {},
   "outputs": [],
   "source": []
  }
 ],
 "metadata": {
  "kernelspec": {
   "display_name": "Python [conda env:pangeo]",
   "language": "python",
   "name": "notebook-gallery"
  },
  "language_info": {
   "codemirror_mode": {
    "name": "ipython",
    "version": 3
   },
   "file_extension": ".py",
   "mimetype": "text/x-python",
   "name": "python",
   "nbconvert_exporter": "python",
   "pygments_lexer": "ipython3",
   "version": "3.6.7"
  }
 },
 "nbformat": 4,
 "nbformat_minor": 2
}
