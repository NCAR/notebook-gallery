{
 "cells": [
  {
   "cell_type": "markdown",
   "metadata": {},
   "source": [
    "# Bias Correction\n",
    "This notebook demonstrates z-score bias correction in 4 steps:\n",
    "\n",
    "1. Look at zonal wind data\n",
    "2. Filtering the data to the extent of Colorado\n",
    "3. Aligning the datasets in time\n",
    "4. A z-score bias correction method"
   ]
  },
  {
   "cell_type": "markdown",
   "metadata": {},
   "source": [
    "## Set up Workspace\n",
    "Import all necessary modules and name the variable we will be looking at (zonal wind speed, `uas`)."
   ]
  },
  {
   "cell_type": "code",
   "execution_count": null,
   "metadata": {},
   "outputs": [],
   "source": [
    "import xarray as xr\n",
    "import numpy as np\n",
    "import matplotlib.pyplot as plt\n",
    "from scipy import interpolate, stats\n",
    "import xesmf as xe\n",
    "from datetime import datetime, timedelta\n",
    "from ngallery_utils import DATASETS\n",
    "\n",
    "%matplotlib inline\n",
    "\n",
    "var = 'uas'"
   ]
  },
  {
   "cell_type": "markdown",
   "metadata": {},
   "source": [
    "## 1. Look at Data\n",
    "We have 3 datasets for this correction: a historical model, a future rcp85 model, and measurements.\n",
    "\n",
    "Ultimately, the historical model will be compared to the measurements to predict an adjustment to the future rcp85 model to be more like future measurements."
   ]
  },
  {
   "cell_type": "code",
   "execution_count": null,
   "metadata": {},
   "outputs": [],
   "source": [
    "hist_file = DATASETS.fetch(\"uas.hist.CanESM2.CRCM5-UQAM.day.NAM-44i.raw.Colorado.nc\")\n",
    "rcp85_file = DATASETS.fetch(\"uas.rcp85.CanESM2.CRCM5-UQAM.day.NAM-44i.raw.Colorado.nc\")\n",
    "meas_file = DATASETS.fetch(\"uas.gridMET.NAM-44i.Colorado.nc\")"
   ]
  },
  {
   "cell_type": "raw",
   "metadata": {},
   "source": [
    "# Or if not on Cheyenne\n",
    "hist_file = DATASERTS.fetch(\"/uas.hist.CanESM2.CRCM5-UQAM.day.NAM-44i.raw.Colorado.nc\")\n",
    "rcp85_file = DATASERTS.fetch(\"/uas.rcp85.CanESM2.CRCM5-UQAM.day.NAM-44i.raw.Colorado.nc\")\n",
    "meas_file = DATASETS.fetch(\"uas.gridMET.NAM-44i.Colorado.nc\")"
   ]
  },
  {
   "cell_type": "code",
   "execution_count": null,
   "metadata": {},
   "outputs": [],
   "source": [
    "ds_hist = xr.open_dataset(hist_file)\n",
    "ds_hist"
   ]
  },
  {
   "cell_type": "code",
   "execution_count": null,
   "metadata": {},
   "outputs": [],
   "source": [
    "ds_hist[var].isel(time=0).plot.contourf(x=\"lon\", y=\"lat\", cmap=\"PRGn\", cbar_kwargs={\"label\": \"m/s\"})"
   ]
  },
  {
   "cell_type": "code",
   "execution_count": null,
   "metadata": {},
   "outputs": [],
   "source": [
    "ds_rcp85 = xr.open_dataset(rcp85_file)\n",
    "ds_rcp85"
   ]
  },
  {
   "cell_type": "code",
   "execution_count": null,
   "metadata": {},
   "outputs": [],
   "source": [
    "ds_rcp85[var].isel(time=0).plot.contourf(x=\"lon\", y=\"lat\", cmap=\"PRGn\", cbar_kwargs={\"label\": \"m/s\"})"
   ]
  },
  {
   "cell_type": "code",
   "execution_count": null,
   "metadata": {},
   "outputs": [],
   "source": [
    "ds_meas = xr.open_dataset(meas_file)\n",
    "ds_meas"
   ]
  },
  {
   "cell_type": "code",
   "execution_count": null,
   "metadata": {},
   "outputs": [],
   "source": [
    "ds_meas[var].isel(time=0).plot.contourf(x=\"lon\", y=\"lat\", cmap=\"PRGn\", cbar_kwargs={\"label\": \"m/s\"})"
   ]
  },
  {
   "cell_type": "markdown",
   "metadata": {},
   "source": [
    "## 2. Filter Data\n",
    "We limit the extent of our data to the state of Colorado simply to speed up our calculations in this example."
   ]
  },
  {
   "cell_type": "code",
   "execution_count": null,
   "metadata": {},
   "outputs": [],
   "source": [
    "wesn = [-110, -108, 39.5, 41.5]\n",
    "ds_meas_flt = ds_meas.sel(lon = slice(wesn[0], wesn[1]), lat = slice(wesn[2], wesn[3]))\n",
    "ds_hist_flt = ds_hist.sel(lon = slice(wesn[0], wesn[1]), lat = slice(wesn[2], wesn[3]))\n",
    "ds_rcp85_flt = ds_rcp85.sel(lon = slice(wesn[0], wesn[1]), lat = slice(wesn[2], wesn[3]))"
   ]
  },
  {
   "cell_type": "markdown",
   "metadata": {},
   "source": [
    "## 3. Align Time\n",
    "Our two modeled datasets do not have leap years, where our measured dataset does. \n",
    "\n",
    "There are several methods of dealing with leap years that are better for different types of data. For data that is continuous, such as wind speed, we can simply drop all December 31st from leap years (any time there is a 366th day to the year we drop day #366). This method would not be ideal for discontinous data such as precipitation."
   ]
  },
  {
   "cell_type": "code",
   "execution_count": null,
   "metadata": {},
   "outputs": [],
   "source": [
    "ds_meas_noleap = ds_meas_flt.sel(time=~((ds_meas_flt.time.dt.dayofyear == 366) ))"
   ]
  },
  {
   "cell_type": "code",
   "execution_count": null,
   "metadata": {},
   "outputs": [],
   "source": [
    "def _cfnoleap_to_datetime(da):\n",
    "    datetimeindex = da.indexes['time'].to_datetimeindex()\n",
    "    ds = da#.to_dataset()\n",
    "    ds['time_dt']= ('time', datetimeindex)\n",
    "    ds = ds.swap_dims({'time': 'time_dt'})\n",
    "    assert len(da.time) == len(ds.time_dt)\n",
    "    return ds\n",
    "\n",
    "ds_hist_dt = _cfnoleap_to_datetime(ds_hist_flt)   \n",
    "ds_rcp85_dt = _cfnoleap_to_datetime(ds_rcp85_flt)  "
   ]
  },
  {
   "cell_type": "markdown",
   "metadata": {},
   "source": [
    "We also regroup our models so that the dates of the historical model line up with our historical measurements. "
   ]
  },
  {
   "cell_type": "code",
   "execution_count": null,
   "metadata": {},
   "outputs": [],
   "source": [
    "def _regroup_models_bytime(ds_meas, ds_hist_dt, ds_rcp_dt):\n",
    "    t0_meas = ds_meas.time[0]\n",
    "    tn_meas = ds_meas.time[-1]\n",
    "    t0_fut = tn_meas.values + np.timedelta64(1, 'D')\n",
    "    \n",
    "    ds_past = ds_hist_dt.sel(time_dt = slice(t0_meas, tn_meas))\n",
    "    ds_past = ds_past.swap_dims({'time_dt':'time'})\n",
    "    \n",
    "    ds_fut_pt1 = ds_hist_dt.sel(time_dt = slice(t0_fut,None))\n",
    "    ds_fut = xr.concat([ds_fut_pt1[var], ds_rcp_dt[var]], 'time_dt')\n",
    "    ds_fut = ds_fut.swap_dims({'time_dt':'time'})\n",
    "    return ds_past, ds_fut\n",
    "\n",
    "ds_past, ds_fut = _regroup_models_bytime(ds_meas_noleap, ds_hist_dt, ds_rcp85_dt)"
   ]
  },
  {
   "cell_type": "markdown",
   "metadata": {},
   "source": [
    "## 4. Z-score Bias Correction\n",
    "\n",
    "Z-Score bias correction is a good technique for target variables with Gaussian probability distributions, such as zonal wind speed.\n",
    "\n",
    "In essence the technique:\n",
    "\n",
    "1. Finds the mean  \n",
    "$$\\overline{x} = \\sum_{i=0}^N \\frac{x_i}{N}$$ \n",
    "and standard deviation \n",
    "$$\\sigma = \\sqrt{\\frac{\\sum_{i=0}^N |x_i - \\overline{x}|^2}{N-1}}$$ \n",
    "of target (measured) data and training (historical modeled) data. \n",
    "\n",
    "2. Compares the difference between the statistical values to produce a shift \n",
    "$$shift = \\overline{x_{target}} - \\overline{x_{training}}$$ \n",
    "and scale parameter \n",
    "$$scale = \\sigma_{target} \\div \\sigma_{training}$$ \n",
    "\n",
    "3. Applies these paramaters to the future model data to be corrected to get a new mean\n",
    "$$\\overline{x_{corrected}} = \\overline{x_{future}} + shift$$\n",
    "and new standard deviation\n",
    "$$\\sigma_{corrected} = \\sigma_{future} \\times scale$$\n",
    "\n",
    "4. Calculates the corrected values\n",
    "$$x_{corrected_{i}} = z_i \\times \\sigma_{corrected} + \\overline{x_{corrected}}$$\n",
    "from the future model's z-score values\n",
    "$$z_i = \\frac{x_i-\\overline{x}}{\\sigma}$$\n",
    "\n",
    "In practice, if the wind was on average 3 m/s faster on the first of July in the models compared to the measurements, we would adjust the modeled data for all July 1sts in the future modeled dataset to be 3 m/s faster. And similarly for scaling the standard deviation\n",
    "\n",
    "Bias correction methods other than zscore include:\n",
    "\n",
    " - scale (for wind speed, wave flux in air)\n",
    " - log (for precipitation)\n",
    " - range (relative humidity)\n",
    " - seth mcginnes's kddm (for any bimodal distributions)"
   ]
  },
  {
   "cell_type": "code",
   "execution_count": null,
   "metadata": {},
   "outputs": [],
   "source": [
    "def _reshape(ds, window_width):\n",
    "    split = lambda g: (g.rename({'time': 'day'})\n",
    "                       .assign_coords(day=g.time.dt.dayofyear.values))\n",
    "    ds2 = ds.groupby('time.year').apply(split)\n",
    "    \n",
    "    early_Jans = ds2.isel(day = slice(None,window_width//2))\n",
    "    late_Decs = ds2.isel(day = slice(-window_width//2,None))\n",
    "    \n",
    "    ds3 = xr.concat([late_Decs,ds2,early_Jans],dim='day')\n",
    "    return ds3\n",
    "\n",
    "def _calc_stats(ds, window_width):\n",
    "    ds_rsh = _reshape(ds, window_width)\n",
    "    \n",
    "    ds_rolled = ds_rsh.rolling(day=window_width, center=True).construct('win_day')\n",
    "    \n",
    "    n = window_width//2+1\n",
    "    ds_mean = ds_rolled.mean(dim=['year','win_day']).isel(day=slice(n,-n))\n",
    "    ds_std = ds_rolled.std(dim=['year','win_day']).isel(day=slice(n,-n))\n",
    "    \n",
    "    ds_avyear = ds_rsh.mean(dim=['year','day'])\n",
    "    ds_zscore = ((ds_avyear - ds_mean) / ds_std)\n",
    "    return ds_mean, ds_std, ds_zscore\n",
    "\n",
    "window_width=31\n",
    "meas_mean, meas_std, meas_zscore = _calc_stats(ds_meas_noleap, window_width)\n",
    "hist_mean, hist_std, hist_zscore = _calc_stats(ds_past, window_width)"
   ]
  },
  {
   "cell_type": "code",
   "execution_count": null,
   "metadata": {},
   "outputs": [],
   "source": [
    "def _get_params(meas_mean, meas_std, past_mean, past_std):    \n",
    "    shift = meas_mean - past_mean\n",
    "    scale = meas_std / past_std\n",
    "    return shift, scale\n",
    "\n",
    "shift, scale = _get_params(meas_mean, meas_std, hist_mean, hist_std)"
   ]
  },
  {
   "cell_type": "code",
   "execution_count": null,
   "metadata": {},
   "outputs": [],
   "source": [
    "def _calc_fut_stats(ds_fut, window_width):\n",
    "    ds_rolled = ds_fut.rolling(time=window_width, center=True).construct('win_day')\n",
    "    \n",
    "    ds_mean = ds_rolled.mean(dim=['win_day'])\n",
    "    ds_std = ds_rolled.std(dim=['win_day'])\n",
    "    \n",
    "    ds_avyear = ds_fut.mean(dim=['time'])\n",
    "    ds_zscore = ((ds_avyear - ds_mean) / ds_std)\n",
    "    return ds_mean, ds_std, ds_zscore\n",
    "\n",
    "fut_mean, fut_std, fut_zscore = _calc_fut_stats(ds_fut, window_width)"
   ]
  },
  {
   "cell_type": "code",
   "execution_count": null,
   "metadata": {},
   "outputs": [],
   "source": [
    "fut_mean_bc = fut_mean + shift.uas\n",
    "fut_std_bc = fut_std * scale"
   ]
  },
  {
   "cell_type": "code",
   "execution_count": null,
   "metadata": {},
   "outputs": [],
   "source": [
    "fut_corrected = (fut_zscore * fut_std_bc) + fut_mean_bc"
   ]
  },
  {
   "cell_type": "markdown",
   "metadata": {},
   "source": [
    "### Visualize the Correction"
   ]
  },
  {
   "cell_type": "code",
   "execution_count": null,
   "metadata": {},
   "outputs": [],
   "source": [
    "def gaus(mean, std, doy):\n",
    "    a = mean.sel(day=doy)\n",
    "    mu = a.isel(lon = 0, lat = 0)\n",
    "\n",
    "    b =std.sel(day=doy)\n",
    "    sigma = b.isel(lon = 0, lat = 0)\n",
    "\n",
    "    x = np.linspace(mu - 3*sigma, mu + 3*sigma, 100)\n",
    "    y = stats.norm.pdf(x, mu, sigma)\n",
    "    return x, y"
   ]
  },
  {
   "cell_type": "code",
   "execution_count": null,
   "metadata": {},
   "outputs": [],
   "source": [
    "fut_typ_mean, fut_typ_std, fut_typ_zscore = _calc_stats(ds_fut, window_width)\n",
    "fut_typ_mean_bc = fut_typ_mean + shift\n",
    "fut_typ_std_bc = fut_typ_std * scale\n",
    "\n",
    "doy=20\n",
    "plt.figure()\n",
    "x,y = gaus(hist_mean[var], hist_std[var], doy)\n",
    "plt.plot(x, y, 'orange', label = 'historical model')\n",
    "x,y = gaus(meas_mean[var], meas_std[var], doy)\n",
    "plt.plot(x, y, 'red', label = 'measured')\n",
    "x,y = gaus(fut_typ_mean, fut_typ_std, doy)\n",
    "plt.plot(x, y, 'blue', label = 'raw future model')\n",
    "x,y = gaus(fut_typ_mean_bc[var], fut_typ_std_bc[var], doy)\n",
    "plt.plot(x, y, 'green', label = 'corrected future model')\n",
    "plt.legend()"
   ]
  }
 ],
 "metadata": {
  "kernelspec": {
   "display_name": "Python 3",
   "language": "python",
   "name": "python3"
  },
  "language_info": {
   "codemirror_mode": {
    "name": "ipython",
    "version": 3
   },
   "file_extension": ".py",
   "mimetype": "text/x-python",
   "name": "python",
   "nbconvert_exporter": "python",
   "pygments_lexer": "ipython3",
   "version": "3.7.3"
  }
 },
 "nbformat": 4,
 "nbformat_minor": 4
}