{
 "cells": [
  {
   "cell_type": "markdown",
   "metadata": {},
   "source": [
    "# Exploring Panel Widgets\n",
    "\n",
    "Here we test connecting widgets to plots."
   ]
  },
  {
   "cell_type": "code",
   "execution_count": null,
   "metadata": {},
   "outputs": [],
   "source": [
    "import param\n",
    "import numpy as np \n",
    "import pandas as pd\n",
    "import panel as pn\n",
    "\n",
    "import altair as alt\n",
    "import hvplot.pandas\n",
    "import holoviews as hv\n",
    "from bokeh.models.formatters import DatetimeTickFormatter\n",
    "from holoviews import opts\n",
    "\n",
    "hv.extension('bokeh')\n",
    "pn.extension()"
   ]
  },
  {
   "cell_type": "code",
   "execution_count": null,
   "metadata": {},
   "outputs": [],
   "source": [
    "formatter = DatetimeTickFormatter(months='%b')\n",
    "def apply_formatter(plot, element):\n",
    "    plot.handles['xaxis'].formatter = DatetimeTickFormatter(months='%b')\n"
   ]
  },
  {
   "cell_type": "code",
   "execution_count": null,
   "metadata": {},
   "outputs": [],
   "source": [
    "# Styles and plot options used in this user guide\n",
    "font_bump = '140%'\n",
    "opts.defaults(\n",
    "    opts.Area(fill_color='cornsilk', line_width=1,\n",
    "              line_color='black'),\n",
    "    opts.Ellipse(bgcolor='white', color='black'),\n",
    "    opts.HLine(color='red', line_dash='dashed'))"
   ]
  },
  {
   "cell_type": "code",
   "execution_count": null,
   "metadata": {},
   "outputs": [],
   "source": []
  },
  {
   "cell_type": "code",
   "execution_count": null,
   "metadata": {},
   "outputs": [],
   "source": []
  },
  {
   "cell_type": "code",
   "execution_count": null,
   "metadata": {},
   "outputs": [],
   "source": [
    "# Do this to plot data binned by month.\n",
    "#sst.hvplot.violin(by='index.month')"
   ]
  },
  {
   "cell_type": "code",
   "execution_count": null,
   "metadata": {},
   "outputs": [],
   "source": []
  },
  {
   "cell_type": "code",
   "execution_count": null,
   "metadata": {},
   "outputs": [],
   "source": [
    "#hv.help(hv.Violin)"
   ]
  },
  {
   "cell_type": "code",
   "execution_count": null,
   "metadata": {},
   "outputs": [],
   "source": [
    "#%%time\n",
    "#data_1990 = pd.read_csv('./Boulder_TMAX_1990.csv')\n"
   ]
  },
  {
   "cell_type": "code",
   "execution_count": null,
   "metadata": {},
   "outputs": [],
   "source": [
    "#data_1990.resample('W', label='left').sum()"
   ]
  },
  {
   "cell_type": "code",
   "execution_count": null,
   "metadata": {},
   "outputs": [],
   "source": [
    "#datasets = {}\n",
    "#datasets['1990'] = data_1990.pivot_table(index='time', columns='member_id', values='TREFHT')\n",
    "#datasets['2090'] = data_2090.pivot_table(index='time', columns='member_id', values='TREFHT')\n",
    "#datasets"
   ]
  },
  {
   "cell_type": "code",
   "execution_count": null,
   "metadata": {},
   "outputs": [],
   "source": [
    "#print(data_1990.info())"
   ]
  },
  {
   "cell_type": "code",
   "execution_count": null,
   "metadata": {},
   "outputs": [],
   "source": [
    "#data_1990.groupby('time')['TREFHTMX'].agg([np.min,np.max])"
   ]
  },
  {
   "cell_type": "code",
   "execution_count": null,
   "metadata": {},
   "outputs": [],
   "source": [
    "#data_1990.head()"
   ]
  },
  {
   "cell_type": "code",
   "execution_count": null,
   "metadata": {},
   "outputs": [],
   "source": [
    "#for label, content in datasets['1990'].items():\n",
    "#    print(content.to_numpy())"
   ]
  },
  {
   "cell_type": "code",
   "execution_count": null,
   "metadata": {},
   "outputs": [],
   "source": [
    "class PlotView(param.Parameterized):\n",
    "    city =  param.ObjectSelector(default=\"Boulder\", objects=[\"Boulder\", \"Austin\", \"Chicago\"])\n",
    "    year = param.Integer(1990, bounds=(1920, 2100), step=10)"
   ]
  },
  {
   "cell_type": "code",
   "execution_count": null,
   "metadata": {},
   "outputs": [],
   "source": []
  },
  {
   "cell_type": "code",
   "execution_count": null,
   "metadata": {},
   "outputs": [],
   "source": [
    "class CityPlanner(param.Parameterized):\n",
    "\n",
    "    plotLeft = PlotView(name='')\n",
    "    plotRight = PlotView(name='')\n",
    "    \n",
    "    # Control widgets\n",
    "    plot_type = param.ObjectSelector(default=\"mean + spread\", objects=[\"mean + spread\", \"median + spread\", \"line\", \"scatter\", \"violin\", \"box + whisker\"])\n",
    "    threshold = param.Integer(95, bounds=(0, 150))\n",
    "    bin_size = param.ObjectSelector(default=\"week\", objects=[\"day\", \"week\", \"month\"])\n",
    "    units = param.ObjectSelector(default=\"Fahrenheit\", objects=[\"Fahrenheit\", \"Celsius\", \"Kelvins\"])\n",
    "    show_legend = param.Boolean(default=False)\n",
    "    show_grid = param.Boolean(default=True)\n",
    "    \n",
    "    # Plot constants\n",
    "    plot_width = 500\n",
    "\n",
    "    def get_data(self, isLeft):\n",
    "        if isLeft:\n",
    "            year = self.plotLeft.year\n",
    "            city = self.plotLeft.city\n",
    "        else:\n",
    "            year = self.plotRight.year\n",
    "            city = self.plotRight.city\n",
    "        df = pd.read_csv(f'./data/{city}_TMAX_{year}.csv')\n",
    "        df['time'] = pd.to_datetime(df['time'])\n",
    "        year_delta = 2000 - year\n",
    "        df['time'] = df['time'].apply(lambda x: x + pd.DateOffset(years=year_delta))\n",
    "        data = df.pivot_table(index='time', columns='member_id', values='TREFHTMX')\n",
    "        #print(data.head())\n",
    "        return data, year, city\n",
    "    \n",
    "    def merge_columns(self, data):\n",
    "        data = data.reset_index()\n",
    "        dat2 = pd.melt(data, id_vars='time')\n",
    "        dat2.index = dat2['time']\n",
    "        dat2.drop(['time'], axis=1, inplace=True)\n",
    "        return dat2\n",
    "    \n",
    "    def resample(self,data):\n",
    "        if self.bin_size == 'week':\n",
    "            data2 = data.copy().resample('W').mean()\n",
    "            data2['days_above_mean'] = data['days_above_mean'].resample('W').sum()\n",
    "            data2['days_above_median'] = data['days_above_median'].resample('W').sum()\n",
    "            ylimit = 8\n",
    "        elif self.bin_size == 'month':\n",
    "            data2 = data.copy().resample('M').mean()\n",
    "            data2['days_above_mean'] = data['days_above_mean'].resample('M').sum()\n",
    "            data2['days_above_median'] = data['days_above_median'].resample('M').sum()\n",
    "            ylimit = 32\n",
    "        else:\n",
    "            data2 = data\n",
    "            ylimit = 2\n",
    "        return data2, ylimit\n",
    "    \n",
    "    def temp_convert(self, data):\n",
    "        if self.units == \"Fahrenheit\":\n",
    "            data = (data - 273.0) * (9.0/5.0) + 32.0\n",
    "        elif self.units == \"Celsius\":\n",
    "            data -= 273.0\n",
    "        else:\n",
    "            # Do nothing and return data in native units\n",
    "            pass\n",
    "        return data\n",
    "    \n",
    "    def hvplot_view_left(self):\n",
    "        plot = self.hvplot_helper(True)\n",
    "        return plot\n",
    "    \n",
    "    def hvplot_view_right(self):\n",
    "        plot = self.hvplot_helper(False)\n",
    "        return plot\n",
    "    \n",
    "    def hvplot_helper(self, isLeft):\n",
    "        (data, year, city)  = self.get_data(isLeft)\n",
    "        # Convert to the selected units\n",
    "        data = self.temp_convert(data)\n",
    "        dat2 = self.merge_columns(data)\n",
    "        columnIntegers = data.columns[1:].values.tolist()\n",
    "        columnLabels = [str(x) for x in columnIntegers]\n",
    "        title = f'{city} Max Temperature'\n",
    "        ylabel = self.units\n",
    "        xlabel = f'{year}'\n",
    "        bin_label = 'index.' + self.bin_size\n",
    "        data_mean = data.agg([np.mean], axis=1)\n",
    "        data_median = data.agg([np.median], axis=1)\n",
    "        data['days_above_mean'] = (data_mean > self.threshold).astype(int)\n",
    "        data['days_above_median'] = (data_median > self.threshold).astype(int)\n",
    "                \n",
    "        # Compute dat2 before resampling data, for now. \n",
    "        data, ylimit = self.resample(data)\n",
    "        #dat3 = self.merge_columns(data)\n",
    "                    \n",
    "        # Define common plot components\n",
    "        thresh_plot = hv.HLine(self.threshold)\n",
    "        bar_plot = hv.Histogram(data['days_above_mean'].hvplot.bar(x='time')).opts(title='Days Above Threshold', width=self.plot_width,\n",
    "                                                                                   ylabel='Number of Days', xlabel=xlabel, ylim=(0,ylimit), \n",
    "                                                                                   fontsize={'labels': font_bump}, xformatter=formatter)\n",
    "\n",
    "        if self.plot_type == \"mean + spread\":\n",
    "            data_stats = data[columnIntegers].agg([np.min, np.max, np.mean], axis=1)\n",
    "            data_stats.index = data.index\n",
    "            area_plot = data_stats.hvplot.area(x='time',  y='amin', y2='amax', xformatter=formatter, title=title, \n",
    "                                            xlabel=xlabel, ylabel=ylabel, legend=self.show_legend, grid=self.show_grid, width=self.plot_width, \n",
    "                                            height=400, alpha=0.4)\n",
    "            mean_plot = data_stats['mean'].hvplot(legend=self.show_legend) \n",
    "            plot = ((area_plot * mean_plot * thresh_plot).opts(fontsize={'labels': font_bump}) + bar_plot).cols(1)\n",
    "        elif self.plot_type == \"median + spread\":\n",
    "            data_stats = data[columnIntegers].agg([np.min, np.max, np.median], axis=1)\n",
    "            data_stats.index = data.index\n",
    "            area_plot = data_stats.hvplot.area(x='time',  y='amin', y2='amax', xformatter=formatter, title=title, \n",
    "                                            xlabel=xlabel, ylabel=ylabel, legend=self.show_legend, grid=self.show_grid, width=self.plot_width, \n",
    "                                            height=400, alpha=0.4)\n",
    "            median_plot = data_stats['median'].hvplot(legend=self.show_legend) \n",
    "            plot = ((area_plot * median_plot * thresh_plot).opts(fontsize={'labels': font_bump}) + bar_plot).cols(1)\n",
    "        elif self.plot_type == \"line\":\n",
    "            line_plot = data.hvplot.line(x='time', y=columnLabels, xformatter=formatter, title=title, \n",
    "                                       xlabel=xlabel, ylabel=ylabel, legend=self.show_legend, grid=self.show_grid, width=self.plot_width, \n",
    "                                       height=400).opts(fontsize={'labels': font_bump})\n",
    "            plot = ((line_plot * thresh_plot) + bar_plot).cols(1)\n",
    "            #print(plot)\n",
    "        elif self.plot_type == \"violin\":\n",
    "            print(data.head())\n",
    "            print(dat2.head())\n",
    "            USE_DATA = False\n",
    "            if USE_DATA:\n",
    "                violin_plot = hv.Violin(data[columnIntegers].hvplot.violin(by=bin_label)).opts(title=title, xlabel=xlabel, ylabel=ylabel, \n",
    "                                        show_legend=self.show_legend, show_grid=self.show_grid, width=self.plot_width, \n",
    "                                        height=400, fontsize={'labels': font_bump}, xformatter=formatter)\n",
    "            else:\n",
    "                violin_plot = hv.Violin(dat2.hvplot.violin(by=bin_label, y='value')).opts(title=title, xlabel=xlabel, ylabel=ylabel, \n",
    "                                        show_legend=self.show_legend, show_grid=self.show_grid, width=self.plot_width, \n",
    "                                        height=400, fontsize={'labels': font_bump}, xformatter=formatter)\n",
    "                \n",
    "            plot = ((violin_plot * thresh_plot) + bar_plot).cols(1)\n",
    "        elif self.plot_type == \"box + whisker\":\n",
    "            #print(dat2.head())\n",
    "            boxplot_dat2 = dat2.hvplot.box(by=bin_label, y='value', title=title, \n",
    "                                        xlabel=xlabel, ylabel=ylabel, legend=self.show_legend, grid=self.show_grid, width=self.plot_width, \n",
    "                                        height=400).opts(fontsize={'labels': font_bump})\n",
    "            plot = ((boxplot_dat2 * thresh_plot) + bar_plot).cols(1)\n",
    "        else:\n",
    "            scatter_plot = data.hvplot.scatter(x='time', y=columnLabels, xformatter=formatter, title=title, \n",
    "                                        xlabel=xlabel, ylabel=ylabel, legend=self.show_legend, grid=self.show_grid, width=self.plot_width, \n",
    "                                        height=400).opts(fontsize={'labels': font_bump})\n",
    "            plot = ((scatter_plot * thresh_plot) + bar_plot).cols(1)\n",
    "        return plot\n",
    "    \n",
    "gm = CityPlanner(name='')"
   ]
  },
  {
   "cell_type": "code",
   "execution_count": null,
   "metadata": {},
   "outputs": [],
   "source": [
    "#pn.Column(gm.param,\n",
    "#          pn.Row(gm.hvplot_view_left,    gm.hvplot_view_right))\n",
    "pn.Column(gm.param,\n",
    "          pn.Row(gm.hvplot_view_right))"
   ]
  },
  {
   "cell_type": "code",
   "execution_count": null,
   "metadata": {},
   "outputs": [],
   "source": [
    "logo  = \"\"\"<a href=\"http://panel.pyviz.org\">\n",
    "           <img src=\"https://panel.pyviz.org/_static/logo_stacked.png\" \n",
    "            width=100 height=80 align=\"left\" margin=20px>\"\"\"\n",
    "title = '<h2>City Planner Climate Explorer</h2>'\n",
    "\n",
    "desc = pn.pane.HTML(\"\"\"\n",
    "    The <a href=\"http://panel.pyviz.org\">Panel</a> library from <a href=\"http://pyviz.org\">PyViz</a> \n",
    "    lets you make widget-controlled apps and dashboards from a wide variety of \n",
    "    plotting libraries and data types. \"\"\", width=250)\n",
    "\n",
    "pn.Row(pn.Column(logo, title, desc, pn.panel(gm.param)),\n",
    "                 pn.Row(pn.Column(gm.hvplot_view_left, gm.plotLeft.param),    \n",
    "                        pn.Column(gm.hvplot_view_right, gm.plotRight.param))).servable()"
   ]
  },
  {
   "cell_type": "code",
   "execution_count": null,
   "metadata": {},
   "outputs": [],
   "source": []
  }
 ],
 "metadata": {
  "kernelspec": {
   "display_name": "Python 3",
   "language": "python",
   "name": "python3"
  },
  "language_info": {
   "codemirror_mode": {
    "name": "ipython",
    "version": 3
   },
   "file_extension": ".py",
   "mimetype": "text/x-python",
   "name": "python",
   "nbconvert_exporter": "python",
   "pygments_lexer": "ipython3",
   "version": "3.8.2"
  }
 },
 "nbformat": 4,
 "nbformat_minor": 4
}
