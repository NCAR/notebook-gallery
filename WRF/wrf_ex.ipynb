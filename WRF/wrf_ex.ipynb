{
 "cells": [
  {
   "cell_type": "markdown",
   "metadata": {},
   "outputs": [],
   "source": [
    "Here we will demonstrate using a WRF datafile with the Xarray module and the manipulations necessary to get the dataset into CF conventions understood by Xarray."
   ]
  },
  {
   "cell_type": "code",
   "metadata": {},
   "outputs": [],
   "source": [
    "import xarray as xr\n",
    "import matplotlib.pyplot as plt\n",
    "import pandas as pd\n",
    "from ngallery_utils import DATASETS"
   ]
  },
  {
   "cell_type": "markdown",
   "metadata": {},
   "outputs": [],
   "source": [
    "Take a look at the WRF dataset"
   ]
  },
  {
   "cell_type": "code",
   "metadata": {},
   "outputs": [],
   "source": [
    "path = DATASETS.fetch(\"T2_RR_F_2014_08.nc \")\n",
    "ds_wrf = xr.open_dataset(path)\n",
    "ds_wrf"
   ]
  },
  {
   "cell_type": "markdown",
   "metadata": {},
   "outputs": [],
   "source": [
    "# Problem #1: Time in bytes.\n",
    "\n",
    "Currently our time information is stored in the 'Times' variable in string byte formatting. We need to create a time coordinate in datetime64 formatting.\n",
    "\n",
    "Let's take a look at our time variable so far:"
   ]
  },
  {
   "cell_type": "code",
   "metadata": {},
   "outputs": [],
   "source": [
    "da_time = ds_wrf['Times']\n",
    "da_time"
   ]
  },
  {
   "cell_type": "markdown",
   "metadata": {},
   "outputs": [],
   "source": [
    "If the time coordinate is not in datetime64 formatting you cannot use some of the time-aware functionality in Xarray (see blog post [here](https://ncar.github.io/xdev/posts/time/)).\n",
    "\n",
    "For example, the `xarray.DataArray.sel` functionality will fail.\n",
    "```\n",
    "prc_oct14_oct15 = ds_wrf['PREC_ACC_NC'].sel(Times=slice('2014-10-01', '2015-09-30'))\n",
    "```\n",
    "returns the error:\n",
    "```\n",
    "ValueError: dimensions or multi-index levels ['Times'] do not exist\n",
    "```\n",
    "\n",
    "This isn't that surprising. `.sel` works along a dimension, and our variable `Times` is just that, a variable, with dimension `Time`. If we use `.sel` along the `Time` dimension we see:\n",
    "\n",
    "```\n",
    "prc_oct14_oct15 = ds_wrf['PREC_ACC_NC'].sel(Time=slice('2014-10-01', '2015-09-30'))\n",
    "```\n",
    "returns the error:\n",
    "```\n",
    "TypeError: 'str' object cannot be interpreted as an integer\n",
    "```\n",
    "\n",
    "This is because our `Time` dimension is an index list."
   ]
  },
  {
   "cell_type": "code",
   "metadata": {},
   "outputs": [],
   "source": [
    "ds_wrf['Time']"
   ]
  },
  {
   "cell_type": "markdown",
   "metadata": {},
   "outputs": [],
   "source": [
    "So let's convert our `Times` variable to datetime64 using `pandas.to_datetime`:\n",
    "\n",
    "```\n",
    "time_datetime = pd.to_datetime(da_time)\n",
    "```\n",
    "returns the error:\n",
    "```\n",
    "TypeError: <class 'bytes'> is not convertible to datetime\n",
    "```\n",
    "\n",
    "Available arguments for `to_datetime` are: \n",
    "- integer\n",
    "- float\n",
    "- string\n",
    "- datetime\n",
    "- list\n",
    "- tuple\n",
    "- 1-d array\n",
    "- Series\n",
    "\n",
    "So let's convert to a string!"
   ]
  },
  {
   "cell_type": "code",
   "metadata": {},
   "outputs": [],
   "source": [
    "time_strs = [str(i.values)[1:] for i in da_time]\n",
    "time_strs"
   ]
  },
  {
   "cell_type": "markdown",
   "metadata": {},
   "outputs": [],
   "source": [
    "But it isn't that simple!\n",
    "```\n",
    "time_datetime = pd.to_datetime(time_strs)\n",
    "```\n",
    "\n",
    "returns the error:\n",
    "```\n",
    "ValueError: ('Unknown string format:', \"'2014-08-01_00:00:00'\")\n",
    "```\n",
    "\n",
    "We need to remove those pesky underscores."
   ]
  },
  {
   "cell_type": "code",
   "metadata": {},
   "outputs": [],
   "source": [
    "time_strs = [str(i.values)[1:].replace(\"_\",\" \") for i in da_time]\n",
    "time_strs"
   ]
  },
  {
   "cell_type": "code",
   "metadata": {},
   "outputs": [],
   "source": [
    "time_datetime = pd.to_datetime(time_strs)\n",
    "time_datetime"
   ]
  },
  {
   "cell_type": "markdown",
   "metadata": {},
   "outputs": [],
   "source": [
    "Now we have our time values. Let's rename our dimension `Time` to `time` to match conventions, assign our new `time` coordinate, and drop the `Times` variable."
   ]
  },
  {
   "cell_type": "code",
   "metadata": {},
   "outputs": [],
   "source": [
    "ds_wrf_timedim = ds_wrf.rename({'Time':'time'})\n",
    "ds_wrf_timedim"
   ]
  },
  {
   "cell_type": "code",
   "metadata": {},
   "outputs": [],
   "source": [
    "ds_wrf_timecoord = ds_wrf_timedim.assign(time=time_datetime)\n",
    "ds_wrf_timecoord"
   ]
  },
  {
   "cell_type": "code",
   "metadata": {},
   "outputs": [],
   "source": [
    "ds_wrf_dropped_Times = ds_wrf_timecoord.drop('Times')\n",
    "ds_wrf_dropped_Times"
   ]
  },
  {
   "cell_type": "markdown",
   "metadata": {},
   "outputs": [],
   "source": [
    "A review of the steps for dealing with WRF time:\n",
    "```\n",
    "da_time = ds_wrf['Times']\n",
    "time_strs = [str(i.values)[1:].replace(\"_\",\" \") for i in da_time]\n",
    "time_datetime = pd.to_datetime(time_strs)\n",
    "\n",
    "ds_wrf_timedim = ds_wrf.rename({'Time':'time'})\n",
    "ds_wrf_timecoord = ds_wrf_timedim.assign(time=time_datetime)\n",
    "ds_wrf_dropped_Times = ds_wrf_timecoord.drop('Times')\n",
    "```"
   ]
  },
  {
   "cell_type": "markdown",
   "metadata": {},
   "outputs": [],
   "source": [
    "# Problem #2: NO COORDINATES\n",
    "\n",
    "We need to pull in our lat/lon information from a separate geo file."
   ]
  },
  {
   "cell_type": "code",
   "metadata": {},
   "outputs": [],
   "source": [
    "file_geo = 'wrfinput_d02'\n",
    "ds_geo = xr.open_dataset(file_geo)\n",
    "ds_geo"
   ]
  },
  {
   "cell_type": "markdown",
   "metadata": {},
   "outputs": [],
   "source": [
    "What are our coordinates here? \n",
    " - XLAT and XLONG -- these are our Latitude and Longitude values\n",
    " - XLAT_U and XLONG_U -- Lat and Long with a staggered west-east grid\n",
    " - XLAT_V and XLONG_V -- Lat and Long with a staggered north-south grid\n",
    " \n",
    "We're going to use `XLAT` and `XLONG`."
   ]
  },
  {
   "cell_type": "code",
   "metadata": {},
   "outputs": [],
   "source": [
    "ds_geo.coords['XLAT']"
   ]
  },
  {
   "cell_type": "markdown",
   "metadata": {},
   "outputs": [],
   "source": [
    "`XLAT` and `XLONG` have 3 dimensions (a unit dimension `Time` which we will squeeze out, `south_north` which we will rename `y`, `west_east` which we will rename `x`).\n",
    "\n",
    "If we assign the coords as is:\n",
    "```\n",
    "ds_wrf_w_latlon = ds_wrf.assign_coords(lat=ds_geo.coords['XLAT'], lon=ds_geo.coords['XLONG'])\n",
    "```\n",
    "we get the error:\n",
    "```\n",
    "ValueError: conflicting sizes for dimension 'Time': length 1 on 'XLAT' and length 38375 on 'PREC_ACC_NC'\n",
    "```\n",
    "So we remote the unit dimension `Time` with `.squeeze`"
   ]
  },
  {
   "cell_type": "code",
   "metadata": {},
   "outputs": [],
   "source": [
    "ds_wrf_w_latlon = ds_wrf_dropped_Times.assign_coords(lat=ds_geo.coords['XLAT'].squeeze('Time'), lon=ds_geo.coords['XLONG'].squeeze('Time'))\n",
    "ds_wrf_w_latlon"
   ]
  },
  {
   "cell_type": "code",
   "metadata": {},
   "outputs": [],
   "source": [
    "da_land = ds_geo.LANDMASK.squeeze('Time')\n",
    "da_lake = ds_geo.LAKEMASK.squeeze('Time')\n",
    "\n",
    "ds_wrf_w_masks = ds_wrf_w_latlon.assign_coords(landmask=da_land, lakemask=da_lake)\n",
    "ds_wrf_w_masks"
   ]
  },
  {
   "cell_type": "markdown",
   "metadata": {},
   "outputs": [],
   "source": [
    "To follow conventions let's rename `south_north` to `y` and `west_east` to `x`."
   ]
  },
  {
   "cell_type": "code",
   "metadata": {},
   "outputs": [],
   "source": [
    "ds_wrf_rename_latlon = ds_wrf_w_masks.rename({'south_north':'y', 'west_east':'x'})\n",
    "ds_wrf_rename_latlon"
   ]
  },
  {
   "cell_type": "markdown",
   "metadata": {},
   "outputs": [],
   "source": [
    "We now have duplicate coordinates (`XLAT` and `lat`, `XLONG` and `lon`), let's drop the `XLAT` and `XLONG` coordinates."
   ]
  },
  {
   "cell_type": "code",
   "metadata": {},
   "outputs": [],
   "source": [
    "ds_wrf_dropxlatlon = ds_wrf_rename_latlon.drop(['XLAT', 'XLONG'])\n",
    "ds_wrf_dropxlatlon"
   ]
  },
  {
   "cell_type": "markdown",
   "metadata": {},
   "outputs": [],
   "source": [
    "And voila we have our WRF dataset in a format usable with the rest of the xarray and Pangeo tools.\n",
    "Let's review the steps:\n",
    "\n",
    "```\n",
    "ds_wrf_w_latlon = ds_wrf_dropped_Times.assign_coords(\n",
    "        lat=ds_geo.coords['XLAT'].squeeze('Time'),\n",
    "        lon=ds_geo.coords['XLONG'].squeeze('Time'),\n",
    "        landmask=ds_geo.LANDMASK.squeeze('Time'), \n",
    "        lakemask=ds_geo.LAKEMASK.squeeze('Time'))\n",
    "ds_wrf_rename_latlon = ds_wrf_w_latlon.rename({'south_north':'y', 'west_east':'x'})\n",
    "ds_wrf_dropxlatlon = ds_wrf_rename_latlon.drop(['XLAT', 'XLONG'])\n",
    "```\n",
    "\n",
    "\n",
    "    "
   ]
  },
  {
   "cell_type": "markdown",
   "metadata": {},
   "outputs": [],
   "source": [
    "Let's plot masked mean precipitation values between October '14 and October '15."
   ]
  },
  {
   "cell_type": "code",
   "metadata": {},
   "outputs": [],
   "source": [
    "ds_wrf_cf = ds_wrf_dropxlatlon\n",
    "\n",
    "prc = ds_wrf_cf['PREC_ACC_NC'].sel(time=slice('2014-10-01', '2015-09-30'))\n",
    "prc_mean = prc.mean('time')\n",
    "\n",
    "da_mask = ds_wrf_cf['landmask'].where(ds_wrf_cf['lakemask'].values == 0, other=1)"
   ]
  },
  {
   "cell_type": "code",
   "metadata": {},
   "outputs": [],
   "source": [
    "fig = plt.figure(figsize=(10, 8))\n",
    "\n",
    "prc_mean.where(da_mask.values == 1).plot(x='lon', y='lat')"
   ]
  },
  {
   "cell_type": "markdown",
   "metadata": {},
   "outputs": [],
   "source": [
    "Further reading:\n",
    "https://www.unidata.ucar.edu/blogs/developer/en/entry/wrf_goes_cf_two"
   ]
  }
 ],
 "metadata": {
  "kernelspec": {
   "display_name": "Python 3",
   "language": "python",
   "name": "python3"
  },
  "language_info": {
   "codemirror_mode": {
    "name": "ipython",
    "version": 3
   },
   "file_extension": ".py",
   "mimetype": "text/x-python",
   "name": "python",
   "nbconvert_exporter": "python",
   "pygments_lexer": "ipython3",
   "version": "3.7.3"
  }
 },
 "nbformat": 4,
 "nbformat_minor": 2
}