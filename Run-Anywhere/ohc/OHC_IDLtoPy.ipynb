{
 "cells": [
  {
   "cell_type": "markdown",
   "metadata": {},
   "source": [
    "# Converting OHC to xarray for use with Pangeo\n",
    "## Original IDL code provided by John Fasullo \n",
    "## Conversion by Julia Kent 2019"
   ]
  },
  {
   "cell_type": "code",
   "execution_count": 6,
   "metadata": {},
   "outputs": [],
   "source": [
    "#Import Modules\n",
    "import xarray as xr\n",
    "import cf_units as cf\n",
    "\n",
    "from ngallery_utils import DATASETS"
   ]
  },
  {
   "cell_type": "code",
   "execution_count": 7,
   "metadata": {},
   "outputs": [],
   "source": [
    "# Get data\n",
    "file = DATASETS.fetch('thetao_Omon_historical_GISS-E2-1-G_r1i1p1f1_gn_185001-185512.nc')"
   ]
  },
  {
   "cell_type": "code",
   "execution_count": 8,
   "metadata": {},
   "outputs": [],
   "source": [
    "#Supporting Functions\n",
    "def read_thetao_nc(file):\n",
    "    ds = xr.open_dataset(file,chunks={'lev':1})\n",
    "    return ds\n",
    "\n",
    "def change_depth_to_m(ds):\n",
    "    orig_units = cf.Unit(ds.lev.attrs['units'])\n",
    "    target_units = cf.Unit('m')\n",
    "    lev_bnds_m = xr.apply_ufunc(orig_units.convert,ds.lev_bnds,target_units,dask='parallelized',output_dtypes=[ds.lev_bnds.dtype])\n",
    "    return lev_bnds_m\n",
    "\n",
    "def change_temp_to_K(ds):\n",
    "    orig_units = cf.Unit(ds.thetao.attrs['units'])\n",
    "    target_units = cf.Unit('K')\n",
    "    temp_K = xr.apply_ufunc(orig_units.convert,ds.thetao,target_units,dask='parallelized',output_dtypes=[ds.thetao.dtype])\n",
    "    return temp_K\n",
    "\n",
    "def limit_temp_to_dlim(lev_bnds_m,temp_K,dlim): \n",
    "    lev_bnds_lim = lev_bnds_m.where(lev_bnds_m<dlim,dlim)\n",
    "    dlev = abs(lev_bnds_lim[:,1]-lev_bnds_lim[:,0])\n",
    "    dlev_lim = dlev.where(dlev!=0,drop=True)\n",
    "    temp_lim = temp_K.where(dlev!=0,drop=True)\n",
    "    return dlev_lim, temp_lim"
   ]
  },
  {
   "cell_type": "code",
   "execution_count": 9,
   "metadata": {},
   "outputs": [],
   "source": [
    "def calc_ocean_heat(ds,dlim=275):\n",
    "    lev_bnds_m = change_depth_to_m(ds)\n",
    "    temp_K = change_temp_to_K(ds) \n",
    "    dlev_lim, temp_lim = limit_temp_to_dlim(lev_bnds_m, temp_K, dlim)\n",
    "    \n",
    "    weighted_temp = dlev_lim*temp_lim\n",
    "    rho = 1026 #kg/m^3\n",
    "    c_p = 3990 #J/(kg K)\n",
    "    heat = weighted_temp.sum(dim=\"lev\")*rho*c_p\n",
    "    return heat\n",
    "\n",
    "ds = read_thetao_nc(file)\n",
    "heat = calc_ocean_heat(ds)\n"
   ]
  },
  {
   "cell_type": "code",
   "execution_count": null,
   "metadata": {},
   "outputs": [],
   "source": []
  }
 ],
 "metadata": {
  "kernelspec": {
   "display_name": "Python 3",
   "language": "python",
   "name": "python3"
  },
  "language_info": {
   "codemirror_mode": {
    "name": "ipython",
    "version": 3
   },
   "file_extension": ".py",
   "mimetype": "text/x-python",
   "name": "python",
   "nbconvert_exporter": "python",
   "pygments_lexer": "ipython3",
   "version": "3.7.3"
  }
 },
 "nbformat": 4,
 "nbformat_minor": 4
}
