{
 "cells": [
  {
   "cell_type": "markdown",
   "metadata": {},
   "source": [
    "# Converting OHC to xarray for use with Pangeo\n",
    "## Original IDL code provided by John Fasullo \n",
    "## Conversion by Julia Kent 2019"
   ]
  },
  {
   "cell_type": "code",
   "execution_count": 1,
   "metadata": {},
   "outputs": [],
   "source": [
    "file = '../thetao_Omon_historical_GISS-E2-1-G_r1i1p1f1_gn_185001-187012.nc'\n",
    "\n",
    "#Import Modules\n",
    "import xarray as xr\n",
    "import cf_units as cf"
   ]
  },
  {
   "cell_type": "code",
   "execution_count": 7,
   "metadata": {},
   "outputs": [],
   "source": [
    "#Supporting Functions\n",
    "def read_thetao_nc(file):\n",
    "    ds = xr.open_dataset(file,chunks={'lev':1})\n",
    "    return ds\n",
    "\n",
    "def change_depth_to_m(ds):\n",
    "    orig_units = cf.Unit(ds.lev.attrs['units'])\n",
    "    target_units = cf.Unit('m')\n",
    "    lev_m = xr.apply_ufunc(orig_units.convert,ds.lev,target_units,dask='parallelized',output_dtypes=[ds.lev.dtype])\n",
    "    lev_bnds_m = xr.apply_ufunc(orig_units.convert,ds.lev_bnds,target_units,dask='parallelized',output_dtypes=[ds.lev_bnds.dtype])\n",
    "    return lev_m, lev_bnds_m\n",
    "\n",
    "def change_temp_to_K(ds):\n",
    "    orig_units = cf.Unit(ds.thetao.attrs['units'])\n",
    "    target_units = cf.Unit('K')\n",
    "    temp_K = xr.apply_ufunc(orig_units.convert,ds.thetao,target_units,dask='parallelized',output_dtypes=[ds.thetao.dtype])\n",
    "    return temp_K\n",
    "\n",
    "def limit_temp_to_dlim(lev_bnds_m,temp_K,dlim): \n",
    "    lev_bnds_lim = lev_bnds_m.where(lev_bnds_m<dlim,dlim)\n",
    "    dlev = abs(lev_bnds_lim[:,1]-lev_bnds_lim[:,0])\n",
    "    dlev_lim = dlev.where(dlev!=0,drop=True)\n",
    "    temp_lim = temp_K.where(dlev!=0,drop=True)\n",
    "    return dlev_lim, temp_lim"
   ]
  },
  {
   "cell_type": "code",
   "execution_count": 11,
   "metadata": {},
   "outputs": [
    {
     "name": "stderr",
     "output_type": "stream",
     "text": [
      "/Users/jkent/miniconda3/envs/pangeo/lib/python3.6/site-packages/dask/array/blockwise.py:204: UserWarning: The da.atop function has moved to da.blockwise\n",
      "  warnings.warn(\"The da.atop function has moved to da.blockwise\")\n"
     ]
    }
   ],
   "source": [
    "def calc_ocean_heat(file,dlim=275):\n",
    "    ds = xr.open_dataset(file,chunks={'lev':1})\n",
    "    \n",
    "    lev_m, lev_bnds_m = change_depth_to_m(ds)\n",
    "    temp_K = change_temp_to_K(ds) \n",
    "    dlev_lim, temp_lim = limit_temp_to_dlim(lev_bnds_m, temp_K, dlim)\n",
    "    \n",
    "    weighted_temp = dlev_lim*temp_lim\n",
    "    rho = 1026 #kg/m^3\n",
    "    c_p = 3990 #J/(kg K)\n",
    "    heat = weighted_temp.sum(dim=\"lev\")*rho*c_p\n",
    "    return heat\n",
    "\n",
    "heat = calc_ocean_heat(file)\n"
   ]
  },
  {
   "cell_type": "code",
   "execution_count": 14,
   "metadata": {},
   "outputs": [
    {
     "data": {
      "text/plain": [
       "array([[[0.00000000e+00, 0.00000000e+00, 0.00000000e+00, ...,\n",
       "         0.00000000e+00, 0.00000000e+00, 0.00000000e+00],\n",
       "        [0.00000000e+00, 0.00000000e+00, 0.00000000e+00, ...,\n",
       "         0.00000000e+00, 0.00000000e+00, 0.00000000e+00],\n",
       "        [0.00000000e+00, 0.00000000e+00, 0.00000000e+00, ...,\n",
       "         0.00000000e+00, 0.00000000e+00, 0.00000000e+00],\n",
       "        ...,\n",
       "        [3.06567068e+11, 3.06568289e+11, 3.06568424e+11, ...,\n",
       "         3.06555081e+11, 3.06560251e+11, 3.06564284e+11],\n",
       "        [3.06519147e+11, 3.06520541e+11, 3.06521275e+11, ...,\n",
       "         3.06510537e+11, 3.06514107e+11, 3.06516999e+11],\n",
       "        [3.06361985e+11, 3.06361985e+11, 3.06361985e+11, ...,\n",
       "         3.06361985e+11, 3.06361985e+11, 3.06361985e+11]],\n",
       "\n",
       "       [[0.00000000e+00, 0.00000000e+00, 0.00000000e+00, ...,\n",
       "         0.00000000e+00, 0.00000000e+00, 0.00000000e+00],\n",
       "        [0.00000000e+00, 0.00000000e+00, 0.00000000e+00, ...,\n",
       "         0.00000000e+00, 0.00000000e+00, 0.00000000e+00],\n",
       "        [0.00000000e+00, 0.00000000e+00, 0.00000000e+00, ...,\n",
       "         0.00000000e+00, 0.00000000e+00, 0.00000000e+00],\n",
       "        ...,\n",
       "        [3.06548804e+11, 3.06550163e+11, 3.06550898e+11, ...,\n",
       "         3.06538687e+11, 3.06543131e+11, 3.06546433e+11],\n",
       "        [3.06500346e+11, 3.06501719e+11, 3.06502650e+11, ...,\n",
       "         3.06493203e+11, 3.06496037e+11, 3.06498401e+11],\n",
       "        [3.06355169e+11, 3.06355169e+11, 3.06355169e+11, ...,\n",
       "         3.06355169e+11, 3.06355169e+11, 3.06355169e+11]],\n",
       "\n",
       "       [[0.00000000e+00, 0.00000000e+00, 0.00000000e+00, ...,\n",
       "         0.00000000e+00, 0.00000000e+00, 0.00000000e+00],\n",
       "        [0.00000000e+00, 0.00000000e+00, 0.00000000e+00, ...,\n",
       "         0.00000000e+00, 0.00000000e+00, 0.00000000e+00],\n",
       "        [0.00000000e+00, 0.00000000e+00, 0.00000000e+00, ...,\n",
       "         0.00000000e+00, 0.00000000e+00, 0.00000000e+00],\n",
       "        ...,\n",
       "        [3.06554311e+11, 3.06556780e+11, 3.06558008e+11, ...,\n",
       "         3.06541589e+11, 3.06546674e+11, 3.06550860e+11],\n",
       "        [3.06501113e+11, 3.06503093e+11, 3.06503981e+11, ...,\n",
       "         3.06492471e+11, 3.06495796e+11, 3.06498764e+11],\n",
       "        [3.06349232e+11, 3.06349232e+11, 3.06349232e+11, ...,\n",
       "         3.06349232e+11, 3.06349232e+11, 3.06349232e+11]],\n",
       "\n",
       "       ...,\n",
       "\n",
       "       [[0.00000000e+00, 0.00000000e+00, 0.00000000e+00, ...,\n",
       "         0.00000000e+00, 0.00000000e+00, 0.00000000e+00],\n",
       "        [0.00000000e+00, 0.00000000e+00, 0.00000000e+00, ...,\n",
       "         0.00000000e+00, 0.00000000e+00, 0.00000000e+00],\n",
       "        [0.00000000e+00, 0.00000000e+00, 0.00000000e+00, ...,\n",
       "         0.00000000e+00, 0.00000000e+00, 0.00000000e+00],\n",
       "        ...,\n",
       "        [3.06494855e+11, 3.06491499e+11, 3.06487628e+11, ...,\n",
       "         3.06502424e+11, 3.06500394e+11, 3.06497847e+11],\n",
       "        [3.06458235e+11, 3.06455426e+11, 3.06452119e+11, ...,\n",
       "         3.06465388e+11, 3.06463237e+11, 3.06460845e+11],\n",
       "        [3.06340761e+11, 3.06340761e+11, 3.06340761e+11, ...,\n",
       "         3.06340761e+11, 3.06340761e+11, 3.06340761e+11]],\n",
       "\n",
       "       [[0.00000000e+00, 0.00000000e+00, 0.00000000e+00, ...,\n",
       "         0.00000000e+00, 0.00000000e+00, 0.00000000e+00],\n",
       "        [0.00000000e+00, 0.00000000e+00, 0.00000000e+00, ...,\n",
       "         0.00000000e+00, 0.00000000e+00, 0.00000000e+00],\n",
       "        [0.00000000e+00, 0.00000000e+00, 0.00000000e+00, ...,\n",
       "         0.00000000e+00, 0.00000000e+00, 0.00000000e+00],\n",
       "        ...,\n",
       "        [3.06497776e+11, 3.06493270e+11, 3.06488565e+11, ...,\n",
       "         3.06507534e+11, 3.06504979e+11, 3.06501710e+11],\n",
       "        [3.06460085e+11, 3.06456409e+11, 3.06452478e+11, ...,\n",
       "         3.06468988e+11, 3.06466396e+11, 3.06463416e+11],\n",
       "        [3.06341434e+11, 3.06341434e+11, 3.06341434e+11, ...,\n",
       "         3.06341434e+11, 3.06341434e+11, 3.06341434e+11]],\n",
       "\n",
       "       [[0.00000000e+00, 0.00000000e+00, 0.00000000e+00, ...,\n",
       "         0.00000000e+00, 0.00000000e+00, 0.00000000e+00],\n",
       "        [0.00000000e+00, 0.00000000e+00, 0.00000000e+00, ...,\n",
       "         0.00000000e+00, 0.00000000e+00, 0.00000000e+00],\n",
       "        [0.00000000e+00, 0.00000000e+00, 0.00000000e+00, ...,\n",
       "         0.00000000e+00, 0.00000000e+00, 0.00000000e+00],\n",
       "        ...,\n",
       "        [3.06504317e+11, 3.06500923e+11, 3.06497255e+11, ...,\n",
       "         3.06511758e+11, 3.06509602e+11, 3.06507130e+11],\n",
       "        [3.06461492e+11, 3.06458709e+11, 3.06455540e+11, ...,\n",
       "         3.06467952e+11, 3.06465988e+11, 3.06463840e+11],\n",
       "        [3.06341403e+11, 3.06341403e+11, 3.06341403e+11, ...,\n",
       "         3.06341403e+11, 3.06341403e+11, 3.06341403e+11]]])"
      ]
     },
     "execution_count": 14,
     "metadata": {},
     "output_type": "execute_result"
    }
   ],
   "source": [
    "heat.values"
   ]
  },
  {
   "cell_type": "code",
   "execution_count": null,
   "metadata": {},
   "outputs": [],
   "source": []
  },
  {
   "cell_type": "code",
   "execution_count": null,
   "metadata": {},
   "outputs": [],
   "source": []
  }
 ],
 "metadata": {
  "kernelspec": {
   "display_name": "Python 3",
   "language": "python",
   "name": "python3"
  },
  "language_info": {
   "codemirror_mode": {
    "name": "ipython",
    "version": 3
   },
   "file_extension": ".py",
   "mimetype": "text/x-python",
   "name": "python",
   "nbconvert_exporter": "python",
   "pygments_lexer": "ipython3",
   "version": "3.6.8"
  }
 },
 "nbformat": 4,
 "nbformat_minor": 2
}
