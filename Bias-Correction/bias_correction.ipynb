{
 "cells": [
  {
   "cell_type": "markdown",
   "metadata": {},
   "source": [
    "## Set up Workspace"
   ]
  },
  {
   "cell_type": "code",
   "execution_count": 1,
   "metadata": {},
   "outputs": [],
   "source": [
    "import xarray as xr\n",
    "import numpy as np\n",
    "import matplotlib.pyplot as plt\n",
    "from scipy import interpolate, stats\n",
    "import xesmf as xe\n",
    "from datetime import datetime, timedelta\n",
    "from ngallery_utils import DATASETS\n",
    "\n",
    "%matplotlib inline\n",
    "\n",
    "var = 'uas'"
   ]
  },
  {
   "cell_type": "markdown",
   "metadata": {},
   "source": [
    "## Look at Data"
   ]
  },
  {
   "cell_type": "code",
   "execution_count": 2,
   "metadata": {},
   "outputs": [],
   "source": [
    "hist_file = DATASETS.fetch(\"uas.hist.CanESM2.CRCM5-UQAM.day.NAM-44i.raw.Colorado.nc\")\n",
    "rcp85_file = DATASETS.fetch(\"uas.rcp85.CanESM2.CRCM5-UQAM.day.NAM-44i.raw.Colorado.nc\")\n",
    "meas_file = DATASETS.fetch(\"uas.gridMET.NAM-44i.Colorado.nc\")"
   ]
  },
  {
   "cell_type": "code",
   "execution_count": 3,
   "metadata": {},
   "outputs": [
    {
     "data": {
      "text/plain": [
       "<xarray.Dataset>\n",
       "Dimensions:    (bnds: 2, lat: 8, lon: 16, time: 20440)\n",
       "Coordinates:\n",
       "  * time       (time) object 1950-01-01 12:00:00 ... 2005-12-31 12:00:00\n",
       "  * lat        (lat) float64 37.25 37.75 38.25 38.75 39.25 39.75 40.25 40.75\n",
       "  * lon        (lon) float64 -109.8 -109.2 -108.8 ... -103.2 -102.8 -102.2\n",
       "Dimensions without coordinates: bnds\n",
       "Data variables:\n",
       "    uas        (time, lat, lon) float32 ...\n",
       "    time_bnds  (time, bnds) object ...\n",
       "Attributes:\n",
       "    Conventions:                    CF-1.4\n",
       "    institution:                    Universite du Quebec a Montreal\n",
       "    contact:                        Winger.Katja@uqam.ca\n",
       "    comment:                        CORDEX North America CRCM5 v333 0.44 deg ...\n",
       "    model:                          CRCM5 (dynamics GEM v_3.3.3, physics RPN ...\n",
       "    model_grid:                     rotated lat-lon 236x241 incl. 10p pilot a...\n",
       "    geophysical_fields:             orography: USGS / land use cover: USGS / ...\n",
       "    physics:                        land: CLASS3.5+, 26L, bottom at 60m / lak...\n",
       "    forcing:                        GHG: CO2,CH4,N2O,CFC11,effective CFC12\n",
       "    creation_date:                  2012-09-06\n",
       "    experiment:                     historical\n",
       "    experiment_id:                  historical\n",
       "    driving_model_ensemble_member:  r1i1p1\n",
       "    driving_experiment_name:        historical\n",
       "    frequency:                      day\n",
       "    institute_id:                   UQAM\n",
       "    rcm_version_id:                 v1\n",
       "    project_id:                     CORDEX\n",
       "    CORDEX_domain:                  NAM-44\n",
       "    product:                        output\n",
       "    references:                     http://www.mrcc.uqam.ca\n",
       "    history:                        Fri Mar 29 14:03:34 2019: ncrcat -O -o /g...\n",
       "    NCO:                            netCDF Operators version 4.7.4 (http://nc...\n",
       "    model_id:                       UQAM-CRCM5\n",
       "    driving_experiment:             CCCma-CanESM2,historical,r1i1p1\n",
       "    driving_model_id:               CCCma-CanESM2\n",
       "    history_of_appended_files:      Wed Sep  5 00:03:57 2018: Appended file t...\n",
       "    tracking_id:                    5718ce6b-2ffb-4efb-9b49-f123e4184106\n",
       "    nco_openmp_thread_number:       1\n",
       "    id:                             doi:10.5065/D6SJ1JCH\n",
       "    title:                          NA-CORDEX Raw NAM-44i CRCM5-UQAM CanESM2 ...\n",
       "    version:                        1.0"
      ]
     },
     "execution_count": 3,
     "metadata": {},
     "output_type": "execute_result"
    }
   ],
   "source": [
    "ds_hist = xr.open_dataset(hist_file)\n",
    "ds_hist"
   ]
  },
  {
   "cell_type": "code",
   "execution_count": 4,
   "metadata": {},
   "outputs": [
    {
     "data": {
      "text/plain": [
       "<matplotlib.contour.QuadContourSet at 0x2b041e3a1940>"
      ]
     },
     "execution_count": 4,
     "metadata": {},
     "output_type": "execute_result"
    },
    {
     "data": {
      "image/png": "[encoded data removed]",
      "text/plain": [
       "<Figure size 432x288 with 2 Axes>"
      ]
     },
     "metadata": {
      "needs_background": "light"
     },
     "output_type": "display_data"
    }
   ],
   "source": [
    "ds_hist[var].isel(time=0).plot.contourf(x=\"lon\", y=\"lat\", cmap=\"PRGn\", cbar_kwargs={\"label\": \"m/s\"})"
   ]
  },
  {
   "cell_type": "code",
   "execution_count": 5,
   "metadata": {},
   "outputs": [
    {
     "data": {
      "text/plain": [
       "<xarray.Dataset>\n",
       "Dimensions:    (bnds: 2, lat: 8, lon: 16, time: 20440)\n",
       "Coordinates:\n",
       "  * time       (time) object 1950-01-01 12:00:00 ... 2005-12-31 12:00:00\n",
       "  * lat        (lat) float64 37.25 37.75 38.25 38.75 39.25 39.75 40.25 40.75\n",
       "  * lon        (lon) float64 -109.8 -109.2 -108.8 ... -103.2 -102.8 -102.2\n",
       "Dimensions without coordinates: bnds\n",
       "Data variables:\n",
       "    uas        (time, lat, lon) float32 ...\n",
       "    time_bnds  (time, bnds) object ...\n",
       "Attributes:\n",
       "    Conventions:                    CF-1.4\n",
       "    institution:                    Universite du Quebec a Montreal\n",
       "    contact:                        Winger.Katja@uqam.ca\n",
       "    comment:                        CORDEX North America CRCM5 v333 0.44 deg ...\n",
       "    model:                          CRCM5 (dynamics GEM v_3.3.3, physics RPN ...\n",
       "    model_grid:                     rotated lat-lon 236x241 incl. 10p pilot a...\n",
       "    geophysical_fields:             orography: USGS / land use cover: USGS / ...\n",
       "    physics:                        land: CLASS3.5+, 26L, bottom at 60m / lak...\n",
       "    forcing:                        GHG: CO2,CH4,N2O,CFC11,effective CFC12\n",
       "    creation_date:                  2012-09-06\n",
       "    experiment:                     historical\n",
       "    experiment_id:                  historical\n",
       "    driving_model_ensemble_member:  r1i1p1\n",
       "    driving_experiment_name:        historical\n",
       "    frequency:                      day\n",
       "    institute_id:                   UQAM\n",
       "    rcm_version_id:                 v1\n",
       "    project_id:                     CORDEX\n",
       "    CORDEX_domain:                  NAM-44\n",
       "    product:                        output\n",
       "    references:                     http://www.mrcc.uqam.ca\n",
       "    history:                        Fri Mar 29 14:03:34 2019: ncrcat -O -o /g...\n",
       "    NCO:                            netCDF Operators version 4.7.4 (http://nc...\n",
       "    model_id:                       UQAM-CRCM5\n",
       "    driving_experiment:             CCCma-CanESM2,historical,r1i1p1\n",
       "    driving_model_id:               CCCma-CanESM2\n",
       "    history_of_appended_files:      Wed Sep  5 00:03:57 2018: Appended file t...\n",
       "    tracking_id:                    5718ce6b-2ffb-4efb-9b49-f123e4184106\n",
       "    nco_openmp_thread_number:       1\n",
       "    id:                             doi:10.5065/D6SJ1JCH\n",
       "    title:                          NA-CORDEX Raw NAM-44i CRCM5-UQAM CanESM2 ...\n",
       "    version:                        1.0"
      ]
     },
     "execution_count": 5,
     "metadata": {},
     "output_type": "execute_result"
    }
   ],
   "source": [
    "ds_rcp85 = xr.open_dataset(rcp85_file)\n",
    "ds_rcp85"
   ]
  },
  {
   "cell_type": "code",
   "execution_count": 6,
   "metadata": {},
   "outputs": [
    {
     "data": {
      "text/plain": [
       "<matplotlib.contour.QuadContourSet at 0x2b041e769550>"
      ]
     },
     "execution_count": 6,
     "metadata": {},
     "output_type": "execute_result"
    },
    {
     "data": {
      "image/png": "[encoded data removed]",
      "text/plain": [
       "<Figure size 432x288 with 2 Axes>"
      ]
     },
     "metadata": {
      "needs_background": "light"
     },
     "output_type": "display_data"
    }
   ],
   "source": [
    "ds_rcp85[var].isel(time=0).plot.contourf(x=\"lon\", y=\"lat\", cmap=\"PRGn\", cbar_kwargs={\"label\": \"m/s\"})"
   ]
  },
  {
   "cell_type": "code",
   "execution_count": 7,
   "metadata": {},
   "outputs": [
    {
     "data": {
      "text/plain": [
       "<xarray.Dataset>\n",
       "Dimensions:      (bnds: 2, lat: 8, lon: 16, time: 13880)\n",
       "Coordinates:\n",
       "  * time         (time) datetime64[ns] 1979-01-01T19:00:00 ... 2016-12-31T19:00:00\n",
       "  * lon          (lon) float64 -109.8 -109.2 -108.8 ... -103.2 -102.8 -102.2\n",
       "  * lat          (lat) float64 37.25 37.75 38.25 38.75 39.25 39.75 40.25 40.75\n",
       "Dimensions without coordinates: bnds\n",
       "Data variables:\n",
       "    uas          (time, lat, lon) float32 ...\n",
       "    time_bnds    (time, bnds) datetime64[ns] ...\n",
       "    data_status  (time) int8 ...\n",
       "    lon_bnds     (lon, bnds) float32 ...\n",
       "    lat_bnds     (lat, bnds) float32 ...\n",
       "    crs          int32 ...\n",
       "Attributes:\n",
       "    author:                    John Abatzoglou - University of Idaho, jabatzo...\n",
       "    creation_date:             10 March 2016\n",
       "    Conventions:               CF-1.6\n",
       "    title:                     gridMET gridded surface meteorological data\n",
       "    institution:               University of Idaho\n",
       "    contact:                   John Abatzoglou, jabatzoglou@uidaho.edu\n",
       "    URL:                       http://www.climatologylab.org/gridmet.html\n",
       "    references:                Abatzoglou, J.T., 2012, Development of gridded...\n",
       "    source:                    gridMET combines data from PRISM and NLDAS-2 a...\n",
       "    acknowledgements:          CF compliance by Seth McGinnis, mcginnis@ucar.edu\n",
       "    uuid:                      82c7e638-7fb7-4a0d-bcef-c2d18a69f8fa\n",
       "    history:                   Fri Aug 30 15:00:15 2019: ncrcat -n 38,4,1 uas...\n",
       "    NCO:                       netCDF Operators version 4.7.4 (http://nco.sf....\n",
       "    tracking_id:               da9158a7-73d3-4e74-aeaf-c0f7d0433508\n",
       "    nco_openmp_thread_number:  1"
      ]
     },
     "execution_count": 7,
     "metadata": {},
     "output_type": "execute_result"
    }
   ],
   "source": [
    "ds_meas = xr.open_dataset(meas_file)\n",
    "ds_meas"
   ]
  },
  {
   "cell_type": "code",
   "execution_count": 8,
   "metadata": {},
   "outputs": [
    {
     "data": {
      "text/plain": [
       "<matplotlib.contour.QuadContourSet at 0x2b041e849320>"
      ]
     },
     "execution_count": 8,
     "metadata": {},
     "output_type": "execute_result"
    },
    {
     "data": {
      "image/png": "[encoded data removed]",
      "text/plain": [
       "<Figure size 432x288 with 2 Axes>"
      ]
     },
     "metadata": {
      "needs_background": "light"
     },
     "output_type": "display_data"
    }
   ],
   "source": [
    "ds_meas[var].isel(time=0).plot.contourf(x=\"lon\", y=\"lat\", cmap=\"PRGn\", cbar_kwargs={\"label\": \"m/s\"})"
   ]
  },
  {
   "cell_type": "markdown",
   "metadata": {},
   "source": [
    "## Align Time"
   ]
  },
  {
   "cell_type": "code",
   "execution_count": 9,
   "metadata": {},
   "outputs": [],
   "source": [
    "ds_meas_noleap = ds_meas.sel(time=~((ds_meas.time.dt.dayofyear == 366) ))"
   ]
  },
  {
   "cell_type": "code",
   "execution_count": 10,
   "metadata": {},
   "outputs": [
    {
     "name": "stderr",
     "output_type": "stream",
     "text": [
      "/ncar/usr/jupyterhub/envs/cmip6-201910/lib/python3.7/site-packages/ipykernel_launcher.py:2: RuntimeWarning: Converting a CFTimeIndex with dates from a non-standard calendar, 'noleap', to a pandas.DatetimeIndex, which uses dates from the standard calendar.  This may lead to subtle errors in operations that depend on the length of time between dates.\n",
      "  \n"
     ]
    }
   ],
   "source": [
    "def _cfnoleap_to_datetime(da):\n",
    "    datetimeindex = da.indexes['time'].to_datetimeindex()\n",
    "    ds = da#.to_dataset()\n",
    "    ds['time_dt']= ('time', datetimeindex)\n",
    "    ds = ds.swap_dims({'time': 'time_dt'})\n",
    "    assert len(da.time) == len(ds.time_dt)\n",
    "    return ds\n",
    "\n",
    "ds_hist_dt = _cfnoleap_to_datetime(ds_hist)   \n",
    "ds_rcp85_dt = _cfnoleap_to_datetime(ds_rcp85)  "
   ]
  },
  {
   "cell_type": "code",
   "execution_count": 11,
   "metadata": {},
   "outputs": [],
   "source": [
    "def _regroup_models_bytime(ds_meas, ds_hist_dt, ds_rcp_dt):\n",
    "    t0_meas = ds_meas.time[0]\n",
    "    tn_meas = ds_meas.time[-1]\n",
    "    t0_fut = tn_meas.values + np.timedelta64(1, 'D')\n",
    "    \n",
    "    ds_past = ds_hist_dt.sel(time_dt = slice(t0_meas, tn_meas))\n",
    "    ds_past = ds_past.swap_dims({'time_dt':'time'})\n",
    "    \n",
    "    ds_fut_pt1 = ds_hist_dt.sel(time_dt = slice(t0_fut,None))\n",
    "    ds_fut = xr.concat([ds_fut_pt1[var], ds_rcp_dt[var]], 'time_dt')\n",
    "    ds_fut = ds_fut.swap_dims({'time_dt':'time'})\n",
    "    return ds_past, ds_fut\n",
    "\n",
    "ds_past, ds_fut = _regroup_models_bytime(ds_meas_noleap, ds_hist_dt, ds_rcp85_dt)"
   ]
  },
  {
   "cell_type": "markdown",
   "metadata": {},
   "source": [
    "## Bias Correction\n",
    "  \n",
    "- Bias correction methods other than zscore:\n",
    "    - scale (for wind speed, wave flux in air)\n",
    "    - log (for precipitation)\n",
    "    - range (relative humidity)\n",
    "    - seth mcginnes's kddm (for any bimodal distributions)"
   ]
  },
  {
   "cell_type": "code",
   "execution_count": 12,
   "metadata": {},
   "outputs": [],
   "source": [
    "def _reshape(ds, window_width):\n",
    "    split = lambda g: (g.rename({'time': 'day'})\n",
    "                       .assign_coords(day=g.time.dt.dayofyear.values))\n",
    "    ds2 = ds.groupby('time.year').apply(split)\n",
    "    \n",
    "    early_Jans = ds2.isel(day = slice(None,window_width//2))\n",
    "    late_Decs = ds2.isel(day = slice(-window_width//2,None))\n",
    "    \n",
    "    ds3 = xr.concat([late_Decs,ds2,early_Jans],dim='day')\n",
    "    return ds3\n",
    "\n",
    "def _calc_stats(ds, window_width):\n",
    "    ds_rsh = _reshape(ds, window_width)\n",
    "    \n",
    "    ds_rolled = ds_rsh.rolling(day=window_width, center=True).construct('win_day')\n",
    "    \n",
    "    n = window_width//2+1\n",
    "    ds_mean = ds_rolled.mean(dim=['year','win_day']).isel(day=slice(n,-n))\n",
    "    ds_std = ds_rolled.std(dim=['year','win_day']).isel(day=slice(n,-n))\n",
    "    \n",
    "    ds_avyear = ds_rsh.mean(dim=['year','day'])\n",
    "    ds_zscore = ((ds_avyear - ds_mean) / ds_std)\n",
    "    return ds_mean, ds_std, ds_zscore\n",
    "\n",
    "window_width=31\n",
    "meas_mean, meas_std, meas_zscore = _calc_stats(ds_meas_noleap, window_width)\n",
    "hist_mean, hist_std, hist_zscore = _calc_stats(ds_past, window_width)"
   ]
  },
  {
   "cell_type": "code",
   "execution_count": 13,
   "metadata": {},
   "outputs": [],
   "source": [
    "def _get_params(meas_mean, meas_std, past_mean, past_std):    \n",
    "    shift = meas_mean - past_mean\n",
    "    scale = meas_std / past_std\n",
    "    return shift, scale\n",
    "\n",
    "shift, scale = _get_params(meas_mean, meas_std, hist_mean, hist_std)"
   ]
  },
  {
   "cell_type": "code",
   "execution_count": 14,
   "metadata": {},
   "outputs": [],
   "source": [
    "def _calc_fut_stats(ds_fut, window_width):\n",
    "    ds_rolled = ds_fut.rolling(time=window_width, center=True).construct('win_day')\n",
    "    \n",
    "    ds_mean = ds_rolled.mean(dim=['win_day'])\n",
    "    ds_std = ds_rolled.std(dim=['win_day'])\n",
    "    \n",
    "    ds_avyear = ds_fut.mean(dim=['time'])\n",
    "    ds_zscore = ((ds_avyear - ds_mean) / ds_std)\n",
    "    return ds_mean, ds_std, ds_zscore\n",
    "\n",
    "fut_mean, fut_std, fut_zscore = _calc_fut_stats(ds_fut, window_width)"
   ]
  },
  {
   "cell_type": "code",
   "execution_count": 15,
   "metadata": {},
   "outputs": [],
   "source": [
    "fut_mean_bc = fut_mean + shift\n",
    "fut_std_bc = fut_std * scale\n",
    "\n",
    "fut_corrected = (fut_zscore * fut_std_bc) + fut_mean_bc"
   ]
  },
  {
   "cell_type": "markdown",
   "metadata": {},
   "source": [
    "# Visualize the Correction"
   ]
  },
  {
   "cell_type": "code",
   "execution_count": 18,
   "metadata": {},
   "outputs": [],
   "source": [
    "def gaus(mean, std, doy):\n",
    "    a = mean.sel(day=doy)\n",
    "    mu = a.isel(lon = 5, lat = 5)\n",
    "\n",
    "    b =std.sel(day=doy)\n",
    "    sigma = b.isel(lon = 5, lat = 5)\n",
    "\n",
    "    x = np.linspace(mu - 3*sigma, mu + 3*sigma, 100)\n",
    "    y = stats.norm.pdf(x, mu, sigma)\n",
    "    return x, y"
   ]
  },
  {
   "cell_type": "code",
   "execution_count": 21,
   "metadata": {},
   "outputs": [
    {
     "name": "stderr",
     "output_type": "stream",
     "text": [
      "/ncar/usr/jupyterhub/envs/cmip6-201910/lib/python3.7/site-packages/xarray/core/groupby.py:635: FutureWarning: This DataArray contains multi-dimensional coordinates. In the future, these coordinates will be transposed as well unless you specify transpose_coords=False.\n",
      "  return stacked.transpose(*new_order, transpose_coords=self._restore_coord_dims)\n"
     ]
    },
    {
     "data": {
      "text/plain": [
       "<matplotlib.legend.Legend at 0x2b05e4d1bcf8>"
      ]
     },
     "execution_count": 21,
     "metadata": {},
     "output_type": "execute_result"
    },
    {
     "data": {
      "image/png": "[encoded data removed]",
      "text/plain": [
       "<Figure size 432x288 with 1 Axes>"
      ]
     },
     "metadata": {
      "needs_background": "light"
     },
     "output_type": "display_data"
    }
   ],
   "source": [
    "fut_typ_mean, fut_typ_std, fut_typ_zscore = _calc_stats(ds_fut, window_width)\n",
    "fut_typ_mean_bc = fut_typ_mean + shift\n",
    "fut_typ_std_bc = fut_typ_std * scale\n",
    "\n",
    "doy=20\n",
    "plt.figure()\n",
    "x,y = gaus(hist_mean[var], hist_std[var], doy)\n",
    "plt.plot(x, y, 'orange', label = 'historical model')\n",
    "x,y = gaus(meas_mean[var], meas_std[var], doy)\n",
    "plt.plot(x, y, 'red', label = 'measured')\n",
    "x,y = gaus(fut_typ_mean, fut_typ_std, doy)\n",
    "plt.plot(x, y, 'blue', label = 'raw future model')\n",
    "x,y = gaus(fut_typ_mean_bc[var], fut_typ_std_bc[var], doy)\n",
    "plt.plot(x, y, 'green', label = 'corrected future model')\n",
    "plt.legend()"
   ]
  }
 ],
 "metadata": {
  "kernelspec": {
   "display_name": "Python 3",
   "language": "python",
   "name": "python3"
  },
  "language_info": {
   "codemirror_mode": {
    "name": "ipython",
    "version": 3
   },
   "file_extension": ".py",
   "mimetype": "text/x-python",
   "name": "python",
   "nbconvert_exporter": "python",
   "pygments_lexer": "ipython3",
   "version": "3.7.1"
  }
 },
 "nbformat": 4,
 "nbformat_minor": 4
}
