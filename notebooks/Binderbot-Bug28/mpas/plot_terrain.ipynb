{
 "cells": [
  {
   "cell_type": "markdown",
   "metadata": {},
   "source": [
    "# Plot MPAS data using Delauney Triangulation"
   ]
  },
  {
   "cell_type": "code",
   "execution_count": null,
   "metadata": {},
   "outputs": [],
   "source": [
    "%matplotlib inline\n",
    "import xarray as xr\n",
    "import numpy as np\n",
    "import cartopy.crs as ccrs\n",
    "import cartopy.feature as cfeature\n",
    "import matplotlib.tri as tri\n",
    "import matplotlib.pyplot as plt"
   ]
  },
  {
   "cell_type": "markdown",
   "metadata": {},
   "source": [
    "## Get Data from Server if not locally available yet"
   ]
  },
  {
   "cell_type": "code",
   "execution_count": null,
   "metadata": {},
   "outputs": [],
   "source": [
    "from ngallery_utils import DATASETS\n",
    "DATASETS.registry_files"
   ]
  },
  {
   "cell_type": "code",
   "execution_count": null,
   "metadata": {},
   "outputs": [],
   "source": [
    "%%time\n",
    "filePath = DATASETS.fetch(\"Oklahoma.static.nc\")\n",
    "filePath"
   ]
  },
  {
   "cell_type": "markdown",
   "metadata": {},
   "source": [
    "## Read data from MPAS file"
   ]
  },
  {
   "cell_type": "code",
   "execution_count": null,
   "metadata": {},
   "outputs": [],
   "source": [
    "ds = xr.open_dataset(filePath)\n",
    "\n",
    "# Remove singleton dimensions, such as Time.\n",
    "ds = ds.squeeze()\n",
    "ds"
   ]
  },
  {
   "cell_type": "markdown",
   "metadata": {},
   "source": [
    "## Convert to degrees from radians"
   ]
  },
  {
   "cell_type": "code",
   "execution_count": null,
   "metadata": {},
   "outputs": [],
   "source": [
    "lonData = np.degrees(ds.lonCell)\n",
    "latData = np.degrees(ds.latCell)\n",
    "\n",
    "# convert lonData to range [-180, 180]\n",
    "lonData = ((lonData + 180) % 360) - 180"
   ]
  },
  {
   "cell_type": "code",
   "execution_count": null,
   "metadata": {},
   "outputs": [],
   "source": [
    "(np.min(lonData), np.max(lonData))"
   ]
  },
  {
   "cell_type": "code",
   "execution_count": null,
   "metadata": {},
   "outputs": [],
   "source": [
    "(np.min(latData), np.max(latData))"
   ]
  },
  {
   "cell_type": "code",
   "execution_count": null,
   "metadata": {},
   "outputs": [],
   "source": [
    "triang = tri.Triangulation(lonData, latData)"
   ]
  },
  {
   "cell_type": "code",
   "execution_count": null,
   "metadata": {},
   "outputs": [],
   "source": [
    "plot_data = ds[\"ter\"]"
   ]
  },
  {
   "cell_type": "markdown",
   "metadata": {},
   "source": [
    "## Load colormap values and add alpha channel"
   ]
  },
  {
   "cell_type": "code",
   "execution_count": null,
   "metadata": {},
   "outputs": [],
   "source": [
    "from matplotlib.colors import ListedColormap\n",
    "cmap_file = \"./MPL_terrain.rgb\"\n",
    "cm_custom_values = np.loadtxt(cmap_file)\n",
    "(ncolors, nchannels) = cm_custom_values.shape\n",
    "(ncolors, nchannels)"
   ]
  },
  {
   "cell_type": "code",
   "execution_count": null,
   "metadata": {},
   "outputs": [],
   "source": [
    "cm_custom_rgba = np.hstack( (cm_custom_values, np.ones( (ncolors,1) )) )\n",
    "cm_custom_rgba.shape"
   ]
  },
  {
   "cell_type": "code",
   "execution_count": null,
   "metadata": {},
   "outputs": [],
   "source": [
    "cmap_custom = ListedColormap(cm_custom_rgba)"
   ]
  },
  {
   "cell_type": "markdown",
   "metadata": {},
   "source": [
    "## Produce Figure"
   ]
  },
  {
   "cell_type": "markdown",
   "metadata": {},
   "source": [
    "#### NOTE : First-time plotting may be slow, as in several minutes, since map features must be downloaded for the entire Earth."
   ]
  },
  {
   "cell_type": "code",
   "execution_count": null,
   "metadata": {},
   "outputs": [],
   "source": [
    "fig = plt.figure(figsize=(30,30))\n",
    "\n",
    "proj = ccrs.Orthographic(central_longitude=-97.4,central_latitude=35.1)\n",
    "\n",
    "ax = fig.add_subplot(1,1,1, projection = proj)\n",
    "\n",
    "# Set lat/lon bounding box and feature resolutions.  \n",
    "ax.set_extent([-107, -87, 25, 45])\n",
    "\n",
    "# Choose resolution of map features. \n",
    "# Note that these features are downloaded when plotting for the first time, and for the entire globe, \n",
    "#  so requesting high resolution can take several minutes.\n",
    "scale = '110m' # '50m' # '10m'\n",
    "\n",
    "\n",
    "ax.add_feature(cfeature.LAND.with_scale(scale))\n",
    "ax.add_feature(cfeature.OCEAN.with_scale(scale))\n",
    "ax.add_feature(cfeature.STATES.with_scale(scale))\n",
    "ax.add_feature(cfeature.LAKES.with_scale(scale), alpha=0.5)\n",
    "ax.add_feature(cfeature.COASTLINE.with_scale(scale))\n",
    "\n",
    "# Specify data range for colormap\n",
    "(colormin, colormax) = (-31, 4000)\n",
    "\n",
    "mm = ax.tripcolor(triang, plot_data, edgecolors='none', transform=ccrs.PlateCarree(), cmap=cmap_custom, vmin=colormin, vmax=colormax)\n",
    "\n",
    "plt.colorbar(mm, orientation='horizontal', pad=0.03)\n",
    "plt.title(f\"MPAS terrain height ({len(ds.lonCell)} cells)\", fontweight=\"bold\", fontsize=14)\n",
    "\n",
    "plt.show()"
   ]
  },
  {
   "cell_type": "markdown",
   "metadata": {},
   "source": [
    "## Save Figure to PNG File"
   ]
  },
  {
   "cell_type": "code",
   "execution_count": null,
   "metadata": {},
   "outputs": [],
   "source": [
    "fig.savefig('./plot_terrain.png')"
   ]
  }
 ],
 "metadata": {
  "kernelspec": {
   "display_name": "Python 3",
   "language": "python",
   "name": "python3"
  },
  "language_info": {
   "codemirror_mode": {
    "name": "ipython",
    "version": 3
   },
   "file_extension": ".py",
   "mimetype": "text/x-python",
   "name": "python",
   "nbconvert_exporter": "python",
   "pygments_lexer": "ipython3",
   "version": "3.8.6"
  }
 },
 "nbformat": 4,
 "nbformat_minor": 4
}
