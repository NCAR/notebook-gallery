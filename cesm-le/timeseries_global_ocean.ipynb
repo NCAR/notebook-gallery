{
 "cells": [
  {
   "cell_type": "code",
   "execution_count": 1,
   "metadata": {},
   "outputs": [],
   "source": [
    "%matplotlib inline\n",
    "import os\n",
    "import importlib\n",
    "import yaml\n",
    "\n",
    "import xarray as xr\n",
    "import numpy as np\n",
    "\n",
    "import intake\n",
    "import intake_esm\n",
    "import esmlab\n",
    "import xcollection as xc\n",
    "\n",
    "import pop_tools  # TODO: develop into new package\n",
    "import esmlab_stats_dev  # TODO: push this into esmlab\n",
    "\n",
    "import config"
   ]
  },
  {
   "cell_type": "code",
   "execution_count": 2,
   "metadata": {},
   "outputs": [
    {
     "name": "stderr",
     "output_type": "stream",
     "text": [
      "/glade/work/mclong/miniconda3/envs/notebook-gallery/lib/python3.6/site-packages/distributed/bokeh/core.py:57: UserWarning: \n",
      "Port 8787 is already in use. \n",
      "Perhaps you already have a cluster running?\n",
      "Hosting the diagnostics dashboard on a random port instead.\n",
      "  warnings.warn('\\n' + msg)\n"
     ]
    }
   ],
   "source": [
    "USER = os.environ['USER']\n",
    "import dask\n",
    "from dask.distributed import Client\n",
    "from dask_jobqueue import PBSCluster\n",
    "\n",
    "Nnodes = 4\n",
    "processes = 18\n",
    "project = 'NCGD0011'\n",
    "\n",
    "cluster = PBSCluster(queue='regular',\n",
    "                     cores = 18,\n",
    "                     processes = processes,\n",
    "                     memory = '100GB',          \n",
    "                     project = project,\n",
    "                     walltime = '04:00:00',\n",
    "                     local_directory=f'/glade/scratch/{USER}/dask-tmp')\n",
    "client = Client(cluster)\n",
    "\n",
    "cluster.scale(processes*Nnodes)"
   ]
  },
  {
   "cell_type": "code",
   "execution_count": 3,
   "metadata": {},
   "outputs": [
    {
     "data": {
      "text/plain": [
       "{'database_directory': '/glade/work/mclong/intake-collections',\n",
       " 'cache_directory': '/glade/scratch/mclong/intake-cesm-data'}"
      ]
     },
     "execution_count": 3,
     "metadata": {},
     "output_type": "execute_result"
    }
   ],
   "source": [
    "intake_esm.get_options()"
   ]
  },
  {
   "cell_type": "code",
   "execution_count": 4,
   "metadata": {},
   "outputs": [
    {
     "data": {
      "text/plain": [
       "{'cache_directory': '/glade/scratch/mclong/notebook-gallery-data'}"
      ]
     },
     "execution_count": 4,
     "metadata": {},
     "output_type": "execute_result"
    }
   ],
   "source": [
    "xc.get_options()"
   ]
  },
  {
   "cell_type": "code",
   "execution_count": 5,
   "metadata": {},
   "outputs": [
    {
     "name": "stdout",
     "output_type": "stream",
     "text": [
      "<class 'pandas.core.frame.DataFrame'>\n",
      "Int64Index: 262092 entries, 0 to 262091\n",
      "Data columns (total 18 columns):\n",
      "resource            262092 non-null object\n",
      "resource_type       262092 non-null object\n",
      "direct_access       262092 non-null bool\n",
      "experiment          262092 non-null object\n",
      "case                262092 non-null object\n",
      "component           262092 non-null object\n",
      "stream              262092 non-null object\n",
      "variable            262092 non-null object\n",
      "date_range          262092 non-null object\n",
      "ensemble            262092 non-null int64\n",
      "files               262092 non-null object\n",
      "files_basename      262092 non-null object\n",
      "files_dirname       262092 non-null object\n",
      "ctrl_branch_year    0 non-null float64\n",
      "year_offset         34112 non-null float64\n",
      "sequence_order      262092 non-null int64\n",
      "has_ocean_bgc       262092 non-null bool\n",
      "grid                52764 non-null object\n",
      "dtypes: bool(2), float64(2), int64(2), object(12)\n",
      "memory usage: 34.5+ MB\n"
     ]
    }
   ],
   "source": [
    "col = intake.open_cesm_metadatastore('cesm1_le')\n",
    "col.df.info()"
   ]
  },
  {
   "cell_type": "code",
   "execution_count": 6,
   "metadata": {},
   "outputs": [],
   "source": [
    "experiments = ['20C', 'RCP85']\n",
    "ensembles = col.search(experiment=experiments, has_ocean_bgc=True).results.ensemble.unique().tolist()"
   ]
  },
  {
   "cell_type": "code",
   "execution_count": 7,
   "metadata": {},
   "outputs": [],
   "source": [
    "query_base = dict(experiment=experiments, ensemble=ensembles, stream='pop.h')      \n",
    "resource_constraints = dict(resource='GLADE:posix:/glade/collections/cdg/data/cesmLE/CESM-CAM5-BGC-LE')\n"
   ]
  },
  {
   "cell_type": "code",
   "execution_count": 8,
   "metadata": {},
   "outputs": [],
   "source": [
    "recipes = 'analysis_recipes.yml'\n",
    "with open('analysis_recipes.yml') as fid:\n",
    "    recipes = yaml.load(fid)"
   ]
  },
  {
   "cell_type": "markdown",
   "metadata": {},
   "source": [
    "## compute global means"
   ]
  },
  {
   "cell_type": "code",
   "execution_count": 9,
   "metadata": {},
   "outputs": [
    {
     "name": "stdout",
     "output_type": "stream",
     "text": [
      "CPU times: user 37min 54s, sys: 1min 47s, total: 39min 42s\n",
      "Wall time: 49min 59s\n"
     ]
    }
   ],
   "source": [
    "%%time\n",
    "analysis_list = ['global_avg']\n",
    "\n",
    "variable_list = ['O2']\n",
    "\n",
    "for analysis in analysis_list:\n",
    "    # TODO: implement hash-namer inside xcollection\n",
    "    namer = lambda q: '.'.join(['cesm1_le', '+'.join(q['experiment']), q['variable'], analysis])\n",
    "    for v in variable_list:\n",
    "        query = {**dict(variable=v), **query_base, **resource_constraints}\n",
    "        dc = xc.analyzed_collection(collection='cesm1_le',\n",
    "                                    analysis_recipe=recipes[analysis],\n",
    "                                    analysis_name=namer(query),\n",
    "                                    overwrite_existing=False,\n",
    "                                    file_format=\"nc\",\n",
    "                                    **query)\n"
   ]
  },
  {
   "cell_type": "code",
   "execution_count": 10,
   "metadata": {},
   "outputs": [],
   "source": [
    "%load_ext watermark"
   ]
  },
  {
   "cell_type": "code",
   "execution_count": 11,
   "metadata": {},
   "outputs": [
    {
     "name": "stdout",
     "output_type": "stream",
     "text": [
      "xarray      0.11.3\n",
      "intake      0.4.1\n",
      "esmlab      v2019.2.1+5.g538185f\n",
      "xcollection v0.10+16.gcfaf6ad\n",
      "intake_esm  v2019.2.0+87.gbadcef2\n",
      "numpy       1.16.1\n",
      "dask        1.1.1\n",
      "yaml        3.13\n",
      "last updated: 2019-02-15 \n",
      "\n",
      "CPython 3.6.7\n",
      "IPython 7.1.1\n",
      "\n",
      "compiler   : GCC 7.3.0\n",
      "system     : Linux\n",
      "release    : 3.12.62-60.64.8-default\n",
      "machine    : x86_64\n",
      "processor  : x86_64\n",
      "CPU cores  : 72\n",
      "interpreter: 64bit\n",
      "host name  : r6i6n30\n",
      "Git hash   : 6022ab65cb887e512b489ab2d05bf6b979a0a985\n"
     ]
    }
   ],
   "source": [
    "%watermark --iversion -g -h -m -v -u -d"
   ]
  },
  {
   "cell_type": "code",
   "execution_count": null,
   "metadata": {},
   "outputs": [],
   "source": []
  }
 ],
 "metadata": {
  "kernelspec": {
   "display_name": "Python [conda env:notebook-gallery]",
   "language": "python",
   "name": "conda-env-notebook-gallery-py"
  },
  "language_info": {
   "codemirror_mode": {
    "name": "ipython",
    "version": 3
   },
   "file_extension": ".py",
   "mimetype": "text/x-python",
   "name": "python",
   "nbconvert_exporter": "python",
   "pygments_lexer": "ipython3",
   "version": "3.6.7"
  }
 },
 "nbformat": 4,
 "nbformat_minor": 2
}
