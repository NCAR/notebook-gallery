{
 "cells": [
  {
   "cell_type": "markdown",
   "metadata": {
    "toc": true
   },
   "source": [
    "<h1>Table of Contents<span class=\"tocSkip\"></span></h1>\n",
    "<div class=\"toc\"><ul class=\"toc-item\"><li><span><a href=\"#Plot-of-Surface-Pressure-on-MPAS-grid\" data-toc-modified-id=\"Plot-of-Surface-Pressure-on-MPAS-grid-1\"><span class=\"toc-item-num\">1&nbsp;&nbsp;</span>Plot of Surface Pressure on MPAS grid</a></span><ul class=\"toc-item\"><li><span><a href=\"#Get-Data\" data-toc-modified-id=\"Get-Data-1.1\"><span class=\"toc-item-num\">1.1&nbsp;&nbsp;</span>Get Data</a></span></li><li><span><a href=\"#Read-Data-from-MPAS-Grid\" data-toc-modified-id=\"Read-Data-from-MPAS-Grid-1.2\"><span class=\"toc-item-num\">1.2&nbsp;&nbsp;</span>Read Data from MPAS Grid</a></span></li><li><span><a href=\"#Convert-to-degrees-from-radians\" data-toc-modified-id=\"Convert-to-degrees-from-radians-1.3\"><span class=\"toc-item-num\">1.3&nbsp;&nbsp;</span>Convert to degrees from radians</a></span></li><li><span><a href=\"#Global-tripcolor-plot\" data-toc-modified-id=\"Global-tripcolor-plot-1.4\"><span class=\"toc-item-num\">1.4&nbsp;&nbsp;</span>Global tripcolor plot</a></span></li></ul></li></ul></div>"
   ]
  },
  {
   "cell_type": "markdown",
   "metadata": {},
   "source": [
    "# Plot of Surface Pressure on MPAS grid"
   ]
  },
  {
   "cell_type": "code",
   "execution_count": null,
   "metadata": {},
   "outputs": [],
   "source": [
    "%matplotlib inline\n",
    "import xarray as xr\n",
    "import numpy as np\n",
    "import cartopy.crs as ccrs\n",
    "import matplotlib.tri as tri\n",
    "import matplotlib.pyplot as plt\n",
    "from cartopy.mpl.gridliner import LONGITUDE_FORMATTER, LATITUDE_FORMATTER"
   ]
  },
  {
   "cell_type": "markdown",
   "metadata": {},
   "source": [
    "## Get Data"
   ]
  },
  {
   "cell_type": "code",
   "execution_count": null,
   "metadata": {},
   "outputs": [],
   "source": [
    "from ngallery_utils import DATASETS\n",
    "DATASETS.registry_files"
   ]
  },
  {
   "cell_type": "code",
   "execution_count": null,
   "metadata": {},
   "outputs": [],
   "source": [
    "path = DATASETS.fetch(\"MPAS.nc\")"
   ]
  },
  {
   "cell_type": "markdown",
   "metadata": {},
   "source": [
    "## Read Data from MPAS Grid"
   ]
  },
  {
   "cell_type": "code",
   "execution_count": null,
   "metadata": {},
   "outputs": [],
   "source": [
    "ds = xr.open_dataset(path)\n",
    "ds = ds.squeeze()\n",
    "ds"
   ]
  },
  {
   "cell_type": "code",
   "execution_count": null,
   "metadata": {},
   "outputs": [],
   "source": [
    "# Not sure what the pressure units are, there's not much metadata info on this file\n",
    "ds[\"surface_pressure\"] = ds[\"surface_pressure\"] / 1000."
   ]
  },
  {
   "cell_type": "markdown",
   "metadata": {},
   "source": [
    "## Convert to degrees from radians"
   ]
  },
  {
   "cell_type": "code",
   "execution_count": null,
   "metadata": {},
   "outputs": [],
   "source": [
    "ds[\"lonCell\"] = np.degrees(ds.lonCell)\n",
    "ds[\"latCell\"] = np.degrees(ds.latCell)"
   ]
  },
  {
   "cell_type": "markdown",
   "metadata": {},
   "source": [
    "## Global tripcolor plot"
   ]
  },
  {
   "cell_type": "code",
   "execution_count": null,
   "metadata": {},
   "outputs": [],
   "source": [
    "# Add cyclic point before computing the triangulation\n",
    "ds[\"lonCell\"] = ((ds[\"lonCell\"] + 180) % 360) - 180\n",
    "triang = tri.Triangulation(ds.lonCell, ds.latCell)"
   ]
  },
  {
   "cell_type": "code",
   "execution_count": null,
   "metadata": {},
   "outputs": [],
   "source": [
    "import cmaps as cm  # for NCL colormaps"
   ]
  },
  {
   "cell_type": "code",
   "execution_count": null,
   "metadata": {},
   "outputs": [],
   "source": [
    "# Don't use white by cutting out the first section of the colormap\n",
    "from matplotlib.colors import LinearSegmentedColormap\n",
    "interval = np.hstack([np.linspace(0.15, 1)])\n",
    "colors = cm.WhiteBlueGreenYellowRed(interval)\n",
    "c = LinearSegmentedColormap.from_list('name', colors)"
   ]
  },
  {
   "cell_type": "code",
   "execution_count": null,
   "metadata": {},
   "outputs": [],
   "source": [
    "%%time\n",
    "\n",
    "fig = plt.figure(figsize=(13, 13))\n",
    "ax = plt.subplot(111, projection=ccrs.PlateCarree())\n",
    "mm = ax.tripcolor(triang,\n",
    "                  ds.surface_pressure,\n",
    "                  edgecolors='k',\n",
    "                  lw=0.01,\n",
    "                  alpha=1,\n",
    "                  transform=ccrs.PlateCarree(),\n",
    "                  cmap=c,\n",
    "                  vmin=55.0,\n",
    "                  vmax=100.)\n",
    "ax.set_global()\n",
    "ax.coastlines(lw=1.5, resolution='110m')\n",
    "gl = ax.gridlines(draw_labels=True)\n",
    "gl.xformatter = LONGITUDE_FORMATTER\n",
    "gl.yformatter = LATITUDE_FORMATTER\n",
    "gl.xlabels_top = gl.ylabels_right = False\n",
    "gl.xlines = gl.ylines = False\n",
    "plt.colorbar(mm, orientation='horizontal', pad=0.03)\n",
    "plt.title(f\"Surface pressure on MPAS grid ({len(ds.lonCell)} cells)\",\n",
    "          fontweight=\"bold\",\n",
    "          fontsize=14)\n",
    "\n",
    "plt.show()"
   ]
  },
  {
   "cell_type": "markdown",
   "metadata": {},
   "source": [
    "\n",
    "-------------\n",
    "\n",
    "**NCL Script**: https://www.ncl.ucar.edu/Applications/Scripts/mpas_1.ncl\n",
    "\n",
    "**NCL Plot**:\n",
    "\n",
    "![](https://www.ncl.ucar.edu/Applications/Images/mpas_1_lg.png)"
   ]
  },
  {
   "cell_type": "code",
   "execution_count": null,
   "metadata": {},
   "outputs": [],
   "source": [
    "%load_ext watermark\n",
    "%watermark -ud -iv -m -g -h"
   ]
  }
 ],
 "metadata": {
  "kernelspec": {
   "display_name": "Python 3",
   "language": "python",
   "name": "python3"
  },
  "language_info": {
   "codemirror_mode": {
    "name": "ipython",
    "version": 3
   },
   "file_extension": ".py",
   "mimetype": "text/x-python",
   "name": "python",
   "nbconvert_exporter": "python",
   "pygments_lexer": "ipython3",
   "version": "3.8.6"
  },
  "toc": {
   "base_numbering": 1,
   "nav_menu": {},
   "number_sections": true,
   "sideBar": true,
   "skip_h1_title": false,
   "title_cell": "Table of Contents",
   "title_sidebar": "Contents",
   "toc_cell": true,
   "toc_position": {},
   "toc_section_display": true,
   "toc_window_display": true
  }
 },
 "nbformat": 4,
 "nbformat_minor": 4
}
