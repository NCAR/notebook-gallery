{
 "cells": [
  {
   "cell_type": "markdown",
   "metadata": {},
   "source": [
    "# Exploring Panel Widgets\n",
    "\n",
    "Here we test connecting widgets to plots."
   ]
  },
  {
   "cell_type": "code",
   "execution_count": null,
   "metadata": {},
   "outputs": [],
   "source": [
    "import param\n",
    "import numpy as np \n",
    "import pandas as pd\n",
    "import panel as pn\n",
    "\n",
    "import altair as alt\n",
    "import plotly.graph_objs as go\n",
    "import matplotlib.pyplot as plt\n",
    "import hvplot.pandas\n",
    "import holoviews as hv\n",
    "from bokeh.models.formatters import DatetimeTickFormatter\n",
    "from holoviews import opts\n",
    "\n",
    "hv.extension('bokeh')\n",
    "\n",
    "#pn.extension('vega', 'plotly')\n",
    "pn.extension()"
   ]
  },
  {
   "cell_type": "code",
   "execution_count": null,
   "metadata": {},
   "outputs": [],
   "source": [
    "formatter = DatetimeTickFormatter(months='%b')"
   ]
  },
  {
   "cell_type": "code",
   "execution_count": null,
   "metadata": {},
   "outputs": [],
   "source": [
    "# Styles and plot options used in this user guide\n",
    "opts.defaults(\n",
    "    opts.Area(fill_color='cornsilk', line_width=1,\n",
    "              line_color='black'),\n",
    "    opts.Ellipse(bgcolor='white', color='black'),\n",
    "    opts.HLine(color='red', line_width=2))"
   ]
  },
  {
   "cell_type": "code",
   "execution_count": null,
   "metadata": {},
   "outputs": [],
   "source": []
  },
  {
   "cell_type": "code",
   "execution_count": null,
   "metadata": {},
   "outputs": [],
   "source": []
  },
  {
   "cell_type": "code",
   "execution_count": null,
   "metadata": {},
   "outputs": [],
   "source": [
    "# Do this to plot data binned by month.\n",
    "#sst.hvplot.violin(by='index.month')"
   ]
  },
  {
   "cell_type": "code",
   "execution_count": null,
   "metadata": {},
   "outputs": [],
   "source": []
  },
  {
   "cell_type": "code",
   "execution_count": null,
   "metadata": {},
   "outputs": [],
   "source": []
  },
  {
   "cell_type": "code",
   "execution_count": null,
   "metadata": {},
   "outputs": [],
   "source": [
    "#%%time\n",
    "#data_1990 = pd.read_csv('./Boulder_TMAX_1990.csv')\n"
   ]
  },
  {
   "cell_type": "code",
   "execution_count": null,
   "metadata": {},
   "outputs": [],
   "source": [
    "#data_1990.resample('W', label='left').sum()"
   ]
  },
  {
   "cell_type": "code",
   "execution_count": null,
   "metadata": {},
   "outputs": [],
   "source": [
    "#datasets = {}\n",
    "#datasets['1990'] = data_1990.pivot_table(index='time', columns='member_id', values='TREFHT')\n",
    "#datasets['2090'] = data_2090.pivot_table(index='time', columns='member_id', values='TREFHT')\n",
    "#datasets"
   ]
  },
  {
   "cell_type": "code",
   "execution_count": null,
   "metadata": {},
   "outputs": [],
   "source": [
    "#print(data_1990.info())"
   ]
  },
  {
   "cell_type": "code",
   "execution_count": null,
   "metadata": {},
   "outputs": [],
   "source": [
    "#data_1990.groupby('time')['TREFHTMX'].agg([np.min,np.max])"
   ]
  },
  {
   "cell_type": "code",
   "execution_count": null,
   "metadata": {},
   "outputs": [],
   "source": [
    "#data_1990.head()"
   ]
  },
  {
   "cell_type": "code",
   "execution_count": null,
   "metadata": {},
   "outputs": [],
   "source": [
    "#for label, content in datasets['1990'].items():\n",
    "#    print(content.to_numpy())"
   ]
  },
  {
   "cell_type": "code",
   "execution_count": null,
   "metadata": {},
   "outputs": [],
   "source": [
    "#def threshold_line(thresh):\n",
    "#    return hv.HLine(thresh) \n",
    "#\n",
    "#threshold = hv.DynamicMap(threshold_line, kdims='thresh').redim.range(t=(-40,120))\n",
    "\n"
   ]
  },
  {
   "cell_type": "code",
   "execution_count": null,
   "metadata": {},
   "outputs": [],
   "source": [
    "class CityPlanner(param.Parameterized):\n",
    "    yearLeft = param.ObjectSelector(default=1990, objects=np.arange(1920, 2101, 10))\n",
    "    yearRight = param.ObjectSelector(default=2090, objects=np.arange(1920, 2101, 10))\n",
    "    plot_type = param.ObjectSelector(default=\"line\", objects=[\"mean + spread\", \"median + spread\", \"line\", \"scatter\", \"violin\"])\n",
    "    city = param.ObjectSelector(default=\"Boulder\", objects=[\"Boulder\", \"Austin\", \"Chicago\"])\n",
    "    bin_size = param.ObjectSelector(default=\"week\", objects=[\"day\", \"week\", \"month\"])\n",
    "    units = param.ObjectSelector(default=\"Fahrenheit\", objects=[\"Fahrenheit\", \"Celsius\", \"Kelvins\"])\n",
    "    show_legend = param.Boolean(default=False)\n",
    "    show_grid = param.Boolean(default=True)\n",
    "\n",
    "    def get_data(self, isLeft):\n",
    "        if isLeft:\n",
    "            year = self.yearLeft\n",
    "        else:\n",
    "            year = self.yearRight\n",
    "        df = pd.read_csv(f'./{self.city}_TMAX_{year}.csv')\n",
    "        df['time'] = pd.to_datetime(df['time'])\n",
    "        year_delta = 2000 - year\n",
    "        df['time'] = df['time'].apply(lambda x: x + pd.DateOffset(years=year_delta))\n",
    "        data = df.pivot_table(index='time', columns='member_id', values='TREFHTMX')\n",
    "        #print(data.head())\n",
    "        return data, year\n",
    "    \n",
    "    def merge_columns(self, data):\n",
    "        data = data.reset_index()\n",
    "        dat2 = pd.melt(data, id_vars='time')\n",
    "        dat2.index = dat2['time']\n",
    "        dat2.drop(['time'], axis=1, inplace=True)\n",
    "        return dat2\n",
    "    \n",
    "    def resample(self,data):\n",
    "        if self.bin_size == 'week':\n",
    "            data = data.resample('W').mean()\n",
    "        elif self.bin_size == 'month':\n",
    "            data = data.resample('M').mean()\n",
    "        return data\n",
    "    \n",
    "    def temp_convert(self, data):\n",
    "        if self.units == \"Fahrenheit\":\n",
    "            data = (data - 273.0) * (9.0/5.0) + 32.0\n",
    "        elif self.units == \"Celsius\":\n",
    "            data -= 273.0\n",
    "        else:\n",
    "            # Do nothing and return data in native units\n",
    "            pass\n",
    "        return data\n",
    "    \n",
    "    def hvplot_view_left(self):\n",
    "        plot = self.hvplot_helper(True)\n",
    "        return plot\n",
    "    \n",
    "    def hvplot_view_right(self):\n",
    "        plot = self.hvplot_helper(False)\n",
    "        return plot\n",
    "    \n",
    "    def hvplot_helper(self, isLeft):\n",
    "        (data, year)  = self.get_data(isLeft)\n",
    "        # Convert to the selected units\n",
    "        data = self.temp_convert(data)\n",
    "        title = f'{self.city} Max Temperature'\n",
    "        ylabel = self.units\n",
    "        xlabel = f'{year}'\n",
    "        font_bump = '140%'\n",
    "        columnIntegers = data.columns[1:].values.tolist()\n",
    "        columnLabels = [str(x) for x in columnIntegers]\n",
    "        bin_label = 'index.' + self.bin_size\n",
    "\n",
    "        if self.plot_type == \"mean + spread\":\n",
    "            data = self.resample(data)\n",
    "            data_stats = data.agg([np.min, np.max, np.mean], axis=1)\n",
    "            data_stats.index = data.index\n",
    "            plot = data_stats.hvplot.area(x='time',  y='amin', y2='amax', xformatter=formatter, title=title, \n",
    "                                          xlabel=xlabel, ylabel=ylabel, legend=self.show_legend, grid=self.show_grid, width=500, \n",
    "                                          height=400, alpha=0.4).opts(fontsize={'labels': font_bump}) * data_stats['mean'].hvplot(legend=self.show_legend) \n",
    "        elif self.plot_type == \"median + spread\":\n",
    "            data = self.resample(data)\n",
    "            data_stats = data.agg([np.min, np.max, np.median], axis=1)\n",
    "            data_stats.index = data.index\n",
    "            plot = data_stats.hvplot.area(x='time',  y='amin', y2='amax', xformatter=formatter, title=title, \n",
    "                                          xlabel=xlabel, ylabel=ylabel, legend=self.show_legend, grid=self.show_grid, width=500, \n",
    "                                          height=400, alpha=0.4).opts(fontsize={'labels': font_bump}) * data_stats['median'].hvplot(legend=self.show_legend)\n",
    "        elif self.plot_type == \"line\":\n",
    "            data = self.resample(data)\n",
    "            #print(data.head())\n",
    "            plot  = data.hvplot.line(x='time', y=columnLabels, xformatter=formatter, title=title, \n",
    "                                     xlabel=xlabel, ylabel=ylabel, legend=self.show_legend, grid=self.show_grid, width=500, \n",
    "                                     height=400).opts(fontsize={'labels': font_bump})            \n",
    "        elif self.plot_type == \"violin\":\n",
    "            \n",
    "            dat2 = self.merge_columns(data)\n",
    "            #print(dat2.head())\n",
    "            plot  = dat2.hvplot.violin(by=bin_label, y='value', title=title, \n",
    "                                       xlabel=xlabel, ylabel=ylabel, legend=self.show_legend, grid=self.show_grid, width=500, \n",
    "                                       height=400).opts(fontsize={'labels': font_bump})\n",
    "        else:\n",
    "            data = self.resample(data)\n",
    "            plot  = data.hvplot.scatter(x='time', y=columnLabels, xformatter=formatter, title=title, \n",
    "                                        xlabel=xlabel, ylabel=ylabel, legend=self.show_legend, grid=self.show_grid, width=500, \n",
    "                                        height=400) \n",
    "        return plot\n",
    "    \n",
    "gm = CityPlanner(name='')"
   ]
  },
  {
   "cell_type": "code",
   "execution_count": null,
   "metadata": {},
   "outputs": [],
   "source": [
    "pn.Column(gm.param,\n",
    "          pn.Row(gm.hvplot_view_left,    gm.hvplot_view_right))"
   ]
  },
  {
   "cell_type": "code",
   "execution_count": null,
   "metadata": {},
   "outputs": [],
   "source": [
    "logo  = \"\"\"<a href=\"http://panel.pyviz.org\">\n",
    "           <img src=\"https://panel.pyviz.org/_static/logo_stacked.png\" \n",
    "            width=100 height=80 align=\"left\" margin=20px>\"\"\"\n",
    "title = '<h2>City Planner Climate Explorer</h2>'\n",
    "\n",
    "desc = pn.pane.HTML(\"\"\"\n",
    "    The <a href=\"http://panel.pyviz.org\">Panel</a> library from <a href=\"http://pyviz.org\">PyViz</a> \n",
    "    lets you make widget-controlled apps and dashboards from a wide variety of \n",
    "    plotting libraries and data types. \"\"\", width=250)\n",
    "\n",
    "pn.Row(pn.Column(logo, title, desc, pn.panel(gm.param)),\n",
    "                 pn.Row(gm.hvplot_view_left,    gm.hvplot_view_right)).servable()"
   ]
  },
  {
   "cell_type": "code",
   "execution_count": null,
   "metadata": {},
   "outputs": [],
   "source": []
  }
 ],
 "metadata": {
  "kernelspec": {
   "display_name": "Python 3",
   "language": "python",
   "name": "python3"
  },
  "language_info": {
   "codemirror_mode": {
    "name": "ipython",
    "version": 3
   },
   "file_extension": ".py",
   "mimetype": "text/x-python",
   "name": "python",
   "nbconvert_exporter": "python",
   "pygments_lexer": "ipython3",
   "version": "3.8.2"
  }
 },
 "nbformat": 4,
 "nbformat_minor": 4
}
