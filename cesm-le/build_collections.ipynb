{
 "cells": [
  {
   "cell_type": "markdown",
   "metadata": {},
   "source": [
    "# build a database of CESM-LE files"
   ]
  },
  {
   "cell_type": "code",
   "execution_count": 1,
   "metadata": {},
   "outputs": [],
   "source": [
    "import intake\n",
    "import intake_esm\n",
    "import yaml\n",
    "\n",
    "import sys\n",
    "\n",
    "import pandas as pd\n",
    "\n",
    "import os\n",
    "from subprocess import check_call\n",
    "\n",
    "import config"
   ]
  },
  {
   "cell_type": "markdown",
   "metadata": {},
   "source": [
    "show the directories to store database and cached files (set in .config-intake-cesm.yml)"
   ]
  },
  {
   "cell_type": "code",
   "execution_count": 2,
   "metadata": {},
   "outputs": [
    {
     "data": {
      "text/plain": [
       "{'database_directory': '/glade/work/mclong/intake-collections',\n",
       " 'cache_directory': '/glade/scratch/mclong/intake-cesm-data'}"
      ]
     },
     "execution_count": 2,
     "metadata": {},
     "output_type": "execute_result"
    }
   ],
   "source": [
    "intake_esm.get_options()"
   ]
  },
  {
   "cell_type": "markdown",
   "metadata": {},
   "source": [
    "### query collection using intake plugin interface\n",
    "\n",
    "Connect to database"
   ]
  },
  {
   "cell_type": "code",
   "execution_count": 3,
   "metadata": {},
   "outputs": [
    {
     "data": {
      "text/plain": [
       "<Intake catalog: cesm1_le>"
      ]
     },
     "execution_count": 3,
     "metadata": {},
     "output_type": "execute_result"
    }
   ],
   "source": [
    "build_kwargs = dict(collection_input_file='intake-collection-input-cesm1_le.yml',\n",
    "                    collection_type_def_file='intake-cesm-definitions.yml',\n",
    "                    overwrite_existing=False, \n",
    "                    include_cache_dir=True)\n",
    "\n",
    "col = intake.open_cesm_metadatastore('cesm1_le', build_args=build_kwargs)\n",
    "col                     "
   ]
  },
  {
   "cell_type": "code",
   "execution_count": 4,
   "metadata": {},
   "outputs": [
    {
     "name": "stdout",
     "output_type": "stream",
     "text": [
      "<class 'pandas.core.frame.DataFrame'>\n",
      "Int64Index: 262092 entries, 0 to 262091\n",
      "Data columns (total 18 columns):\n",
      "resource            262092 non-null object\n",
      "resource_type       262092 non-null object\n",
      "direct_access       262092 non-null bool\n",
      "experiment          262092 non-null object\n",
      "case                262092 non-null object\n",
      "component           262092 non-null object\n",
      "stream              262092 non-null object\n",
      "variable            262092 non-null object\n",
      "date_range          262092 non-null object\n",
      "ensemble            262092 non-null int64\n",
      "files               262092 non-null object\n",
      "files_basename      262092 non-null object\n",
      "files_dirname       262092 non-null object\n",
      "ctrl_branch_year    0 non-null float64\n",
      "year_offset         34112 non-null float64\n",
      "sequence_order      262092 non-null int64\n",
      "has_ocean_bgc       262092 non-null bool\n",
      "grid                52764 non-null object\n",
      "dtypes: bool(2), float64(2), int64(2), object(12)\n",
      "memory usage: 34.5+ MB\n"
     ]
    }
   ],
   "source": [
    "col.df.info()"
   ]
  },
  {
   "cell_type": "markdown",
   "metadata": {},
   "source": [
    "Determine which ensembles have ocean biogeochemistry variables."
   ]
  },
  {
   "cell_type": "code",
   "execution_count": 5,
   "metadata": {},
   "outputs": [
    {
     "name": "stdout",
     "output_type": "stream",
     "text": [
      "[1, 2, 9, 10, 11, 12, 13, 14, 15, 16, 17, 18, 19, 20, 21, 22, 23, 24, 26, 27, 28, 29, 30, 31, 32, 34, 35, 101, 102, 103, 104, 105]\n"
     ]
    }
   ],
   "source": [
    "experiments=['20C', 'RCP85']\n",
    "ensembles = col.search(experiment=experiments, has_ocean_bgc=True).results.ensemble.unique().tolist()\n",
    "print(ensembles)\n"
   ]
  },
  {
   "cell_type": "markdown",
   "metadata": {},
   "source": [
    "Determine what ocean variables are available at monthly and daily resolution.  The POP model is not smart enough to write the same variable to two different streams, so it is not necessary to inclued `stream` in database queries for POP. We can, however, view all the variables defined in each stream."
   ]
  },
  {
   "cell_type": "code",
   "execution_count": 6,
   "metadata": {},
   "outputs": [
    {
     "name": "stdout",
     "output_type": "stream",
     "text": [
      "day: [CaCO3_form_zint, DpCO2_2, ECOSYS_IFRAC_2, ECOSYS_XKW_2, FG_CO2_2, HBLT_2, HMXL_2,\n",
      "  SSH_2, SST, SST2, STF_O2_2, TAUX_2, TAUY_2, WVEL_50m, XBLT_2, XMXL_2, diatC_zint_100m,\n",
      "  diatChl_SURF, diazC_zint_100m, diazChl_SURF, photoC_diat_zint, photoC_diaz_zint,\n",
      "  photoC_sp_zint, spC_zint_100m, spCaCO3_zint_100m, spChl_SURF, zooC_zint_100m]\n",
      "mon: [ADVS, ADVS_ISOP, ADVS_SUBM, ADVT, ADVT_ISOP, ADVT_SUBM, ALK, AOU, ATM_ALT_CO2,\n",
      "  ATM_CO2, BSF, CFC11, CFC12, CFC_ATM_PRESS, CFC_IFRAC, CFC_XKW, CO2STAR, CO3, CaCO3_FLUX_IN,\n",
      "  CaCO3_PROD, CaCO3_form, DCO2STAR, DCO2STAR_ALT_CO2, DENITRIF, DIA_DEPTH, DIA_IMPVF_CFC11,\n",
      "  DIA_IMPVF_CFC12, DIA_IMPVF_IAGE, DIA_IMPVF_SALT, DIA_IMPVF_TEMP, DIC, DIC_ALT_CO2,\n",
      "  DOC, DOC_prod, DOC_remin, DOFe, DOFe_prod, DON, DON_prod, DOP, DOP_prod, DpCO2,\n",
      "  DpCO2_ALT_CO2, ECOSYS_ATM_PRESS, ECOSYS_IFRAC, ECOSYS_XKW, EVAP_F, FG_ALT_CO2, FG_CO2,\n",
      "  FW, Fe, Fe_scavenge, Fe_scavenge_rate, FvICE_ALK, FvICE_DIC, FvPER_ALK, FvPER_DIC,\n",
      "  H2CO3, HBLT, HCO3, HDIFB_CFC11, HDIFB_CFC12, HDIFB_IAGE, HDIFB_SALT, HDIFB_TEMP,\n",
      "  HDIFE_CFC11, HDIFE_CFC12, HDIFE_IAGE, HDIFE_SALT, HDIFE_TEMP, HDIFN_CFC11, HDIFN_CFC12,\n",
      "  HDIFN_IAGE, HDIFN_SALT, HDIFN_TEMP, HDIFS, HDIFT, HLS_SUBM, HMXL, HOR_DIFF, IAGE,\n",
      "  IAGE_RESET_TEND, IFRAC, INT_DEPTH, IOFF_F, IRON_FLUX, J_DIC, Jint_100m_ALK, Jint_100m_DIC,\n",
      "  Jint_100m_DOC, Jint_100m_Fe, Jint_100m_NH4, Jint_100m_NO3, Jint_100m_O2, Jint_100m_PO4,\n",
      "  Jint_100m_SiO3, KAPPA_ISOP, KAPPA_THIC, KPP_SRC_CFC11, KPP_SRC_CFC12, KPP_SRC_SALT,\n",
      "  KPP_SRC_TEMP, KVMIX, KVMIX_M, LWDN_F, LWUP_F, MELTH_F, MELT_F, MOC, NH4, NHy_FLUX,\n",
      "  NITRIF, NO3, NOx_FLUX, N_HEAT, N_SALT, O2, O2SAT, O2_CONSUMPTION, O2_PRODUCTION,\n",
      "  O2_ZMIN, O2_ZMIN_DEPTH, PAR_avg, PD, PH, PH_ALT_CO2, PO4, POC_FLUX_IN, POC_PROD,\n",
      "  PREC_F, PV, P_iron_FLUX_IN, P_iron_PROD, Q, QFLUX, QSW_3D, QSW_HBL, QSW_HTP, RESID_S,\n",
      "  RESID_T, RHO, RHO_VINT, ROFF_F, SALT, SALT_F, SCHMIDT_CO2, SCHMIDT_O2, SENH_F, SFWF,\n",
      "  SFWF_WRST, SHF, SHF_QSW, SNOW_F, SSH, SSH2, SST, STF_CFC11, STF_CFC12, STF_O2, SU,\n",
      "  SV, SiO2_FLUX_IN, SiO2_PROD, SiO3, TAUX, TAUX2, TAUY, TAUY2, TBLT, TEMP, TFW_S,\n",
      "  TFW_T, TLT, TMXL, TPOWER, UES, UET, UE_CFC11, UE_CFC12, UE_IAGE, UISOP, USUBM, UVEL,\n",
      "  UVEL2, VDC_S, VDC_T, VISOP, VNS, VNS_ISOP, VNS_SUBM, VNT, VNT_ISOP, VNT_SUBM, VN_CFC11,\n",
      "  VN_CFC12, VN_IAGE, VSUBM, VVC, VVEL, VVEL2, WISOP, WSUBM, WTS, WTT, WT_CFC11, WT_CFC12,\n",
      "  WT_IAGE, WVEL, WVEL2, XBLT, XMXL, bSi_form, co3_sat_arag, co3_sat_calc, dTEMP_NEG_2D,\n",
      "  dTEMP_POS_2D, diatC, diatChl, diatFe, diatSi, diat_Fe_lim, diat_N_lim, diat_PO4_lim,\n",
      "  diat_SiO3_lim, diat_agg, diat_light_lim, diat_loss, diazC, diazChl, diazFe, diaz_Fe_lim,\n",
      "  diaz_Nfix, diaz_P_lim, diaz_light_lim, diaz_loss, graze_diat, graze_diaz, graze_sp,\n",
      "  pCO2SURF, pH_3D, photoC_NO3_diat, photoC_NO3_diat_zint, photoC_NO3_diaz, photoC_NO3_diaz_zint,\n",
      "  photoC_NO3_sp, photoC_NO3_sp_zint, photoC_diat, photoC_diaz, photoC_sp, spC, spCaCO3,\n",
      "  spChl, spFe, sp_Fe_lim, sp_N_lim, sp_PO4_lim, sp_agg, sp_light_lim, sp_loss, tend_zint_100m_ALK,\n",
      "  tend_zint_100m_DIC, tend_zint_100m_DIC_ALT_CO2, tend_zint_100m_DOC, tend_zint_100m_Fe,\n",
      "  tend_zint_100m_NH4, tend_zint_100m_NO3, tend_zint_100m_O2, tend_zint_100m_PO4, tend_zint_100m_SiO3,\n",
      "  zooC, zoo_loss, zsatarag, zsatcalc]\n",
      "\n"
     ]
    }
   ],
   "source": [
    "stream_def = {'mon': 'pop.h', 'day': ['pop.h.nday1', 'pop.h.ecosys.nday1']}\n",
    "\n",
    "all_variables = {'mon': col.search(component='ocn', stream=stream_def['mon']).results.variable.unique().tolist(), \n",
    "             'day': col.search(component='ocn', stream=stream_def['day']).results.variable.unique().tolist()}\n",
    "print(yaml.dump(all_variables))"
   ]
  },
  {
   "cell_type": "code",
   "execution_count": 7,
   "metadata": {},
   "outputs": [],
   "source": [
    "%load_ext watermark"
   ]
  },
  {
   "cell_type": "code",
   "execution_count": 8,
   "metadata": {},
   "outputs": [
    {
     "name": "stdout",
     "output_type": "stream",
     "text": [
      "intake     0.4.1\n",
      "pandas     0.24.1\n",
      "yaml       3.13\n",
      "intake_esm v2019.2.0+87.gbadcef2\n",
      "last updated: 2019-02-15 \n",
      "\n",
      "CPython 3.6.7\n",
      "IPython 7.1.1\n",
      "\n",
      "compiler   : GCC 7.3.0\n",
      "system     : Linux\n",
      "release    : 3.12.62-60.64.8-default\n",
      "machine    : x86_64\n",
      "processor  : x86_64\n",
      "CPU cores  : 72\n",
      "interpreter: 64bit\n",
      "host name  : r6i6n30\n",
      "Git hash   : 8e761764629eb94ca02fda92af1a5ea2524a6208\n"
     ]
    }
   ],
   "source": [
    "%watermark --iversion -g -h -m -v -u -d"
   ]
  },
  {
   "cell_type": "code",
   "execution_count": null,
   "metadata": {},
   "outputs": [],
   "source": []
  }
 ],
 "metadata": {
  "kernelspec": {
   "display_name": "Python [conda env:notebook-gallery]",
   "language": "python",
   "name": "conda-env-notebook-gallery-py"
  },
  "language_info": {
   "codemirror_mode": {
    "name": "ipython",
    "version": 3
   },
   "file_extension": ".py",
   "mimetype": "text/x-python",
   "name": "python",
   "nbconvert_exporter": "python",
   "pygments_lexer": "ipython3",
   "version": "3.6.7"
  }
 },
 "nbformat": 4,
 "nbformat_minor": 2
}
