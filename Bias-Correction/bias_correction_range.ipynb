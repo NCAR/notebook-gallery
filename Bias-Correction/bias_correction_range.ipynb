{
 "cells": [
  {
   "cell_type": "markdown",
   "metadata": {},
   "outputs": [],
   "source": [
    "## Set up Workspace"
   ]
  },
  {
   "cell_type": "code",
   "metadata": {},
   "outputs": [],
   "source": [
    "import xarray as xr\n",
    "import numpy as np\n",
    "import matplotlib.pyplot as plt\n",
    "from scipy import interpolate, stats\n",
    "import xesmf as xe\n",
    "from datetime import datetime, timedelta\n",
    "from ngallery_utils import DATASETS\n",
    "\n",
    "%matplotlib inline\n",
    "\n",
    "var = 'uas'"
   ]
  },
  {
   "cell_type": "markdown",
   "metadata": {},
   "outputs": [],
   "source": [
    "## Look at Data"
   ]
  },
  {
   "cell_type": "code",
   "metadata": {},
   "outputs": [],
   "source": [
    "hist_file = DATASETS.fetch(\"uas.hist.CanESM2.CRCM5-UQAM.day.NAM-44i.raw.Colorado.nc\")\n",
    "rcp85_file = DATASETS.fetch(\"uas.rcp85.CanESM2.CRCM5-UQAM.day.NAM-44i.raw.Colorado.nc\")\n",
    "meas_file = DATASETS.fetch(\"uas.gridMET.NAM-44i.Colorado.nc\")"
   ]
  },
  {
   "cell_type": "raw",
   "metadata": {},
   "outputs": [],
   "source": [
    "# Or if not on Cheyenne\n",
    "hist_file = DATASERTS.fetch(\"/uas.hist.CanESM2.CRCM5-UQAM.day.NAM-44i.raw.Colorado.nc\")\n",
    "rcp85_file = DATASERTS.fetch(\"/uas.rcp85.CanESM2.CRCM5-UQAM.day.NAM-44i.raw.Colorado.nc\")\n",
    "meas_file = DATASETS.fetch(\"uas.gridMET.NAM-44i.Colorado.nc\")"
   ]
  },
  {
   "cell_type": "code",
   "metadata": {},
   "outputs": [],
   "source": [
    "ds_hist = xr.open_dataset(hist_file)\n",
    "ds_hist"
   ]
  },
  {
   "cell_type": "code",
   "metadata": {},
   "outputs": [],
   "source": [
    "ds_hist[var].isel(time=0).plot.contourf(x=\"lon\", y=\"lat\", cmap=\"PRGn\", cbar_kwargs={\"label\": \"m/s\"})"
   ]
  },
  {
   "cell_type": "code",
   "metadata": {},
   "outputs": [],
   "source": [
    "ds_rcp85 = xr.open_dataset(rcp85_file)\n",
    "ds_rcp85"
   ]
  },
  {
   "cell_type": "code",
   "metadata": {},
   "outputs": [],
   "source": [
    "ds_rcp85[var].isel(time=0).plot.contourf(x=\"lon\", y=\"lat\", cmap=\"PRGn\", cbar_kwargs={\"label\": \"m/s\"})"
   ]
  },
  {
   "cell_type": "code",
   "metadata": {},
   "outputs": [],
   "source": [
    "ds_meas = xr.open_dataset(meas_file)\n",
    "ds_meas"
   ]
  },
  {
   "cell_type": "code",
   "metadata": {},
   "outputs": [],
   "source": [
    "ds_meas[var].isel(time=0).plot.contourf(x=\"lon\", y=\"lat\", cmap=\"PRGn\", cbar_kwargs={\"label\": \"m/s\"})"
   ]
  },
  {
   "cell_type": "markdown",
   "metadata": {},
   "outputs": [],
   "source": [
    "# Filter Data"
   ]
  },
  {
   "cell_type": "code",
   "metadata": {},
   "outputs": [],
   "source": [
    "wesn = [-110, -108, 39.5, 41.5]\n",
    "ds_meas_flt = ds_meas.sel(lon = slice(wesn[0], wesn[1]), lat = slice(wesn[2], wesn[3]))\n",
    "ds_hist_flt = ds_hist.sel(lon = slice(wesn[0], wesn[1]), lat = slice(wesn[2], wesn[3]))\n",
    "ds_rcp85_flt = ds_rcp85.sel(lon = slice(wesn[0], wesn[1]), lat = slice(wesn[2], wesn[3]))"
   ]
  },
  {
   "cell_type": "markdown",
   "metadata": {},
   "outputs": [],
   "source": [
    "## Align Time"
   ]
  },
  {
   "cell_type": "code",
   "metadata": {},
   "outputs": [],
   "source": [
    "ds_meas_noleap = ds_meas_flt.sel(time=~((ds_meas_flt.time.dt.dayofyear == 366) ))"
   ]
  },
  {
   "cell_type": "code",
   "metadata": {},
   "outputs": [],
   "source": [
    "def _cfnoleap_to_datetime(da):\n",
    "    datetimeindex = da.indexes['time'].to_datetimeindex()\n",
    "    ds = da#.to_dataset()\n",
    "    ds['time_dt']= ('time', datetimeindex)\n",
    "    ds = ds.swap_dims({'time': 'time_dt'})\n",
    "    assert len(da.time) == len(ds.time_dt)\n",
    "    return ds\n",
    "\n",
    "ds_hist_dt = _cfnoleap_to_datetime(ds_hist_flt)   \n",
    "ds_rcp85_dt = _cfnoleap_to_datetime(ds_rcp85_flt)  "
   ]
  },
  {
   "cell_type": "code",
   "metadata": {},
   "outputs": [],
   "source": [
    "def _regroup_models_bytime(ds_meas, ds_hist_dt, ds_rcp_dt):\n",
    "    t0_meas = ds_meas.time[0]\n",
    "    tn_meas = ds_meas.time[-1]\n",
    "    t0_fut = tn_meas.values + np.timedelta64(1, 'D')\n",
    "    \n",
    "    ds_past = ds_hist_dt.sel(time_dt = slice(t0_meas, tn_meas))\n",
    "    ds_past = ds_past.swap_dims({'time_dt':'time'})\n",
    "    \n",
    "    ds_fut_pt1 = ds_hist_dt.sel(time_dt = slice(t0_fut,None))\n",
    "    ds_fut = xr.concat([ds_fut_pt1[var], ds_rcp_dt[var]], 'time_dt')\n",
    "    ds_fut = ds_fut.swap_dims({'time_dt':'time'})\n",
    "    return ds_past, ds_fut\n",
    "\n",
    "ds_past, ds_fut = _regroup_models_bytime(ds_meas_noleap, ds_hist_dt, ds_rcp85_dt)"
   ]
  },
  {
   "cell_type": "markdown",
   "metadata": {},
   "outputs": [],
   "source": [
    "## Bias Correction\n",
    "  \n",
    "  Method is \"Range\", good for relative humididty. \n",
    "  Need upper and lower values for range\n",
    "  \n",
    "  Take the difference from hist and measured in upper and lower, apply that shift to the new upper and lower\n",
    "\n",
    "  result = (x_fut-lower_fut)/(upper_fut-lower_fut)\n",
    "\n",
    "  denormalize_result = result*(upper_new - lower_new) + lower_new\n",
    "\n",
    "It isn't min and max, but 0 and 100, relative humidity is dividded by 0 to range from 0 to 1 and then multiplied by 100 again."
   ]
  },
  {
   "cell_type": "code",
   "metadata": {},
   "outputs": [],
   "source": [
    "def _reshape(ds, window_width):\n",
    "    split = lambda g: (g.rename({'time': 'day'})\n",
    "                       .assign_coords(day=g.time.dt.dayofyear.values))\n",
    "    ds2 = ds.groupby('time.year').apply(split)\n",
    "    \n",
    "    early_Jans = ds2.isel(day = slice(None,window_width//2))\n",
    "    late_Decs = ds2.isel(day = slice(-window_width//2,None))\n",
    "    \n",
    "    ds3 = xr.concat([late_Decs,ds2,early_Jans],dim='day')\n",
    "    return ds3"
   ]
  },
  {
   "cell_type": "code",
   "execution_count": null,
   "metadata": {},
   "outputs": [],
   "source": [
    "def _calc_stats(ds, window_width):\n",
    "    ds_rsh = _reshape(ds, window_width)\n",
    "    \n",
    "    ds_rolled = ds_rsh.rolling(day=window_width, center=True).construct('win_day')\n",
    "    \n",
    "    n = window_width//2+1\n",
    "    ds_min = ds_rolled.min(dim=['year','win_day']).isel(day=slice(n,-n))\n",
    "    ds_max = ds_rolled.max(dim=['year','win_day']).isel(day=slice(n,-n))\n",
    "    \n",
    "    ds_avyear = ds_rsh.mean(dim=['year','day'])\n",
    "    ds_range = ((ds_avyear - ds_min) / (ds_max - ds_min))\n",
    "    return ds_min, ds_max, ds_range"
   ]
  },
  {
   "cell_type": "code",
   "execution_count": null,
   "metadata": {},
   "outputs": [],
   "source": [
    "window_width=31\n",
    "meas_min, meas_max, meas_range = _calc_stats(ds_meas_noleap, window_width)\n",
    "hist_min, hist_max, hist_range = _calc_stats(ds_past, window_width)"
   ]
  },
  {
   "cell_type": "code",
   "metadata": {},
   "outputs": [],
   "source": [
    "def _get_params(meas_min, meas_max, past_min, past_max):    \n",
    "    min_shift = meas_min - past_min\n",
    "    max_shift = meas_max - past_max\n",
    "    return min_shift, max_shift\n",
    "\n",
    "min_shift, max_shift = _get_params(meas_min, meas_max, hist_min, hist_max)"
   ]
  },
  {
   "cell_type": "code",
   "metadata": {},
   "outputs": [],
   "source": [
    "def _calc_fut_stats(ds_fut, window_width):\n",
    "    ds_rolled = ds_fut.rolling(time=window_width, center=True).construct('win_day')\n",
    "    \n",
    "    ds_min = ds_rolled.min(dim=['win_day'])\n",
    "    ds_max = ds_rolled.max(dim=['win_day'])\n",
    "    \n",
    "    ds_avyear = ds_fut.mean(dim=['time'])\n",
    "    ds_range = ((ds_avyear - ds_min) / (ds_max - ds_min))\n",
    "    return ds_min, ds_max, ds_range\n",
    "\n",
    "fut_min, fut_max, fut_range = _calc_fut_stats(ds_fut, window_width)"
   ]
  },
  {
   "cell_type": "code",
   "metadata": {},
   "outputs": [],
   "source": [
    "fut_min_bc = fut_min + min_shift\n",
    "fut_max_bc = fut_max + max_shift"
   ]
  },
  {
   "cell_type": "code",
   "metadata": {},
   "outputs": [],
   "source": [
    "fut_corrected = fut_range * (fut_max_bc - fut_min_bc) + fut_min_bc"
   ]
  },
  {
   "cell_type": "markdown",
   "metadata": {},
   "outputs": [],
   "source": [
    "# Visualize the Correction"
   ]
  },
  {
   "cell_type": "code",
   "metadata": {},
   "outputs": [],
   "source": [
    "def gaus(mean, std, doy):\n",
    "    a = mean.sel(day=doy)\n",
    "    mu = a.isel(lon = 0, lat = 0)\n",
    "\n",
    "    b =std.sel(day=doy)\n",
    "    sigma = b.isel(lon = 0, lat = 0)\n",
    "\n",
    "    x = np.linspace(mu - 3*sigma, mu + 3*sigma, 100)\n",
    "    y = stats.norm.pdf(x, mu, sigma)\n",
    "    return x, y"
   ]
  },
  {
   "cell_type": "code",
   "metadata": {},
   "outputs": [],
   "source": [
    "fut_typ_mean, fut_typ_std, fut_typ_zscore = _calc_stats(ds_fut, window_width)\n",
    "fut_typ_mean_bc = fut_typ_mean + shift\n",
    "fut_typ_std_bc = fut_typ_std * scale\n",
    "\n",
    "doy=20\n",
    "plt.figure()\n",
    "x,y = gaus(hist_mean[var], hist_std[var], doy)\n",
    "plt.plot(x, y, 'orange', label = 'historical model')\n",
    "x,y = gaus(meas_mean[var], meas_std[var], doy)\n",
    "plt.plot(x, y, 'red', label = 'measured')\n",
    "x,y = gaus(fut_typ_mean, fut_typ_std, doy)\n",
    "plt.plot(x, y, 'blue', label = 'raw future model')\n",
    "x,y = gaus(fut_typ_mean_bc[var], fut_typ_std_bc[var], doy)\n",
    "plt.plot(x, y, 'green', label = 'corrected future model')\n",
    "plt.legend()"
   ]
  }
 ],
 "metadata": {
  "kernelspec": {
   "display_name": "CMIP6 2019.10",
   "language": "python",
   "name": "cmip6-201910"
  },
  "language_info": {
   "codemirror_mode": {
    "name": "ipython",
    "version": 3
   },
   "file_extension": ".py",
   "mimetype": "text/x-python",
   "name": "python",
   "nbconvert_exporter": "python",
   "pygments_lexer": "ipython3",
   "version": "3.7.3"
  }
 },
 "nbformat": 4,
 "nbformat_minor": 4
}